{
 "cells": [
  {
   "cell_type": "code",
   "execution_count": 191,
   "metadata": {},
   "outputs": [],
   "source": [
    "import pandas as pd\n",
    "import numpy as np\n",
    "from matplotlib import pyplot as plt\n",
    "import seaborn as sns\n",
    "import statsmodels.formula.api as smf"
   ]
  },
  {
   "cell_type": "code",
   "execution_count": 192,
   "metadata": {},
   "outputs": [],
   "source": [
    "df = pd.read_csv('Class_16_17//Linear Regression Bank Loans//datasets//LoansData.csv')"
   ]
  },
  {
   "cell_type": "markdown",
   "metadata": {},
   "source": [
    "# PRE MODELING"
   ]
  },
  {
   "cell_type": "code",
   "execution_count": 193,
   "metadata": {},
   "outputs": [
    {
     "data": {
      "text/html": [
       "<div>\n",
       "<style scoped>\n",
       "    .dataframe tbody tr th:only-of-type {\n",
       "        vertical-align: middle;\n",
       "    }\n",
       "\n",
       "    .dataframe tbody tr th {\n",
       "        vertical-align: top;\n",
       "    }\n",
       "\n",
       "    .dataframe thead th {\n",
       "        text-align: right;\n",
       "    }\n",
       "</style>\n",
       "<table border=\"1\" class=\"dataframe\">\n",
       "  <thead>\n",
       "    <tr style=\"text-align: right;\">\n",
       "      <th></th>\n",
       "      <th>LoanID</th>\n",
       "      <th>Amount.Requested</th>\n",
       "      <th>Amount.Funded.By.Investors</th>\n",
       "      <th>Interest.Rate</th>\n",
       "      <th>Loan.Length</th>\n",
       "      <th>Loan.Purpose</th>\n",
       "      <th>Debt.To.Income.Ratio</th>\n",
       "      <th>State</th>\n",
       "      <th>Home.Ownership</th>\n",
       "      <th>Monthly.Income</th>\n",
       "      <th>FICO.Range</th>\n",
       "      <th>Open.CREDIT.Lines</th>\n",
       "      <th>Revolving.CREDIT.Balance</th>\n",
       "      <th>Inquiries.in.the.Last.6.Months</th>\n",
       "      <th>Employment.Length</th>\n",
       "    </tr>\n",
       "  </thead>\n",
       "  <tbody>\n",
       "    <tr>\n",
       "      <th>0</th>\n",
       "      <td>1</td>\n",
       "      <td>20000.0</td>\n",
       "      <td>20000.0</td>\n",
       "      <td>8.90%</td>\n",
       "      <td>36 months</td>\n",
       "      <td>debt_consolidation</td>\n",
       "      <td>14.90%</td>\n",
       "      <td>SC</td>\n",
       "      <td>MORTGAGE</td>\n",
       "      <td>6541.67</td>\n",
       "      <td>735-739</td>\n",
       "      <td>14.0</td>\n",
       "      <td>14272.0</td>\n",
       "      <td>2.0</td>\n",
       "      <td>&lt; 1 year</td>\n",
       "    </tr>\n",
       "    <tr>\n",
       "      <th>1</th>\n",
       "      <td>2</td>\n",
       "      <td>19200.0</td>\n",
       "      <td>19200.0</td>\n",
       "      <td>12.12%</td>\n",
       "      <td>36 months</td>\n",
       "      <td>debt_consolidation</td>\n",
       "      <td>28.36%</td>\n",
       "      <td>TX</td>\n",
       "      <td>MORTGAGE</td>\n",
       "      <td>4583.33</td>\n",
       "      <td>715-719</td>\n",
       "      <td>12.0</td>\n",
       "      <td>11140.0</td>\n",
       "      <td>1.0</td>\n",
       "      <td>2 years</td>\n",
       "    </tr>\n",
       "    <tr>\n",
       "      <th>2</th>\n",
       "      <td>3</td>\n",
       "      <td>35000.0</td>\n",
       "      <td>35000.0</td>\n",
       "      <td>21.98%</td>\n",
       "      <td>60 months</td>\n",
       "      <td>debt_consolidation</td>\n",
       "      <td>23.81%</td>\n",
       "      <td>CA</td>\n",
       "      <td>MORTGAGE</td>\n",
       "      <td>11500.00</td>\n",
       "      <td>690-694</td>\n",
       "      <td>14.0</td>\n",
       "      <td>21977.0</td>\n",
       "      <td>1.0</td>\n",
       "      <td>2 years</td>\n",
       "    </tr>\n",
       "    <tr>\n",
       "      <th>3</th>\n",
       "      <td>4</td>\n",
       "      <td>10000.0</td>\n",
       "      <td>9975.0</td>\n",
       "      <td>9.99%</td>\n",
       "      <td>36 months</td>\n",
       "      <td>debt_consolidation</td>\n",
       "      <td>14.30%</td>\n",
       "      <td>KS</td>\n",
       "      <td>MORTGAGE</td>\n",
       "      <td>3833.33</td>\n",
       "      <td>695-699</td>\n",
       "      <td>10.0</td>\n",
       "      <td>9346.0</td>\n",
       "      <td>0.0</td>\n",
       "      <td>5 years</td>\n",
       "    </tr>\n",
       "    <tr>\n",
       "      <th>4</th>\n",
       "      <td>5</td>\n",
       "      <td>12000.0</td>\n",
       "      <td>12000.0</td>\n",
       "      <td>11.71%</td>\n",
       "      <td>36 months</td>\n",
       "      <td>credit_card</td>\n",
       "      <td>18.78%</td>\n",
       "      <td>NJ</td>\n",
       "      <td>RENT</td>\n",
       "      <td>3195.00</td>\n",
       "      <td>695-699</td>\n",
       "      <td>11.0</td>\n",
       "      <td>14469.0</td>\n",
       "      <td>0.0</td>\n",
       "      <td>9 years</td>\n",
       "    </tr>\n",
       "  </tbody>\n",
       "</table>\n",
       "</div>"
      ],
      "text/plain": [
       "   LoanID  Amount.Requested  Amount.Funded.By.Investors Interest.Rate  \\\n",
       "0       1           20000.0                     20000.0         8.90%   \n",
       "1       2           19200.0                     19200.0        12.12%   \n",
       "2       3           35000.0                     35000.0        21.98%   \n",
       "3       4           10000.0                      9975.0         9.99%   \n",
       "4       5           12000.0                     12000.0        11.71%   \n",
       "\n",
       "  Loan.Length        Loan.Purpose Debt.To.Income.Ratio State Home.Ownership  \\\n",
       "0   36 months  debt_consolidation               14.90%    SC       MORTGAGE   \n",
       "1   36 months  debt_consolidation               28.36%    TX       MORTGAGE   \n",
       "2   60 months  debt_consolidation               23.81%    CA       MORTGAGE   \n",
       "3   36 months  debt_consolidation               14.30%    KS       MORTGAGE   \n",
       "4   36 months         credit_card               18.78%    NJ           RENT   \n",
       "\n",
       "   Monthly.Income FICO.Range  Open.CREDIT.Lines  Revolving.CREDIT.Balance  \\\n",
       "0         6541.67    735-739               14.0                   14272.0   \n",
       "1         4583.33    715-719               12.0                   11140.0   \n",
       "2        11500.00    690-694               14.0                   21977.0   \n",
       "3         3833.33    695-699               10.0                    9346.0   \n",
       "4         3195.00    695-699               11.0                   14469.0   \n",
       "\n",
       "   Inquiries.in.the.Last.6.Months Employment.Length  \n",
       "0                             2.0          < 1 year  \n",
       "1                             1.0           2 years  \n",
       "2                             1.0           2 years  \n",
       "3                             0.0           5 years  \n",
       "4                             0.0           9 years  "
      ]
     },
     "execution_count": 193,
     "metadata": {},
     "output_type": "execute_result"
    }
   ],
   "source": [
    "# Lookinf at the first and last few rows.\n",
    "\n",
    "df.head()"
   ]
  },
  {
   "cell_type": "code",
   "execution_count": 194,
   "metadata": {},
   "outputs": [
    {
     "data": {
      "text/html": [
       "<div>\n",
       "<style scoped>\n",
       "    .dataframe tbody tr th:only-of-type {\n",
       "        vertical-align: middle;\n",
       "    }\n",
       "\n",
       "    .dataframe tbody tr th {\n",
       "        vertical-align: top;\n",
       "    }\n",
       "\n",
       "    .dataframe thead th {\n",
       "        text-align: right;\n",
       "    }\n",
       "</style>\n",
       "<table border=\"1\" class=\"dataframe\">\n",
       "  <thead>\n",
       "    <tr style=\"text-align: right;\">\n",
       "      <th></th>\n",
       "      <th>LoanID</th>\n",
       "      <th>Amount.Requested</th>\n",
       "      <th>Amount.Funded.By.Investors</th>\n",
       "      <th>Interest.Rate</th>\n",
       "      <th>Loan.Length</th>\n",
       "      <th>Loan.Purpose</th>\n",
       "      <th>Debt.To.Income.Ratio</th>\n",
       "      <th>State</th>\n",
       "      <th>Home.Ownership</th>\n",
       "      <th>Monthly.Income</th>\n",
       "      <th>FICO.Range</th>\n",
       "      <th>Open.CREDIT.Lines</th>\n",
       "      <th>Revolving.CREDIT.Balance</th>\n",
       "      <th>Inquiries.in.the.Last.6.Months</th>\n",
       "      <th>Employment.Length</th>\n",
       "    </tr>\n",
       "  </thead>\n",
       "  <tbody>\n",
       "    <tr>\n",
       "      <th>2495</th>\n",
       "      <td>2496</td>\n",
       "      <td>30000.0</td>\n",
       "      <td>29950.00</td>\n",
       "      <td>16.77%</td>\n",
       "      <td>60 months</td>\n",
       "      <td>debt_consolidation</td>\n",
       "      <td>19.23%</td>\n",
       "      <td>NY</td>\n",
       "      <td>MORTGAGE</td>\n",
       "      <td>9250.00</td>\n",
       "      <td>705-709</td>\n",
       "      <td>15.0</td>\n",
       "      <td>45880.0</td>\n",
       "      <td>1.0</td>\n",
       "      <td>8 years</td>\n",
       "    </tr>\n",
       "    <tr>\n",
       "      <th>2496</th>\n",
       "      <td>2497</td>\n",
       "      <td>16000.0</td>\n",
       "      <td>16000.00</td>\n",
       "      <td>14.09%</td>\n",
       "      <td>60 months</td>\n",
       "      <td>home_improvement</td>\n",
       "      <td>21.54%</td>\n",
       "      <td>MD</td>\n",
       "      <td>OWN</td>\n",
       "      <td>8903.25</td>\n",
       "      <td>740-744</td>\n",
       "      <td>18.0</td>\n",
       "      <td>18898.0</td>\n",
       "      <td>1.0</td>\n",
       "      <td>10+ years</td>\n",
       "    </tr>\n",
       "    <tr>\n",
       "      <th>2497</th>\n",
       "      <td>2498</td>\n",
       "      <td>10000.0</td>\n",
       "      <td>10000.00</td>\n",
       "      <td>13.99%</td>\n",
       "      <td>36 months</td>\n",
       "      <td>debt_consolidation</td>\n",
       "      <td>4.89%</td>\n",
       "      <td>PA</td>\n",
       "      <td>MORTGAGE</td>\n",
       "      <td>2166.67</td>\n",
       "      <td>680-684</td>\n",
       "      <td>4.0</td>\n",
       "      <td>4544.0</td>\n",
       "      <td>0.0</td>\n",
       "      <td>10+ years</td>\n",
       "    </tr>\n",
       "    <tr>\n",
       "      <th>2498</th>\n",
       "      <td>2499</td>\n",
       "      <td>6000.0</td>\n",
       "      <td>6000.00</td>\n",
       "      <td>12.42%</td>\n",
       "      <td>36 months</td>\n",
       "      <td>major_purchase</td>\n",
       "      <td>16.66%</td>\n",
       "      <td>NJ</td>\n",
       "      <td>RENT</td>\n",
       "      <td>3500.00</td>\n",
       "      <td>675-679</td>\n",
       "      <td>8.0</td>\n",
       "      <td>7753.0</td>\n",
       "      <td>0.0</td>\n",
       "      <td>5 years</td>\n",
       "    </tr>\n",
       "    <tr>\n",
       "      <th>2499</th>\n",
       "      <td>2500</td>\n",
       "      <td>9000.0</td>\n",
       "      <td>5242.75</td>\n",
       "      <td>13.79%</td>\n",
       "      <td>36 months</td>\n",
       "      <td>debt_consolidation</td>\n",
       "      <td>6.76%</td>\n",
       "      <td>NY</td>\n",
       "      <td>RENT</td>\n",
       "      <td>3875.00</td>\n",
       "      <td>670-674</td>\n",
       "      <td>7.0</td>\n",
       "      <td>7589.0</td>\n",
       "      <td>0.0</td>\n",
       "      <td>10+ years</td>\n",
       "    </tr>\n",
       "  </tbody>\n",
       "</table>\n",
       "</div>"
      ],
      "text/plain": [
       "      LoanID  Amount.Requested  Amount.Funded.By.Investors Interest.Rate  \\\n",
       "2495    2496           30000.0                    29950.00        16.77%   \n",
       "2496    2497           16000.0                    16000.00        14.09%   \n",
       "2497    2498           10000.0                    10000.00        13.99%   \n",
       "2498    2499            6000.0                     6000.00        12.42%   \n",
       "2499    2500            9000.0                     5242.75        13.79%   \n",
       "\n",
       "     Loan.Length        Loan.Purpose Debt.To.Income.Ratio State  \\\n",
       "2495   60 months  debt_consolidation               19.23%    NY   \n",
       "2496   60 months    home_improvement               21.54%    MD   \n",
       "2497   36 months  debt_consolidation                4.89%    PA   \n",
       "2498   36 months      major_purchase               16.66%    NJ   \n",
       "2499   36 months  debt_consolidation                6.76%    NY   \n",
       "\n",
       "     Home.Ownership  Monthly.Income FICO.Range  Open.CREDIT.Lines  \\\n",
       "2495       MORTGAGE         9250.00    705-709               15.0   \n",
       "2496            OWN         8903.25    740-744               18.0   \n",
       "2497       MORTGAGE         2166.67    680-684                4.0   \n",
       "2498           RENT         3500.00    675-679                8.0   \n",
       "2499           RENT         3875.00    670-674                7.0   \n",
       "\n",
       "      Revolving.CREDIT.Balance  Inquiries.in.the.Last.6.Months  \\\n",
       "2495                   45880.0                             1.0   \n",
       "2496                   18898.0                             1.0   \n",
       "2497                    4544.0                             0.0   \n",
       "2498                    7753.0                             0.0   \n",
       "2499                    7589.0                             0.0   \n",
       "\n",
       "     Employment.Length  \n",
       "2495           8 years  \n",
       "2496         10+ years  \n",
       "2497         10+ years  \n",
       "2498           5 years  \n",
       "2499         10+ years  "
      ]
     },
     "execution_count": 194,
     "metadata": {},
     "output_type": "execute_result"
    }
   ],
   "source": [
    "df.tail()"
   ]
  },
  {
   "cell_type": "code",
   "execution_count": 195,
   "metadata": {},
   "outputs": [
    {
     "data": {
      "text/plain": [
       "0"
      ]
     },
     "execution_count": 195,
     "metadata": {},
     "output_type": "execute_result"
    }
   ],
   "source": [
    "# Check for Duplicates\n",
    "\n",
    "df.duplicated().sum()"
   ]
  },
  {
   "cell_type": "code",
   "execution_count": 196,
   "metadata": {},
   "outputs": [
    {
     "data": {
      "text/plain": [
       "LoanID                              int64\n",
       "Amount.Requested                  float64\n",
       "Amount.Funded.By.Investors        float64\n",
       "Interest.Rate                      object\n",
       "Loan.Length                        object\n",
       "Loan.Purpose                       object\n",
       "Debt.To.Income.Ratio               object\n",
       "State                              object\n",
       "Home.Ownership                     object\n",
       "Monthly.Income                    float64\n",
       "FICO.Range                         object\n",
       "Open.CREDIT.Lines                 float64\n",
       "Revolving.CREDIT.Balance          float64\n",
       "Inquiries.in.the.Last.6.Months    float64\n",
       "Employment.Length                  object\n",
       "dtype: object"
      ]
     },
     "execution_count": 196,
     "metadata": {},
     "output_type": "execute_result"
    }
   ],
   "source": [
    "# Check for Data Types\n",
    "\n",
    "df.dtypes"
   ]
  },
  {
   "cell_type": "code",
   "execution_count": 197,
   "metadata": {},
   "outputs": [
    {
     "data": {
      "text/plain": [
       "(2500, 15)"
      ]
     },
     "execution_count": 197,
     "metadata": {},
     "output_type": "execute_result"
    }
   ],
   "source": [
    "df.shape"
   ]
  },
  {
   "cell_type": "code",
   "execution_count": 198,
   "metadata": {
    "scrolled": true
   },
   "outputs": [
    {
     "data": {
      "text/html": [
       "<div>\n",
       "<style scoped>\n",
       "    .dataframe tbody tr th:only-of-type {\n",
       "        vertical-align: middle;\n",
       "    }\n",
       "\n",
       "    .dataframe tbody tr th {\n",
       "        vertical-align: top;\n",
       "    }\n",
       "\n",
       "    .dataframe thead th {\n",
       "        text-align: right;\n",
       "    }\n",
       "</style>\n",
       "<table border=\"1\" class=\"dataframe\">\n",
       "  <thead>\n",
       "    <tr style=\"text-align: right;\">\n",
       "      <th></th>\n",
       "      <th>LoanID</th>\n",
       "      <th>Amount.Requested</th>\n",
       "      <th>Amount.Funded.By.Investors</th>\n",
       "      <th>Monthly.Income</th>\n",
       "      <th>Open.CREDIT.Lines</th>\n",
       "      <th>Revolving.CREDIT.Balance</th>\n",
       "      <th>Inquiries.in.the.Last.6.Months</th>\n",
       "    </tr>\n",
       "  </thead>\n",
       "  <tbody>\n",
       "    <tr>\n",
       "      <th>count</th>\n",
       "      <td>2500.00000</td>\n",
       "      <td>2499.000000</td>\n",
       "      <td>2499.000000</td>\n",
       "      <td>2499.000000</td>\n",
       "      <td>2497.000000</td>\n",
       "      <td>2497.000000</td>\n",
       "      <td>2497.000000</td>\n",
       "    </tr>\n",
       "    <tr>\n",
       "      <th>mean</th>\n",
       "      <td>1250.50000</td>\n",
       "      <td>12405.462185</td>\n",
       "      <td>12002.374186</td>\n",
       "      <td>5688.931321</td>\n",
       "      <td>10.072887</td>\n",
       "      <td>15223.184622</td>\n",
       "      <td>0.906688</td>\n",
       "    </tr>\n",
       "    <tr>\n",
       "      <th>std</th>\n",
       "      <td>721.83216</td>\n",
       "      <td>7802.933666</td>\n",
       "      <td>7746.767348</td>\n",
       "      <td>3963.118185</td>\n",
       "      <td>4.507416</td>\n",
       "      <td>18281.015258</td>\n",
       "      <td>1.231149</td>\n",
       "    </tr>\n",
       "    <tr>\n",
       "      <th>min</th>\n",
       "      <td>1.00000</td>\n",
       "      <td>1000.000000</td>\n",
       "      <td>-0.010000</td>\n",
       "      <td>588.500000</td>\n",
       "      <td>2.000000</td>\n",
       "      <td>0.000000</td>\n",
       "      <td>0.000000</td>\n",
       "    </tr>\n",
       "    <tr>\n",
       "      <th>25%</th>\n",
       "      <td>625.75000</td>\n",
       "      <td>6000.000000</td>\n",
       "      <td>6000.000000</td>\n",
       "      <td>3500.000000</td>\n",
       "      <td>7.000000</td>\n",
       "      <td>5584.000000</td>\n",
       "      <td>0.000000</td>\n",
       "    </tr>\n",
       "    <tr>\n",
       "      <th>50%</th>\n",
       "      <td>1250.50000</td>\n",
       "      <td>10000.000000</td>\n",
       "      <td>10000.000000</td>\n",
       "      <td>5000.000000</td>\n",
       "      <td>9.000000</td>\n",
       "      <td>10948.000000</td>\n",
       "      <td>0.000000</td>\n",
       "    </tr>\n",
       "    <tr>\n",
       "      <th>75%</th>\n",
       "      <td>1875.25000</td>\n",
       "      <td>17000.000000</td>\n",
       "      <td>16000.000000</td>\n",
       "      <td>6800.000000</td>\n",
       "      <td>13.000000</td>\n",
       "      <td>18861.000000</td>\n",
       "      <td>1.000000</td>\n",
       "    </tr>\n",
       "    <tr>\n",
       "      <th>max</th>\n",
       "      <td>2500.00000</td>\n",
       "      <td>35000.000000</td>\n",
       "      <td>35000.000000</td>\n",
       "      <td>102750.000000</td>\n",
       "      <td>38.000000</td>\n",
       "      <td>270800.000000</td>\n",
       "      <td>9.000000</td>\n",
       "    </tr>\n",
       "  </tbody>\n",
       "</table>\n",
       "</div>"
      ],
      "text/plain": [
       "           LoanID  Amount.Requested  Amount.Funded.By.Investors  \\\n",
       "count  2500.00000       2499.000000                 2499.000000   \n",
       "mean   1250.50000      12405.462185                12002.374186   \n",
       "std     721.83216       7802.933666                 7746.767348   \n",
       "min       1.00000       1000.000000                   -0.010000   \n",
       "25%     625.75000       6000.000000                 6000.000000   \n",
       "50%    1250.50000      10000.000000                10000.000000   \n",
       "75%    1875.25000      17000.000000                16000.000000   \n",
       "max    2500.00000      35000.000000                35000.000000   \n",
       "\n",
       "       Monthly.Income  Open.CREDIT.Lines  Revolving.CREDIT.Balance  \\\n",
       "count     2499.000000        2497.000000               2497.000000   \n",
       "mean      5688.931321          10.072887              15223.184622   \n",
       "std       3963.118185           4.507416              18281.015258   \n",
       "min        588.500000           2.000000                  0.000000   \n",
       "25%       3500.000000           7.000000               5584.000000   \n",
       "50%       5000.000000           9.000000              10948.000000   \n",
       "75%       6800.000000          13.000000              18861.000000   \n",
       "max     102750.000000          38.000000             270800.000000   \n",
       "\n",
       "       Inquiries.in.the.Last.6.Months  \n",
       "count                     2497.000000  \n",
       "mean                         0.906688  \n",
       "std                          1.231149  \n",
       "min                          0.000000  \n",
       "25%                          0.000000  \n",
       "50%                          0.000000  \n",
       "75%                          1.000000  \n",
       "max                          9.000000  "
      ]
     },
     "execution_count": 198,
     "metadata": {},
     "output_type": "execute_result"
    }
   ],
   "source": [
    "df.describe()"
   ]
  },
  {
   "cell_type": "code",
   "execution_count": 199,
   "metadata": {},
   "outputs": [
    {
     "data": {
      "text/plain": [
       "Amount.Requested                  2499\n",
       "Amount.Funded.By.Investors        2499\n",
       "Interest.Rate                     2498\n",
       "Debt.To.Income.Ratio              2499\n",
       "Home.Ownership                    2499\n",
       "Monthly.Income                    2499\n",
       "FICO.Range                        2498\n",
       "Open.CREDIT.Lines                 2497\n",
       "Revolving.CREDIT.Balance          2497\n",
       "Inquiries.in.the.Last.6.Months    2497\n",
       "Employment.Length                 2423\n",
       "dtype: int64"
      ]
     },
     "execution_count": 199,
     "metadata": {},
     "output_type": "execute_result"
    }
   ],
   "source": [
    "df.count()[df.count()<2500]"
   ]
  },
  {
   "cell_type": "code",
   "execution_count": 200,
   "metadata": {},
   "outputs": [],
   "source": [
    "# Find if data has Outliers\n",
    "\n",
    "## Perfrom IQR method and check if there are any values below the LC and above the UC\n",
    "\n",
    "# Understand distribution of data\n",
    "\n",
    "# Finding the distrubiton of the Y var (plot a histogram)\n",
    "\n",
    "# Find meaning of the special characters, 0, multiple numbers (999999) etc.\n",
    "\n",
    "# We check for value_counts for each var and see if there are some odd characters that\n",
    "# might mean something\n",
    "\n",
    "# ! pip install  pandas_profiling\n",
    "\n",
    "# or\n",
    "\n",
    "# go to anaconda prompt and type:\n",
    "# pip install pandas_profiling\n",
    "\n",
    "# Check for the column names (if there are as per python convetions or not)"
   ]
  },
  {
   "cell_type": "code",
   "execution_count": 201,
   "metadata": {},
   "outputs": [],
   "source": [
    "# install pandas-profiling"
   ]
  },
  {
   "cell_type": "markdown",
   "metadata": {},
   "source": [
    "**Problems Identified**\n",
    "- Column names are not according to Python naming rules.\n",
    "- There are columns with wrong data type.\n",
    "- There are variables with missing values.\n",
    "- There are no special character.\n",
    "- There are no duplicates.\n",
    "- There are no variables with less variance."
   ]
  },
  {
   "cell_type": "markdown",
   "metadata": {},
   "source": [
    "## MODELING"
   ]
  },
  {
   "cell_type": "markdown",
   "metadata": {},
   "source": [
    "#### Selection of the Algorithm\n",
    "- We are selection Linear Regression as we want to know how the variabes impact the Y variable."
   ]
  },
  {
   "cell_type": "markdown",
   "metadata": {},
   "source": [
    "### <span style = 'color : green'> Data Preparation Level 1."
   ]
  },
  {
   "cell_type": "markdown",
   "metadata": {},
   "source": [
    "<span style = 'color: brown'> <b> Naming columns as the Python naming rule."
   ]
  },
  {
   "cell_type": "code",
   "execution_count": 202,
   "metadata": {
    "scrolled": true
   },
   "outputs": [
    {
     "data": {
      "text/plain": [
       "Index(['LoanID', 'Amount.Requested', 'Amount.Funded.By.Investors',\n",
       "       'Interest.Rate', 'Loan.Length', 'Loan.Purpose', 'Debt.To.Income.Ratio',\n",
       "       'State', 'Home.Ownership', 'Monthly.Income', 'FICO.Range',\n",
       "       'Open.CREDIT.Lines', 'Revolving.CREDIT.Balance',\n",
       "       'Inquiries.in.the.Last.6.Months', 'Employment.Length'],\n",
       "      dtype='object')"
      ]
     },
     "execution_count": 202,
     "metadata": {},
     "output_type": "execute_result"
    }
   ],
   "source": [
    "df.columns"
   ]
  },
  {
   "cell_type": "code",
   "execution_count": 203,
   "metadata": {},
   "outputs": [],
   "source": [
    "# we can't have dot in column name so we need to replace '.' whith '_'.\n",
    "\n",
    "df.columns = df.columns.str.replace('.' , '_')"
   ]
  },
  {
   "cell_type": "code",
   "execution_count": 204,
   "metadata": {
    "scrolled": true
   },
   "outputs": [
    {
     "data": {
      "text/html": [
       "<div>\n",
       "<style scoped>\n",
       "    .dataframe tbody tr th:only-of-type {\n",
       "        vertical-align: middle;\n",
       "    }\n",
       "\n",
       "    .dataframe tbody tr th {\n",
       "        vertical-align: top;\n",
       "    }\n",
       "\n",
       "    .dataframe thead th {\n",
       "        text-align: right;\n",
       "    }\n",
       "</style>\n",
       "<table border=\"1\" class=\"dataframe\">\n",
       "  <thead>\n",
       "    <tr style=\"text-align: right;\">\n",
       "      <th></th>\n",
       "      <th>LoanID</th>\n",
       "      <th>Amount_Requested</th>\n",
       "      <th>Amount_Funded_By_Investors</th>\n",
       "      <th>Interest_Rate</th>\n",
       "      <th>Loan_Length</th>\n",
       "      <th>Loan_Purpose</th>\n",
       "      <th>Debt_To_Income_Ratio</th>\n",
       "      <th>State</th>\n",
       "      <th>Home_Ownership</th>\n",
       "      <th>Monthly_Income</th>\n",
       "      <th>FICO_Range</th>\n",
       "      <th>Open_CREDIT_Lines</th>\n",
       "      <th>Revolving_CREDIT_Balance</th>\n",
       "      <th>Inquiries_in_the_Last_6_Months</th>\n",
       "      <th>Employment_Length</th>\n",
       "    </tr>\n",
       "  </thead>\n",
       "  <tbody>\n",
       "    <tr>\n",
       "      <th>0</th>\n",
       "      <td>1</td>\n",
       "      <td>20000.0</td>\n",
       "      <td>20000.0</td>\n",
       "      <td>8.90%</td>\n",
       "      <td>36 months</td>\n",
       "      <td>debt_consolidation</td>\n",
       "      <td>14.90%</td>\n",
       "      <td>SC</td>\n",
       "      <td>MORTGAGE</td>\n",
       "      <td>6541.67</td>\n",
       "      <td>735-739</td>\n",
       "      <td>14.0</td>\n",
       "      <td>14272.0</td>\n",
       "      <td>2.0</td>\n",
       "      <td>&lt; 1 year</td>\n",
       "    </tr>\n",
       "    <tr>\n",
       "      <th>1</th>\n",
       "      <td>2</td>\n",
       "      <td>19200.0</td>\n",
       "      <td>19200.0</td>\n",
       "      <td>12.12%</td>\n",
       "      <td>36 months</td>\n",
       "      <td>debt_consolidation</td>\n",
       "      <td>28.36%</td>\n",
       "      <td>TX</td>\n",
       "      <td>MORTGAGE</td>\n",
       "      <td>4583.33</td>\n",
       "      <td>715-719</td>\n",
       "      <td>12.0</td>\n",
       "      <td>11140.0</td>\n",
       "      <td>1.0</td>\n",
       "      <td>2 years</td>\n",
       "    </tr>\n",
       "    <tr>\n",
       "      <th>2</th>\n",
       "      <td>3</td>\n",
       "      <td>35000.0</td>\n",
       "      <td>35000.0</td>\n",
       "      <td>21.98%</td>\n",
       "      <td>60 months</td>\n",
       "      <td>debt_consolidation</td>\n",
       "      <td>23.81%</td>\n",
       "      <td>CA</td>\n",
       "      <td>MORTGAGE</td>\n",
       "      <td>11500.00</td>\n",
       "      <td>690-694</td>\n",
       "      <td>14.0</td>\n",
       "      <td>21977.0</td>\n",
       "      <td>1.0</td>\n",
       "      <td>2 years</td>\n",
       "    </tr>\n",
       "    <tr>\n",
       "      <th>3</th>\n",
       "      <td>4</td>\n",
       "      <td>10000.0</td>\n",
       "      <td>9975.0</td>\n",
       "      <td>9.99%</td>\n",
       "      <td>36 months</td>\n",
       "      <td>debt_consolidation</td>\n",
       "      <td>14.30%</td>\n",
       "      <td>KS</td>\n",
       "      <td>MORTGAGE</td>\n",
       "      <td>3833.33</td>\n",
       "      <td>695-699</td>\n",
       "      <td>10.0</td>\n",
       "      <td>9346.0</td>\n",
       "      <td>0.0</td>\n",
       "      <td>5 years</td>\n",
       "    </tr>\n",
       "    <tr>\n",
       "      <th>4</th>\n",
       "      <td>5</td>\n",
       "      <td>12000.0</td>\n",
       "      <td>12000.0</td>\n",
       "      <td>11.71%</td>\n",
       "      <td>36 months</td>\n",
       "      <td>credit_card</td>\n",
       "      <td>18.78%</td>\n",
       "      <td>NJ</td>\n",
       "      <td>RENT</td>\n",
       "      <td>3195.00</td>\n",
       "      <td>695-699</td>\n",
       "      <td>11.0</td>\n",
       "      <td>14469.0</td>\n",
       "      <td>0.0</td>\n",
       "      <td>9 years</td>\n",
       "    </tr>\n",
       "  </tbody>\n",
       "</table>\n",
       "</div>"
      ],
      "text/plain": [
       "   LoanID  Amount_Requested  Amount_Funded_By_Investors Interest_Rate  \\\n",
       "0       1           20000.0                     20000.0         8.90%   \n",
       "1       2           19200.0                     19200.0        12.12%   \n",
       "2       3           35000.0                     35000.0        21.98%   \n",
       "3       4           10000.0                      9975.0         9.99%   \n",
       "4       5           12000.0                     12000.0        11.71%   \n",
       "\n",
       "  Loan_Length        Loan_Purpose Debt_To_Income_Ratio State Home_Ownership  \\\n",
       "0   36 months  debt_consolidation               14.90%    SC       MORTGAGE   \n",
       "1   36 months  debt_consolidation               28.36%    TX       MORTGAGE   \n",
       "2   60 months  debt_consolidation               23.81%    CA       MORTGAGE   \n",
       "3   36 months  debt_consolidation               14.30%    KS       MORTGAGE   \n",
       "4   36 months         credit_card               18.78%    NJ           RENT   \n",
       "\n",
       "   Monthly_Income FICO_Range  Open_CREDIT_Lines  Revolving_CREDIT_Balance  \\\n",
       "0         6541.67    735-739               14.0                   14272.0   \n",
       "1         4583.33    715-719               12.0                   11140.0   \n",
       "2        11500.00    690-694               14.0                   21977.0   \n",
       "3         3833.33    695-699               10.0                    9346.0   \n",
       "4         3195.00    695-699               11.0                   14469.0   \n",
       "\n",
       "   Inquiries_in_the_Last_6_Months Employment_Length  \n",
       "0                             2.0          < 1 year  \n",
       "1                             1.0           2 years  \n",
       "2                             1.0           2 years  \n",
       "3                             0.0           5 years  \n",
       "4                             0.0           9 years  "
      ]
     },
     "execution_count": 204,
     "metadata": {},
     "output_type": "execute_result"
    }
   ],
   "source": [
    "df.head()"
   ]
  },
  {
   "cell_type": "markdown",
   "metadata": {},
   "source": [
    "<span style = 'color: brown'> <b> Changing the data type in proper order (TYPE CASTING)."
   ]
  },
  {
   "cell_type": "code",
   "execution_count": 205,
   "metadata": {},
   "outputs": [],
   "source": [
    "df.Interest_Rate = df.Interest_Rate.str.replace(\"%\" , \"\").astype('float64')"
   ]
  },
  {
   "cell_type": "code",
   "execution_count": 206,
   "metadata": {
    "scrolled": true
   },
   "outputs": [
    {
     "data": {
      "text/html": [
       "<div>\n",
       "<style scoped>\n",
       "    .dataframe tbody tr th:only-of-type {\n",
       "        vertical-align: middle;\n",
       "    }\n",
       "\n",
       "    .dataframe tbody tr th {\n",
       "        vertical-align: top;\n",
       "    }\n",
       "\n",
       "    .dataframe thead th {\n",
       "        text-align: right;\n",
       "    }\n",
       "</style>\n",
       "<table border=\"1\" class=\"dataframe\">\n",
       "  <thead>\n",
       "    <tr style=\"text-align: right;\">\n",
       "      <th></th>\n",
       "      <th>LoanID</th>\n",
       "      <th>Amount_Requested</th>\n",
       "      <th>Amount_Funded_By_Investors</th>\n",
       "      <th>Interest_Rate</th>\n",
       "      <th>Loan_Length</th>\n",
       "      <th>Loan_Purpose</th>\n",
       "      <th>Debt_To_Income_Ratio</th>\n",
       "      <th>State</th>\n",
       "      <th>Home_Ownership</th>\n",
       "      <th>Monthly_Income</th>\n",
       "      <th>FICO_Range</th>\n",
       "      <th>Open_CREDIT_Lines</th>\n",
       "      <th>Revolving_CREDIT_Balance</th>\n",
       "      <th>Inquiries_in_the_Last_6_Months</th>\n",
       "      <th>Employment_Length</th>\n",
       "    </tr>\n",
       "  </thead>\n",
       "  <tbody>\n",
       "    <tr>\n",
       "      <th>0</th>\n",
       "      <td>1</td>\n",
       "      <td>20000.0</td>\n",
       "      <td>20000.0</td>\n",
       "      <td>8.90</td>\n",
       "      <td>36 months</td>\n",
       "      <td>debt_consolidation</td>\n",
       "      <td>14.90%</td>\n",
       "      <td>SC</td>\n",
       "      <td>MORTGAGE</td>\n",
       "      <td>6541.67</td>\n",
       "      <td>735-739</td>\n",
       "      <td>14.0</td>\n",
       "      <td>14272.0</td>\n",
       "      <td>2.0</td>\n",
       "      <td>&lt; 1 year</td>\n",
       "    </tr>\n",
       "    <tr>\n",
       "      <th>1</th>\n",
       "      <td>2</td>\n",
       "      <td>19200.0</td>\n",
       "      <td>19200.0</td>\n",
       "      <td>12.12</td>\n",
       "      <td>36 months</td>\n",
       "      <td>debt_consolidation</td>\n",
       "      <td>28.36%</td>\n",
       "      <td>TX</td>\n",
       "      <td>MORTGAGE</td>\n",
       "      <td>4583.33</td>\n",
       "      <td>715-719</td>\n",
       "      <td>12.0</td>\n",
       "      <td>11140.0</td>\n",
       "      <td>1.0</td>\n",
       "      <td>2 years</td>\n",
       "    </tr>\n",
       "    <tr>\n",
       "      <th>2</th>\n",
       "      <td>3</td>\n",
       "      <td>35000.0</td>\n",
       "      <td>35000.0</td>\n",
       "      <td>21.98</td>\n",
       "      <td>60 months</td>\n",
       "      <td>debt_consolidation</td>\n",
       "      <td>23.81%</td>\n",
       "      <td>CA</td>\n",
       "      <td>MORTGAGE</td>\n",
       "      <td>11500.00</td>\n",
       "      <td>690-694</td>\n",
       "      <td>14.0</td>\n",
       "      <td>21977.0</td>\n",
       "      <td>1.0</td>\n",
       "      <td>2 years</td>\n",
       "    </tr>\n",
       "    <tr>\n",
       "      <th>3</th>\n",
       "      <td>4</td>\n",
       "      <td>10000.0</td>\n",
       "      <td>9975.0</td>\n",
       "      <td>9.99</td>\n",
       "      <td>36 months</td>\n",
       "      <td>debt_consolidation</td>\n",
       "      <td>14.30%</td>\n",
       "      <td>KS</td>\n",
       "      <td>MORTGAGE</td>\n",
       "      <td>3833.33</td>\n",
       "      <td>695-699</td>\n",
       "      <td>10.0</td>\n",
       "      <td>9346.0</td>\n",
       "      <td>0.0</td>\n",
       "      <td>5 years</td>\n",
       "    </tr>\n",
       "    <tr>\n",
       "      <th>4</th>\n",
       "      <td>5</td>\n",
       "      <td>12000.0</td>\n",
       "      <td>12000.0</td>\n",
       "      <td>11.71</td>\n",
       "      <td>36 months</td>\n",
       "      <td>credit_card</td>\n",
       "      <td>18.78%</td>\n",
       "      <td>NJ</td>\n",
       "      <td>RENT</td>\n",
       "      <td>3195.00</td>\n",
       "      <td>695-699</td>\n",
       "      <td>11.0</td>\n",
       "      <td>14469.0</td>\n",
       "      <td>0.0</td>\n",
       "      <td>9 years</td>\n",
       "    </tr>\n",
       "  </tbody>\n",
       "</table>\n",
       "</div>"
      ],
      "text/plain": [
       "   LoanID  Amount_Requested  Amount_Funded_By_Investors  Interest_Rate  \\\n",
       "0       1           20000.0                     20000.0           8.90   \n",
       "1       2           19200.0                     19200.0          12.12   \n",
       "2       3           35000.0                     35000.0          21.98   \n",
       "3       4           10000.0                      9975.0           9.99   \n",
       "4       5           12000.0                     12000.0          11.71   \n",
       "\n",
       "  Loan_Length        Loan_Purpose Debt_To_Income_Ratio State Home_Ownership  \\\n",
       "0   36 months  debt_consolidation               14.90%    SC       MORTGAGE   \n",
       "1   36 months  debt_consolidation               28.36%    TX       MORTGAGE   \n",
       "2   60 months  debt_consolidation               23.81%    CA       MORTGAGE   \n",
       "3   36 months  debt_consolidation               14.30%    KS       MORTGAGE   \n",
       "4   36 months         credit_card               18.78%    NJ           RENT   \n",
       "\n",
       "   Monthly_Income FICO_Range  Open_CREDIT_Lines  Revolving_CREDIT_Balance  \\\n",
       "0         6541.67    735-739               14.0                   14272.0   \n",
       "1         4583.33    715-719               12.0                   11140.0   \n",
       "2        11500.00    690-694               14.0                   21977.0   \n",
       "3         3833.33    695-699               10.0                    9346.0   \n",
       "4         3195.00    695-699               11.0                   14469.0   \n",
       "\n",
       "   Inquiries_in_the_Last_6_Months Employment_Length  \n",
       "0                             2.0          < 1 year  \n",
       "1                             1.0           2 years  \n",
       "2                             1.0           2 years  \n",
       "3                             0.0           5 years  \n",
       "4                             0.0           9 years  "
      ]
     },
     "execution_count": 206,
     "metadata": {},
     "output_type": "execute_result"
    }
   ],
   "source": [
    "df.head()"
   ]
  },
  {
   "cell_type": "code",
   "execution_count": 207,
   "metadata": {},
   "outputs": [],
   "source": [
    "df.Loan_Length = df.Loan_Length.str.replace(\" months\" , \"\").astype('int64')"
   ]
  },
  {
   "cell_type": "code",
   "execution_count": 208,
   "metadata": {},
   "outputs": [
    {
     "data": {
      "text/html": [
       "<div>\n",
       "<style scoped>\n",
       "    .dataframe tbody tr th:only-of-type {\n",
       "        vertical-align: middle;\n",
       "    }\n",
       "\n",
       "    .dataframe tbody tr th {\n",
       "        vertical-align: top;\n",
       "    }\n",
       "\n",
       "    .dataframe thead th {\n",
       "        text-align: right;\n",
       "    }\n",
       "</style>\n",
       "<table border=\"1\" class=\"dataframe\">\n",
       "  <thead>\n",
       "    <tr style=\"text-align: right;\">\n",
       "      <th></th>\n",
       "      <th>LoanID</th>\n",
       "      <th>Amount_Requested</th>\n",
       "      <th>Amount_Funded_By_Investors</th>\n",
       "      <th>Interest_Rate</th>\n",
       "      <th>Loan_Length</th>\n",
       "      <th>Loan_Purpose</th>\n",
       "      <th>Debt_To_Income_Ratio</th>\n",
       "      <th>State</th>\n",
       "      <th>Home_Ownership</th>\n",
       "      <th>Monthly_Income</th>\n",
       "      <th>FICO_Range</th>\n",
       "      <th>Open_CREDIT_Lines</th>\n",
       "      <th>Revolving_CREDIT_Balance</th>\n",
       "      <th>Inquiries_in_the_Last_6_Months</th>\n",
       "      <th>Employment_Length</th>\n",
       "    </tr>\n",
       "  </thead>\n",
       "  <tbody>\n",
       "    <tr>\n",
       "      <th>0</th>\n",
       "      <td>1</td>\n",
       "      <td>20000.0</td>\n",
       "      <td>20000.0</td>\n",
       "      <td>8.90</td>\n",
       "      <td>36</td>\n",
       "      <td>debt_consolidation</td>\n",
       "      <td>14.90%</td>\n",
       "      <td>SC</td>\n",
       "      <td>MORTGAGE</td>\n",
       "      <td>6541.67</td>\n",
       "      <td>735-739</td>\n",
       "      <td>14.0</td>\n",
       "      <td>14272.0</td>\n",
       "      <td>2.0</td>\n",
       "      <td>&lt; 1 year</td>\n",
       "    </tr>\n",
       "    <tr>\n",
       "      <th>1</th>\n",
       "      <td>2</td>\n",
       "      <td>19200.0</td>\n",
       "      <td>19200.0</td>\n",
       "      <td>12.12</td>\n",
       "      <td>36</td>\n",
       "      <td>debt_consolidation</td>\n",
       "      <td>28.36%</td>\n",
       "      <td>TX</td>\n",
       "      <td>MORTGAGE</td>\n",
       "      <td>4583.33</td>\n",
       "      <td>715-719</td>\n",
       "      <td>12.0</td>\n",
       "      <td>11140.0</td>\n",
       "      <td>1.0</td>\n",
       "      <td>2 years</td>\n",
       "    </tr>\n",
       "    <tr>\n",
       "      <th>2</th>\n",
       "      <td>3</td>\n",
       "      <td>35000.0</td>\n",
       "      <td>35000.0</td>\n",
       "      <td>21.98</td>\n",
       "      <td>60</td>\n",
       "      <td>debt_consolidation</td>\n",
       "      <td>23.81%</td>\n",
       "      <td>CA</td>\n",
       "      <td>MORTGAGE</td>\n",
       "      <td>11500.00</td>\n",
       "      <td>690-694</td>\n",
       "      <td>14.0</td>\n",
       "      <td>21977.0</td>\n",
       "      <td>1.0</td>\n",
       "      <td>2 years</td>\n",
       "    </tr>\n",
       "    <tr>\n",
       "      <th>3</th>\n",
       "      <td>4</td>\n",
       "      <td>10000.0</td>\n",
       "      <td>9975.0</td>\n",
       "      <td>9.99</td>\n",
       "      <td>36</td>\n",
       "      <td>debt_consolidation</td>\n",
       "      <td>14.30%</td>\n",
       "      <td>KS</td>\n",
       "      <td>MORTGAGE</td>\n",
       "      <td>3833.33</td>\n",
       "      <td>695-699</td>\n",
       "      <td>10.0</td>\n",
       "      <td>9346.0</td>\n",
       "      <td>0.0</td>\n",
       "      <td>5 years</td>\n",
       "    </tr>\n",
       "    <tr>\n",
       "      <th>4</th>\n",
       "      <td>5</td>\n",
       "      <td>12000.0</td>\n",
       "      <td>12000.0</td>\n",
       "      <td>11.71</td>\n",
       "      <td>36</td>\n",
       "      <td>credit_card</td>\n",
       "      <td>18.78%</td>\n",
       "      <td>NJ</td>\n",
       "      <td>RENT</td>\n",
       "      <td>3195.00</td>\n",
       "      <td>695-699</td>\n",
       "      <td>11.0</td>\n",
       "      <td>14469.0</td>\n",
       "      <td>0.0</td>\n",
       "      <td>9 years</td>\n",
       "    </tr>\n",
       "  </tbody>\n",
       "</table>\n",
       "</div>"
      ],
      "text/plain": [
       "   LoanID  Amount_Requested  Amount_Funded_By_Investors  Interest_Rate  \\\n",
       "0       1           20000.0                     20000.0           8.90   \n",
       "1       2           19200.0                     19200.0          12.12   \n",
       "2       3           35000.0                     35000.0          21.98   \n",
       "3       4           10000.0                      9975.0           9.99   \n",
       "4       5           12000.0                     12000.0          11.71   \n",
       "\n",
       "   Loan_Length        Loan_Purpose Debt_To_Income_Ratio State Home_Ownership  \\\n",
       "0           36  debt_consolidation               14.90%    SC       MORTGAGE   \n",
       "1           36  debt_consolidation               28.36%    TX       MORTGAGE   \n",
       "2           60  debt_consolidation               23.81%    CA       MORTGAGE   \n",
       "3           36  debt_consolidation               14.30%    KS       MORTGAGE   \n",
       "4           36         credit_card               18.78%    NJ           RENT   \n",
       "\n",
       "   Monthly_Income FICO_Range  Open_CREDIT_Lines  Revolving_CREDIT_Balance  \\\n",
       "0         6541.67    735-739               14.0                   14272.0   \n",
       "1         4583.33    715-719               12.0                   11140.0   \n",
       "2        11500.00    690-694               14.0                   21977.0   \n",
       "3         3833.33    695-699               10.0                    9346.0   \n",
       "4         3195.00    695-699               11.0                   14469.0   \n",
       "\n",
       "   Inquiries_in_the_Last_6_Months Employment_Length  \n",
       "0                             2.0          < 1 year  \n",
       "1                             1.0           2 years  \n",
       "2                             1.0           2 years  \n",
       "3                             0.0           5 years  \n",
       "4                             0.0           9 years  "
      ]
     },
     "execution_count": 208,
     "metadata": {},
     "output_type": "execute_result"
    }
   ],
   "source": [
    "df.head()"
   ]
  },
  {
   "cell_type": "code",
   "execution_count": 209,
   "metadata": {},
   "outputs": [],
   "source": [
    "df.Debt_To_Income_Ratio = df.Debt_To_Income_Ratio.str.replace(\"%\" , \"\").astype('float64')"
   ]
  },
  {
   "cell_type": "code",
   "execution_count": 210,
   "metadata": {},
   "outputs": [],
   "source": [
    "df.Employment_Length = df.Employment_Length.str.replace(\"< \",\"\")\n",
    "df.Employment_Length = df.Employment_Length.str.replace(\"years\",\"\")\n",
    "df.Employment_Length = df.Employment_Length.str.replace(\" year\",\"\")\n",
    "df.Employment_Length = df.Employment_Length.str.replace(\"year\",\"\")\n",
    "df.Employment_Length = df.Employment_Length.str.replace(\" \",\"\") \n",
    "df.Employment_Length = df.Employment_Length.str.replace(\"+\",\"\")\n",
    "df.Employment_Length = df.Employment_Length.astype(\"float64\")"
   ]
  },
  {
   "cell_type": "code",
   "execution_count": 211,
   "metadata": {},
   "outputs": [
    {
     "data": {
      "text/html": [
       "<div>\n",
       "<style scoped>\n",
       "    .dataframe tbody tr th:only-of-type {\n",
       "        vertical-align: middle;\n",
       "    }\n",
       "\n",
       "    .dataframe tbody tr th {\n",
       "        vertical-align: top;\n",
       "    }\n",
       "\n",
       "    .dataframe thead th {\n",
       "        text-align: right;\n",
       "    }\n",
       "</style>\n",
       "<table border=\"1\" class=\"dataframe\">\n",
       "  <thead>\n",
       "    <tr style=\"text-align: right;\">\n",
       "      <th></th>\n",
       "      <th>LoanID</th>\n",
       "      <th>Amount_Requested</th>\n",
       "      <th>Amount_Funded_By_Investors</th>\n",
       "      <th>Interest_Rate</th>\n",
       "      <th>Loan_Length</th>\n",
       "      <th>Loan_Purpose</th>\n",
       "      <th>Debt_To_Income_Ratio</th>\n",
       "      <th>State</th>\n",
       "      <th>Home_Ownership</th>\n",
       "      <th>Monthly_Income</th>\n",
       "      <th>FICO_Range</th>\n",
       "      <th>Open_CREDIT_Lines</th>\n",
       "      <th>Revolving_CREDIT_Balance</th>\n",
       "      <th>Inquiries_in_the_Last_6_Months</th>\n",
       "      <th>Employment_Length</th>\n",
       "    </tr>\n",
       "  </thead>\n",
       "  <tbody>\n",
       "    <tr>\n",
       "      <th>0</th>\n",
       "      <td>1</td>\n",
       "      <td>20000.0</td>\n",
       "      <td>20000.0</td>\n",
       "      <td>8.90</td>\n",
       "      <td>36</td>\n",
       "      <td>debt_consolidation</td>\n",
       "      <td>14.90</td>\n",
       "      <td>SC</td>\n",
       "      <td>MORTGAGE</td>\n",
       "      <td>6541.67</td>\n",
       "      <td>735-739</td>\n",
       "      <td>14.0</td>\n",
       "      <td>14272.0</td>\n",
       "      <td>2.0</td>\n",
       "      <td>1.0</td>\n",
       "    </tr>\n",
       "    <tr>\n",
       "      <th>1</th>\n",
       "      <td>2</td>\n",
       "      <td>19200.0</td>\n",
       "      <td>19200.0</td>\n",
       "      <td>12.12</td>\n",
       "      <td>36</td>\n",
       "      <td>debt_consolidation</td>\n",
       "      <td>28.36</td>\n",
       "      <td>TX</td>\n",
       "      <td>MORTGAGE</td>\n",
       "      <td>4583.33</td>\n",
       "      <td>715-719</td>\n",
       "      <td>12.0</td>\n",
       "      <td>11140.0</td>\n",
       "      <td>1.0</td>\n",
       "      <td>2.0</td>\n",
       "    </tr>\n",
       "    <tr>\n",
       "      <th>2</th>\n",
       "      <td>3</td>\n",
       "      <td>35000.0</td>\n",
       "      <td>35000.0</td>\n",
       "      <td>21.98</td>\n",
       "      <td>60</td>\n",
       "      <td>debt_consolidation</td>\n",
       "      <td>23.81</td>\n",
       "      <td>CA</td>\n",
       "      <td>MORTGAGE</td>\n",
       "      <td>11500.00</td>\n",
       "      <td>690-694</td>\n",
       "      <td>14.0</td>\n",
       "      <td>21977.0</td>\n",
       "      <td>1.0</td>\n",
       "      <td>2.0</td>\n",
       "    </tr>\n",
       "    <tr>\n",
       "      <th>3</th>\n",
       "      <td>4</td>\n",
       "      <td>10000.0</td>\n",
       "      <td>9975.0</td>\n",
       "      <td>9.99</td>\n",
       "      <td>36</td>\n",
       "      <td>debt_consolidation</td>\n",
       "      <td>14.30</td>\n",
       "      <td>KS</td>\n",
       "      <td>MORTGAGE</td>\n",
       "      <td>3833.33</td>\n",
       "      <td>695-699</td>\n",
       "      <td>10.0</td>\n",
       "      <td>9346.0</td>\n",
       "      <td>0.0</td>\n",
       "      <td>5.0</td>\n",
       "    </tr>\n",
       "    <tr>\n",
       "      <th>4</th>\n",
       "      <td>5</td>\n",
       "      <td>12000.0</td>\n",
       "      <td>12000.0</td>\n",
       "      <td>11.71</td>\n",
       "      <td>36</td>\n",
       "      <td>credit_card</td>\n",
       "      <td>18.78</td>\n",
       "      <td>NJ</td>\n",
       "      <td>RENT</td>\n",
       "      <td>3195.00</td>\n",
       "      <td>695-699</td>\n",
       "      <td>11.0</td>\n",
       "      <td>14469.0</td>\n",
       "      <td>0.0</td>\n",
       "      <td>9.0</td>\n",
       "    </tr>\n",
       "  </tbody>\n",
       "</table>\n",
       "</div>"
      ],
      "text/plain": [
       "   LoanID  Amount_Requested  Amount_Funded_By_Investors  Interest_Rate  \\\n",
       "0       1           20000.0                     20000.0           8.90   \n",
       "1       2           19200.0                     19200.0          12.12   \n",
       "2       3           35000.0                     35000.0          21.98   \n",
       "3       4           10000.0                      9975.0           9.99   \n",
       "4       5           12000.0                     12000.0          11.71   \n",
       "\n",
       "   Loan_Length        Loan_Purpose  Debt_To_Income_Ratio State Home_Ownership  \\\n",
       "0           36  debt_consolidation                 14.90    SC       MORTGAGE   \n",
       "1           36  debt_consolidation                 28.36    TX       MORTGAGE   \n",
       "2           60  debt_consolidation                 23.81    CA       MORTGAGE   \n",
       "3           36  debt_consolidation                 14.30    KS       MORTGAGE   \n",
       "4           36         credit_card                 18.78    NJ           RENT   \n",
       "\n",
       "   Monthly_Income FICO_Range  Open_CREDIT_Lines  Revolving_CREDIT_Balance  \\\n",
       "0         6541.67    735-739               14.0                   14272.0   \n",
       "1         4583.33    715-719               12.0                   11140.0   \n",
       "2        11500.00    690-694               14.0                   21977.0   \n",
       "3         3833.33    695-699               10.0                    9346.0   \n",
       "4         3195.00    695-699               11.0                   14469.0   \n",
       "\n",
       "   Inquiries_in_the_Last_6_Months  Employment_Length  \n",
       "0                             2.0                1.0  \n",
       "1                             1.0                2.0  \n",
       "2                             1.0                2.0  \n",
       "3                             0.0                5.0  \n",
       "4                             0.0                9.0  "
      ]
     },
     "execution_count": 211,
     "metadata": {},
     "output_type": "execute_result"
    }
   ],
   "source": [
    "df.head()"
   ]
  },
  {
   "cell_type": "code",
   "execution_count": 212,
   "metadata": {},
   "outputs": [],
   "source": [
    "df[['FICO_low' , 'FICO_high']] = df.FICO_Range.str.split('-' , expand = True)\n",
    "df['FICO_Avg'] = (pd.to_numeric(df.FICO_low) + pd.to_numeric(df.FICO_high))/2\n",
    "df['FICO_Avg']=pd.to_numeric(df['FICO_Avg'])"
   ]
  },
  {
   "cell_type": "code",
   "execution_count": 213,
   "metadata": {},
   "outputs": [],
   "source": [
    "del df['FICO_Range']\n",
    "del df['FICO_high']\n",
    "del df['FICO_low']"
   ]
  },
  {
   "cell_type": "code",
   "execution_count": 214,
   "metadata": {
    "scrolled": true
   },
   "outputs": [
    {
     "data": {
      "text/html": [
       "<div>\n",
       "<style scoped>\n",
       "    .dataframe tbody tr th:only-of-type {\n",
       "        vertical-align: middle;\n",
       "    }\n",
       "\n",
       "    .dataframe tbody tr th {\n",
       "        vertical-align: top;\n",
       "    }\n",
       "\n",
       "    .dataframe thead th {\n",
       "        text-align: right;\n",
       "    }\n",
       "</style>\n",
       "<table border=\"1\" class=\"dataframe\">\n",
       "  <thead>\n",
       "    <tr style=\"text-align: right;\">\n",
       "      <th></th>\n",
       "      <th>LoanID</th>\n",
       "      <th>Amount_Requested</th>\n",
       "      <th>Amount_Funded_By_Investors</th>\n",
       "      <th>Interest_Rate</th>\n",
       "      <th>Loan_Length</th>\n",
       "      <th>Loan_Purpose</th>\n",
       "      <th>Debt_To_Income_Ratio</th>\n",
       "      <th>State</th>\n",
       "      <th>Home_Ownership</th>\n",
       "      <th>Monthly_Income</th>\n",
       "      <th>Open_CREDIT_Lines</th>\n",
       "      <th>Revolving_CREDIT_Balance</th>\n",
       "      <th>Inquiries_in_the_Last_6_Months</th>\n",
       "      <th>Employment_Length</th>\n",
       "      <th>FICO_Avg</th>\n",
       "    </tr>\n",
       "  </thead>\n",
       "  <tbody>\n",
       "    <tr>\n",
       "      <th>0</th>\n",
       "      <td>1</td>\n",
       "      <td>20000.0</td>\n",
       "      <td>20000.0</td>\n",
       "      <td>8.90</td>\n",
       "      <td>36</td>\n",
       "      <td>debt_consolidation</td>\n",
       "      <td>14.90</td>\n",
       "      <td>SC</td>\n",
       "      <td>MORTGAGE</td>\n",
       "      <td>6541.67</td>\n",
       "      <td>14.0</td>\n",
       "      <td>14272.0</td>\n",
       "      <td>2.0</td>\n",
       "      <td>1.0</td>\n",
       "      <td>737.0</td>\n",
       "    </tr>\n",
       "    <tr>\n",
       "      <th>1</th>\n",
       "      <td>2</td>\n",
       "      <td>19200.0</td>\n",
       "      <td>19200.0</td>\n",
       "      <td>12.12</td>\n",
       "      <td>36</td>\n",
       "      <td>debt_consolidation</td>\n",
       "      <td>28.36</td>\n",
       "      <td>TX</td>\n",
       "      <td>MORTGAGE</td>\n",
       "      <td>4583.33</td>\n",
       "      <td>12.0</td>\n",
       "      <td>11140.0</td>\n",
       "      <td>1.0</td>\n",
       "      <td>2.0</td>\n",
       "      <td>717.0</td>\n",
       "    </tr>\n",
       "    <tr>\n",
       "      <th>2</th>\n",
       "      <td>3</td>\n",
       "      <td>35000.0</td>\n",
       "      <td>35000.0</td>\n",
       "      <td>21.98</td>\n",
       "      <td>60</td>\n",
       "      <td>debt_consolidation</td>\n",
       "      <td>23.81</td>\n",
       "      <td>CA</td>\n",
       "      <td>MORTGAGE</td>\n",
       "      <td>11500.00</td>\n",
       "      <td>14.0</td>\n",
       "      <td>21977.0</td>\n",
       "      <td>1.0</td>\n",
       "      <td>2.0</td>\n",
       "      <td>692.0</td>\n",
       "    </tr>\n",
       "    <tr>\n",
       "      <th>3</th>\n",
       "      <td>4</td>\n",
       "      <td>10000.0</td>\n",
       "      <td>9975.0</td>\n",
       "      <td>9.99</td>\n",
       "      <td>36</td>\n",
       "      <td>debt_consolidation</td>\n",
       "      <td>14.30</td>\n",
       "      <td>KS</td>\n",
       "      <td>MORTGAGE</td>\n",
       "      <td>3833.33</td>\n",
       "      <td>10.0</td>\n",
       "      <td>9346.0</td>\n",
       "      <td>0.0</td>\n",
       "      <td>5.0</td>\n",
       "      <td>697.0</td>\n",
       "    </tr>\n",
       "    <tr>\n",
       "      <th>4</th>\n",
       "      <td>5</td>\n",
       "      <td>12000.0</td>\n",
       "      <td>12000.0</td>\n",
       "      <td>11.71</td>\n",
       "      <td>36</td>\n",
       "      <td>credit_card</td>\n",
       "      <td>18.78</td>\n",
       "      <td>NJ</td>\n",
       "      <td>RENT</td>\n",
       "      <td>3195.00</td>\n",
       "      <td>11.0</td>\n",
       "      <td>14469.0</td>\n",
       "      <td>0.0</td>\n",
       "      <td>9.0</td>\n",
       "      <td>697.0</td>\n",
       "    </tr>\n",
       "  </tbody>\n",
       "</table>\n",
       "</div>"
      ],
      "text/plain": [
       "   LoanID  Amount_Requested  Amount_Funded_By_Investors  Interest_Rate  \\\n",
       "0       1           20000.0                     20000.0           8.90   \n",
       "1       2           19200.0                     19200.0          12.12   \n",
       "2       3           35000.0                     35000.0          21.98   \n",
       "3       4           10000.0                      9975.0           9.99   \n",
       "4       5           12000.0                     12000.0          11.71   \n",
       "\n",
       "   Loan_Length        Loan_Purpose  Debt_To_Income_Ratio State Home_Ownership  \\\n",
       "0           36  debt_consolidation                 14.90    SC       MORTGAGE   \n",
       "1           36  debt_consolidation                 28.36    TX       MORTGAGE   \n",
       "2           60  debt_consolidation                 23.81    CA       MORTGAGE   \n",
       "3           36  debt_consolidation                 14.30    KS       MORTGAGE   \n",
       "4           36         credit_card                 18.78    NJ           RENT   \n",
       "\n",
       "   Monthly_Income  Open_CREDIT_Lines  Revolving_CREDIT_Balance  \\\n",
       "0         6541.67               14.0                   14272.0   \n",
       "1         4583.33               12.0                   11140.0   \n",
       "2        11500.00               14.0                   21977.0   \n",
       "3         3833.33               10.0                    9346.0   \n",
       "4         3195.00               11.0                   14469.0   \n",
       "\n",
       "   Inquiries_in_the_Last_6_Months  Employment_Length  FICO_Avg  \n",
       "0                             2.0                1.0     737.0  \n",
       "1                             1.0                2.0     717.0  \n",
       "2                             1.0                2.0     692.0  \n",
       "3                             0.0                5.0     697.0  \n",
       "4                             0.0                9.0     697.0  "
      ]
     },
     "execution_count": 214,
     "metadata": {},
     "output_type": "execute_result"
    }
   ],
   "source": [
    "df.head()"
   ]
  },
  {
   "cell_type": "markdown",
   "metadata": {},
   "source": [
    "<span style = 'color: brown'> <b>  Perform Missing Value Treatment and Outlier Capping + Encoding"
   ]
  },
  {
   "cell_type": "markdown",
   "metadata": {},
   "source": [
    "##### Dividing the Data into Numerical and Categorical Data type."
   ]
  },
  {
   "cell_type": "code",
   "execution_count": 215,
   "metadata": {},
   "outputs": [],
   "source": [
    "# it will be better to get rid of 'LoanID' as it an id variable and it is of no use.\n",
    "\n",
    "del df['LoanID']"
   ]
  },
  {
   "cell_type": "markdown",
   "metadata": {},
   "source": [
    "**REMARK:** \n",
    " -We generally don't perform any action on Y-variable like missing value treatment, we rather drop the row having missing value."
   ]
  },
  {
   "cell_type": "code",
   "execution_count": 216,
   "metadata": {},
   "outputs": [
    {
     "data": {
      "text/plain": [
       "2"
      ]
     },
     "execution_count": 216,
     "metadata": {},
     "output_type": "execute_result"
    }
   ],
   "source": [
    "df.Interest_Rate.isna().sum()"
   ]
  },
  {
   "cell_type": "code",
   "execution_count": 217,
   "metadata": {},
   "outputs": [],
   "source": [
    "df = df.dropna(axis = 0, subset = ['Interest_Rate'])"
   ]
  },
  {
   "cell_type": "code",
   "execution_count": 218,
   "metadata": {},
   "outputs": [
    {
     "data": {
      "text/plain": [
       "0"
      ]
     },
     "execution_count": 218,
     "metadata": {},
     "output_type": "execute_result"
    }
   ],
   "source": [
    "df.Interest_Rate.isna().sum()"
   ]
  },
  {
   "cell_type": "code",
   "execution_count": 219,
   "metadata": {
    "scrolled": false
   },
   "outputs": [
    {
     "data": {
      "text/plain": [
       "{'Amount_Requested': dtype('float64'),\n",
       " 'Amount_Funded_By_Investors': dtype('float64'),\n",
       " 'Interest_Rate': dtype('float64'),\n",
       " 'Loan_Length': dtype('int64'),\n",
       " 'Loan_Purpose': dtype('O'),\n",
       " 'Debt_To_Income_Ratio': dtype('float64'),\n",
       " 'State': dtype('O'),\n",
       " 'Home_Ownership': dtype('O'),\n",
       " 'Monthly_Income': dtype('float64'),\n",
       " 'Open_CREDIT_Lines': dtype('float64'),\n",
       " 'Revolving_CREDIT_Balance': dtype('float64'),\n",
       " 'Inquiries_in_the_Last_6_Months': dtype('float64'),\n",
       " 'Employment_Length': dtype('float64'),\n",
       " 'FICO_Avg': dtype('float64')}"
      ]
     },
     "execution_count": 219,
     "metadata": {},
     "output_type": "execute_result"
    }
   ],
   "source": [
    "dict(df.dtypes)"
   ]
  },
  {
   "cell_type": "raw",
   "metadata": {},
   "source": [
    "# Method 1\n",
    "\n",
    "df_num = df['mention all the names of the numerical variables']\n",
    "df_cat = df['mention all the names of the categorical variables']"
   ]
  },
  {
   "cell_type": "raw",
   "metadata": {},
   "source": [
    "# Method 2\n",
    "\n",
    "cat_var_names = list(df.dtypes[df.dtypes == 'object'].index)\n",
    "df_cat = df[cat_var_names]"
   ]
  },
  {
   "cell_type": "code",
   "execution_count": 220,
   "metadata": {},
   "outputs": [],
   "source": [
    "# Method 3\n",
    "\n",
    "num_var_names = [key for key in dict(df.dtypes) if dict(df.dtypes)[key] in ['float64','int64','float32','int32']]\n",
    "\n",
    "cat_var_names = [key for key in dict(df.dtypes) if dict(df.dtypes)[key] in ['object']]"
   ]
  },
  {
   "cell_type": "code",
   "execution_count": 221,
   "metadata": {},
   "outputs": [],
   "source": [
    "df_num = df[num_var_names]"
   ]
  },
  {
   "cell_type": "code",
   "execution_count": 222,
   "metadata": {
    "scrolled": true
   },
   "outputs": [
    {
     "data": {
      "text/html": [
       "<div>\n",
       "<style scoped>\n",
       "    .dataframe tbody tr th:only-of-type {\n",
       "        vertical-align: middle;\n",
       "    }\n",
       "\n",
       "    .dataframe tbody tr th {\n",
       "        vertical-align: top;\n",
       "    }\n",
       "\n",
       "    .dataframe thead th {\n",
       "        text-align: right;\n",
       "    }\n",
       "</style>\n",
       "<table border=\"1\" class=\"dataframe\">\n",
       "  <thead>\n",
       "    <tr style=\"text-align: right;\">\n",
       "      <th></th>\n",
       "      <th>Amount_Requested</th>\n",
       "      <th>Amount_Funded_By_Investors</th>\n",
       "      <th>Interest_Rate</th>\n",
       "      <th>Loan_Length</th>\n",
       "      <th>Debt_To_Income_Ratio</th>\n",
       "      <th>Monthly_Income</th>\n",
       "      <th>Open_CREDIT_Lines</th>\n",
       "      <th>Revolving_CREDIT_Balance</th>\n",
       "      <th>Inquiries_in_the_Last_6_Months</th>\n",
       "      <th>Employment_Length</th>\n",
       "      <th>FICO_Avg</th>\n",
       "    </tr>\n",
       "  </thead>\n",
       "  <tbody>\n",
       "    <tr>\n",
       "      <th>0</th>\n",
       "      <td>20000.0</td>\n",
       "      <td>20000.0</td>\n",
       "      <td>8.90</td>\n",
       "      <td>36</td>\n",
       "      <td>14.90</td>\n",
       "      <td>6541.67</td>\n",
       "      <td>14.0</td>\n",
       "      <td>14272.0</td>\n",
       "      <td>2.0</td>\n",
       "      <td>1.0</td>\n",
       "      <td>737.0</td>\n",
       "    </tr>\n",
       "    <tr>\n",
       "      <th>1</th>\n",
       "      <td>19200.0</td>\n",
       "      <td>19200.0</td>\n",
       "      <td>12.12</td>\n",
       "      <td>36</td>\n",
       "      <td>28.36</td>\n",
       "      <td>4583.33</td>\n",
       "      <td>12.0</td>\n",
       "      <td>11140.0</td>\n",
       "      <td>1.0</td>\n",
       "      <td>2.0</td>\n",
       "      <td>717.0</td>\n",
       "    </tr>\n",
       "    <tr>\n",
       "      <th>2</th>\n",
       "      <td>35000.0</td>\n",
       "      <td>35000.0</td>\n",
       "      <td>21.98</td>\n",
       "      <td>60</td>\n",
       "      <td>23.81</td>\n",
       "      <td>11500.00</td>\n",
       "      <td>14.0</td>\n",
       "      <td>21977.0</td>\n",
       "      <td>1.0</td>\n",
       "      <td>2.0</td>\n",
       "      <td>692.0</td>\n",
       "    </tr>\n",
       "    <tr>\n",
       "      <th>3</th>\n",
       "      <td>10000.0</td>\n",
       "      <td>9975.0</td>\n",
       "      <td>9.99</td>\n",
       "      <td>36</td>\n",
       "      <td>14.30</td>\n",
       "      <td>3833.33</td>\n",
       "      <td>10.0</td>\n",
       "      <td>9346.0</td>\n",
       "      <td>0.0</td>\n",
       "      <td>5.0</td>\n",
       "      <td>697.0</td>\n",
       "    </tr>\n",
       "    <tr>\n",
       "      <th>4</th>\n",
       "      <td>12000.0</td>\n",
       "      <td>12000.0</td>\n",
       "      <td>11.71</td>\n",
       "      <td>36</td>\n",
       "      <td>18.78</td>\n",
       "      <td>3195.00</td>\n",
       "      <td>11.0</td>\n",
       "      <td>14469.0</td>\n",
       "      <td>0.0</td>\n",
       "      <td>9.0</td>\n",
       "      <td>697.0</td>\n",
       "    </tr>\n",
       "  </tbody>\n",
       "</table>\n",
       "</div>"
      ],
      "text/plain": [
       "   Amount_Requested  Amount_Funded_By_Investors  Interest_Rate  Loan_Length  \\\n",
       "0           20000.0                     20000.0           8.90           36   \n",
       "1           19200.0                     19200.0          12.12           36   \n",
       "2           35000.0                     35000.0          21.98           60   \n",
       "3           10000.0                      9975.0           9.99           36   \n",
       "4           12000.0                     12000.0          11.71           36   \n",
       "\n",
       "   Debt_To_Income_Ratio  Monthly_Income  Open_CREDIT_Lines  \\\n",
       "0                 14.90         6541.67               14.0   \n",
       "1                 28.36         4583.33               12.0   \n",
       "2                 23.81        11500.00               14.0   \n",
       "3                 14.30         3833.33               10.0   \n",
       "4                 18.78         3195.00               11.0   \n",
       "\n",
       "   Revolving_CREDIT_Balance  Inquiries_in_the_Last_6_Months  \\\n",
       "0                   14272.0                             2.0   \n",
       "1                   11140.0                             1.0   \n",
       "2                   21977.0                             1.0   \n",
       "3                    9346.0                             0.0   \n",
       "4                   14469.0                             0.0   \n",
       "\n",
       "   Employment_Length  FICO_Avg  \n",
       "0                1.0     737.0  \n",
       "1                2.0     717.0  \n",
       "2                2.0     692.0  \n",
       "3                5.0     697.0  \n",
       "4                9.0     697.0  "
      ]
     },
     "execution_count": 222,
     "metadata": {},
     "output_type": "execute_result"
    }
   ],
   "source": [
    "df_num.head()"
   ]
  },
  {
   "cell_type": "code",
   "execution_count": 223,
   "metadata": {},
   "outputs": [],
   "source": [
    "del df_num['Interest_Rate']"
   ]
  },
  {
   "cell_type": "code",
   "execution_count": 224,
   "metadata": {},
   "outputs": [],
   "source": [
    "df_cat = df[cat_var_names]"
   ]
  },
  {
   "cell_type": "code",
   "execution_count": 225,
   "metadata": {},
   "outputs": [],
   "source": [
    "df_Y = df[['Interest_Rate']]"
   ]
  },
  {
   "cell_type": "code",
   "execution_count": 226,
   "metadata": {},
   "outputs": [],
   "source": [
    "df_Y = df[['Interest_Rate']]"
   ]
  },
  {
   "cell_type": "code",
   "execution_count": 227,
   "metadata": {
    "scrolled": true
   },
   "outputs": [
    {
     "name": "stdout",
     "output_type": "stream",
     "text": [
      "number of rows in the numerical dataset : 2498\n",
      "number of rows in the categorical dataset : 2498\n",
      "number of rows in the Y dataset : 2498\n"
     ]
    }
   ],
   "source": [
    "print(\"number of rows in the numerical dataset :\",len(df_num))\n",
    "print(\"number of rows in the categorical dataset :\",len(df_cat))\n",
    "print(\"number of rows in the Y dataset :\",len(df_Y))"
   ]
  },
  {
   "cell_type": "markdown",
   "metadata": {},
   "source": [
    "##### Outlier and Missing Value Treatment for Numerical Variables"
   ]
  },
  {
   "cell_type": "code",
   "execution_count": 228,
   "metadata": {},
   "outputs": [],
   "source": [
    "# missing value treatment for single value-\n",
    "\n",
    "# df_num.Amount_Funded_By_Investors = df_num.Amount_Funded_By_Investors.fillna(df_num.Amount_Funded_By_Investors.mean())"
   ]
  },
  {
   "cell_type": "code",
   "execution_count": 229,
   "metadata": {},
   "outputs": [],
   "source": [
    "# Outlier treatment for single value-\n",
    "\n",
    "# df.Amount_Requested = df.Amount_Requested.clip(lower = 0.01)\n",
    "# df.Amount_Requested = df.Amount_Requested.clip(upper = 0.99)"
   ]
  },
  {
   "cell_type": "code",
   "execution_count": 230,
   "metadata": {},
   "outputs": [],
   "source": [
    "def outlier_missing_treatment(x):\n",
    "    x = x.clip(lower = x.quantile(0.01))\n",
    "    x = x.clip(upper = x.quantile(0.99))\n",
    "    x = x.fillna(x.mean())\n",
    "    return(x)"
   ]
  },
  {
   "cell_type": "code",
   "execution_count": 231,
   "metadata": {},
   "outputs": [],
   "source": [
    "df_num = df_num.apply(outlier_missing_treatment)"
   ]
  },
  {
   "cell_type": "code",
   "execution_count": 232,
   "metadata": {
    "scrolled": true
   },
   "outputs": [
    {
     "data": {
      "text/plain": [
       "Amount_Requested                  0\n",
       "Amount_Funded_By_Investors        0\n",
       "Loan_Length                       0\n",
       "Debt_To_Income_Ratio              0\n",
       "Monthly_Income                    0\n",
       "Open_CREDIT_Lines                 0\n",
       "Revolving_CREDIT_Balance          0\n",
       "Inquiries_in_the_Last_6_Months    0\n",
       "Employment_Length                 0\n",
       "FICO_Avg                          0\n",
       "dtype: int64"
      ]
     },
     "execution_count": 232,
     "metadata": {},
     "output_type": "execute_result"
    }
   ],
   "source": [
    "df_num.isna().sum()"
   ]
  },
  {
   "cell_type": "markdown",
   "metadata": {},
   "source": [
    "##### Missing Value Treatment for Numerical Variables"
   ]
  },
  {
   "cell_type": "code",
   "execution_count": 233,
   "metadata": {},
   "outputs": [
    {
     "data": {
      "text/plain": [
       "'debt_consolidation'"
      ]
     },
     "execution_count": 233,
     "metadata": {},
     "output_type": "execute_result"
    }
   ],
   "source": [
    "df_cat.Loan_Purpose.mode().iloc[0]"
   ]
  },
  {
   "cell_type": "code",
   "execution_count": 234,
   "metadata": {},
   "outputs": [],
   "source": [
    "def missing_cat_treatment(x):\n",
    "    x = x.fillna(x.mode().iloc[0])\n",
    "    return x"
   ]
  },
  {
   "cell_type": "code",
   "execution_count": 235,
   "metadata": {},
   "outputs": [],
   "source": [
    "df_cat = df_cat.apply(missing_cat_treatment)"
   ]
  },
  {
   "cell_type": "code",
   "execution_count": 236,
   "metadata": {
    "scrolled": true
   },
   "outputs": [
    {
     "data": {
      "text/plain": [
       "Loan_Purpose      0\n",
       "State             0\n",
       "Home_Ownership    0\n",
       "dtype: int64"
      ]
     },
     "execution_count": 236,
     "metadata": {},
     "output_type": "execute_result"
    }
   ],
   "source": [
    "df_cat.isna().sum()"
   ]
  },
  {
   "cell_type": "markdown",
   "metadata": {},
   "source": [
    "<span style = 'color: brown'> <b>  Dumy Variable Creation"
   ]
  },
  {
   "cell_type": "code",
   "execution_count": 237,
   "metadata": {},
   "outputs": [],
   "source": [
    "df_cat_dummy = pd.get_dummies(df_cat, drop_first = True).astype(\"int64\")"
   ]
  },
  {
   "cell_type": "code",
   "execution_count": 238,
   "metadata": {},
   "outputs": [
    {
     "data": {
      "text/plain": [
       "Series([], dtype: object)"
      ]
     },
     "execution_count": 238,
     "metadata": {},
     "output_type": "execute_result"
    }
   ],
   "source": [
    "df_cat_dummy.dtypes[df_cat_dummy.dtypes=='object']"
   ]
  },
  {
   "cell_type": "code",
   "execution_count": 239,
   "metadata": {},
   "outputs": [
    {
     "data": {
      "text/plain": [
       "Loan_Purpose_credit_card           int64\n",
       "Loan_Purpose_debt_consolidation    int64\n",
       "Loan_Purpose_educational           int64\n",
       "Loan_Purpose_home_improvement      int64\n",
       "Loan_Purpose_house                 int64\n",
       "                                   ...  \n",
       "State_WY                           int64\n",
       "Home_Ownership_NONE                int64\n",
       "Home_Ownership_OTHER               int64\n",
       "Home_Ownership_OWN                 int64\n",
       "Home_Ownership_RENT                int64\n",
       "Length: 62, dtype: object"
      ]
     },
     "execution_count": 239,
     "metadata": {},
     "output_type": "execute_result"
    }
   ],
   "source": [
    "df_cat_dummy.dtypes"
   ]
  },
  {
   "cell_type": "code",
   "execution_count": 240,
   "metadata": {},
   "outputs": [
    {
     "data": {
      "text/plain": [
       "Series([], dtype: object)"
      ]
     },
     "execution_count": 240,
     "metadata": {},
     "output_type": "execute_result"
    }
   ],
   "source": [
    "# check for any object variable.\n",
    "\n",
    "df_cat_dummy.dtypes[df_cat_dummy.dtypes == 'object']"
   ]
  },
  {
   "cell_type": "code",
   "execution_count": 241,
   "metadata": {},
   "outputs": [],
   "source": [
    "df_cleaned = pd.concat([df_num , df_cat_dummy , df_Y] , axis = 1)"
   ]
  },
  {
   "cell_type": "markdown",
   "metadata": {},
   "source": [
    "### <span style = 'color : green'> Data Preparation Level 2."
   ]
  },
  {
   "cell_type": "markdown",
   "metadata": {},
   "source": [
    "<span style = 'color: brown'> <b> Checking for Normal Distribution."
   ]
  },
  {
   "cell_type": "code",
   "execution_count": 242,
   "metadata": {},
   "outputs": [],
   "source": [
    "%matplotlib inline"
   ]
  },
  {
   "cell_type": "code",
   "execution_count": 243,
   "metadata": {},
   "outputs": [
    {
     "data": {
      "image/png": "[encoded data removed]",
      "text/plain": [
       "<Figure size 432x288 with 1 Axes>"
      ]
     },
     "metadata": {
      "needs_background": "light"
     },
     "output_type": "display_data"
    }
   ],
   "source": [
    "sns.histplot(df_cleaned.Interest_Rate , kde = True , line_kws = {'linewidth': 2} , color = 'red')\n",
    "plt.show()"
   ]
  },
  {
   "cell_type": "code",
   "execution_count": 244,
   "metadata": {},
   "outputs": [
    {
     "name": "stdout",
     "output_type": "stream",
     "text": [
      "skewness : 0.2797216746199095\n",
      "kurtosis : -0.46030477146197457\n"
     ]
    }
   ],
   "source": [
    "print(\"skewness :\",df_cleaned.Interest_Rate.skew())\n",
    "print(\"kurtosis :\",df_cleaned.Interest_Rate.kurtosis())"
   ]
  },
  {
   "cell_type": "raw",
   "metadata": {},
   "source": [
    "For making the distribution more normal.\n",
    "\n",
    "(Transformation) types:\n",
    "-log\n",
    "-square\n",
    "-cube\n",
    "-log10"
   ]
  },
  {
   "cell_type": "code",
   "execution_count": 245,
   "metadata": {},
   "outputs": [
    {
     "data": {
      "image/png": "[encoded data removed]",
      "text/plain": [
       "<Figure size 432x288 with 1 Axes>"
      ]
     },
     "metadata": {
      "needs_background": "light"
     },
     "output_type": "display_data"
    }
   ],
   "source": [
    "# By taking log.\n",
    "\n",
    "sns.histplot(np.log(df_cleaned.Interest_Rate) , kde = True , line_kws = {'linewidth': 2} , color = 'red')\n",
    "plt.show()"
   ]
  },
  {
   "cell_type": "code",
   "execution_count": 246,
   "metadata": {},
   "outputs": [
    {
     "name": "stdout",
     "output_type": "stream",
     "text": [
      "skewness : -0.3951060498317453\n",
      "kurtosis : -0.5439036242758348\n"
     ]
    }
   ],
   "source": [
    "print(\"skewness :\",np.log(df_cleaned.Interest_Rate).skew())\n",
    "print(\"kurtosis :\",np.log(df_cleaned.Interest_Rate).kurtosis())"
   ]
  },
  {
   "cell_type": "code",
   "execution_count": 247,
   "metadata": {},
   "outputs": [],
   "source": [
    "df_cleaned[['ln_Interest_Rate']] =  np.log(df_cleaned.Interest_Rate)"
   ]
  },
  {
   "cell_type": "code",
   "execution_count": 248,
   "metadata": {
    "scrolled": true
   },
   "outputs": [
    {
     "data": {
      "text/html": [
       "<div>\n",
       "<style scoped>\n",
       "    .dataframe tbody tr th:only-of-type {\n",
       "        vertical-align: middle;\n",
       "    }\n",
       "\n",
       "    .dataframe tbody tr th {\n",
       "        vertical-align: top;\n",
       "    }\n",
       "\n",
       "    .dataframe thead th {\n",
       "        text-align: right;\n",
       "    }\n",
       "</style>\n",
       "<table border=\"1\" class=\"dataframe\">\n",
       "  <thead>\n",
       "    <tr style=\"text-align: right;\">\n",
       "      <th></th>\n",
       "      <th>Amount_Requested</th>\n",
       "      <th>Amount_Funded_By_Investors</th>\n",
       "      <th>Loan_Length</th>\n",
       "      <th>Debt_To_Income_Ratio</th>\n",
       "      <th>Monthly_Income</th>\n",
       "      <th>Open_CREDIT_Lines</th>\n",
       "      <th>Revolving_CREDIT_Balance</th>\n",
       "      <th>Inquiries_in_the_Last_6_Months</th>\n",
       "      <th>Employment_Length</th>\n",
       "      <th>FICO_Avg</th>\n",
       "      <th>...</th>\n",
       "      <th>State_WA</th>\n",
       "      <th>State_WI</th>\n",
       "      <th>State_WV</th>\n",
       "      <th>State_WY</th>\n",
       "      <th>Home_Ownership_NONE</th>\n",
       "      <th>Home_Ownership_OTHER</th>\n",
       "      <th>Home_Ownership_OWN</th>\n",
       "      <th>Home_Ownership_RENT</th>\n",
       "      <th>Interest_Rate</th>\n",
       "      <th>ln_Interest_Rate</th>\n",
       "    </tr>\n",
       "  </thead>\n",
       "  <tbody>\n",
       "    <tr>\n",
       "      <th>0</th>\n",
       "      <td>20000.0</td>\n",
       "      <td>20000.0</td>\n",
       "      <td>36</td>\n",
       "      <td>14.90</td>\n",
       "      <td>6541.67</td>\n",
       "      <td>14.0</td>\n",
       "      <td>14272.0</td>\n",
       "      <td>2.0</td>\n",
       "      <td>1.0</td>\n",
       "      <td>737.0</td>\n",
       "      <td>...</td>\n",
       "      <td>0</td>\n",
       "      <td>0</td>\n",
       "      <td>0</td>\n",
       "      <td>0</td>\n",
       "      <td>0</td>\n",
       "      <td>0</td>\n",
       "      <td>0</td>\n",
       "      <td>0</td>\n",
       "      <td>8.90</td>\n",
       "      <td>2.186051</td>\n",
       "    </tr>\n",
       "    <tr>\n",
       "      <th>1</th>\n",
       "      <td>19200.0</td>\n",
       "      <td>19200.0</td>\n",
       "      <td>36</td>\n",
       "      <td>28.36</td>\n",
       "      <td>4583.33</td>\n",
       "      <td>12.0</td>\n",
       "      <td>11140.0</td>\n",
       "      <td>1.0</td>\n",
       "      <td>2.0</td>\n",
       "      <td>717.0</td>\n",
       "      <td>...</td>\n",
       "      <td>0</td>\n",
       "      <td>0</td>\n",
       "      <td>0</td>\n",
       "      <td>0</td>\n",
       "      <td>0</td>\n",
       "      <td>0</td>\n",
       "      <td>0</td>\n",
       "      <td>0</td>\n",
       "      <td>12.12</td>\n",
       "      <td>2.494857</td>\n",
       "    </tr>\n",
       "    <tr>\n",
       "      <th>2</th>\n",
       "      <td>35000.0</td>\n",
       "      <td>35000.0</td>\n",
       "      <td>60</td>\n",
       "      <td>23.81</td>\n",
       "      <td>11500.00</td>\n",
       "      <td>14.0</td>\n",
       "      <td>21977.0</td>\n",
       "      <td>1.0</td>\n",
       "      <td>2.0</td>\n",
       "      <td>692.0</td>\n",
       "      <td>...</td>\n",
       "      <td>0</td>\n",
       "      <td>0</td>\n",
       "      <td>0</td>\n",
       "      <td>0</td>\n",
       "      <td>0</td>\n",
       "      <td>0</td>\n",
       "      <td>0</td>\n",
       "      <td>0</td>\n",
       "      <td>21.98</td>\n",
       "      <td>3.090133</td>\n",
       "    </tr>\n",
       "    <tr>\n",
       "      <th>3</th>\n",
       "      <td>10000.0</td>\n",
       "      <td>9975.0</td>\n",
       "      <td>36</td>\n",
       "      <td>14.30</td>\n",
       "      <td>3833.33</td>\n",
       "      <td>10.0</td>\n",
       "      <td>9346.0</td>\n",
       "      <td>0.0</td>\n",
       "      <td>5.0</td>\n",
       "      <td>697.0</td>\n",
       "      <td>...</td>\n",
       "      <td>0</td>\n",
       "      <td>0</td>\n",
       "      <td>0</td>\n",
       "      <td>0</td>\n",
       "      <td>0</td>\n",
       "      <td>0</td>\n",
       "      <td>0</td>\n",
       "      <td>0</td>\n",
       "      <td>9.99</td>\n",
       "      <td>2.301585</td>\n",
       "    </tr>\n",
       "    <tr>\n",
       "      <th>4</th>\n",
       "      <td>12000.0</td>\n",
       "      <td>12000.0</td>\n",
       "      <td>36</td>\n",
       "      <td>18.78</td>\n",
       "      <td>3195.00</td>\n",
       "      <td>11.0</td>\n",
       "      <td>14469.0</td>\n",
       "      <td>0.0</td>\n",
       "      <td>9.0</td>\n",
       "      <td>697.0</td>\n",
       "      <td>...</td>\n",
       "      <td>0</td>\n",
       "      <td>0</td>\n",
       "      <td>0</td>\n",
       "      <td>0</td>\n",
       "      <td>0</td>\n",
       "      <td>0</td>\n",
       "      <td>0</td>\n",
       "      <td>1</td>\n",
       "      <td>11.71</td>\n",
       "      <td>2.460443</td>\n",
       "    </tr>\n",
       "  </tbody>\n",
       "</table>\n",
       "<p>5 rows × 74 columns</p>\n",
       "</div>"
      ],
      "text/plain": [
       "   Amount_Requested  Amount_Funded_By_Investors  Loan_Length  \\\n",
       "0           20000.0                     20000.0           36   \n",
       "1           19200.0                     19200.0           36   \n",
       "2           35000.0                     35000.0           60   \n",
       "3           10000.0                      9975.0           36   \n",
       "4           12000.0                     12000.0           36   \n",
       "\n",
       "   Debt_To_Income_Ratio  Monthly_Income  Open_CREDIT_Lines  \\\n",
       "0                 14.90         6541.67               14.0   \n",
       "1                 28.36         4583.33               12.0   \n",
       "2                 23.81        11500.00               14.0   \n",
       "3                 14.30         3833.33               10.0   \n",
       "4                 18.78         3195.00               11.0   \n",
       "\n",
       "   Revolving_CREDIT_Balance  Inquiries_in_the_Last_6_Months  \\\n",
       "0                   14272.0                             2.0   \n",
       "1                   11140.0                             1.0   \n",
       "2                   21977.0                             1.0   \n",
       "3                    9346.0                             0.0   \n",
       "4                   14469.0                             0.0   \n",
       "\n",
       "   Employment_Length  FICO_Avg  ...  State_WA  State_WI  State_WV  State_WY  \\\n",
       "0                1.0     737.0  ...         0         0         0         0   \n",
       "1                2.0     717.0  ...         0         0         0         0   \n",
       "2                2.0     692.0  ...         0         0         0         0   \n",
       "3                5.0     697.0  ...         0         0         0         0   \n",
       "4                9.0     697.0  ...         0         0         0         0   \n",
       "\n",
       "   Home_Ownership_NONE  Home_Ownership_OTHER  Home_Ownership_OWN  \\\n",
       "0                    0                     0                   0   \n",
       "1                    0                     0                   0   \n",
       "2                    0                     0                   0   \n",
       "3                    0                     0                   0   \n",
       "4                    0                     0                   0   \n",
       "\n",
       "   Home_Ownership_RENT  Interest_Rate  ln_Interest_Rate  \n",
       "0                    0           8.90          2.186051  \n",
       "1                    0          12.12          2.494857  \n",
       "2                    0          21.98          3.090133  \n",
       "3                    0           9.99          2.301585  \n",
       "4                    1          11.71          2.460443  \n",
       "\n",
       "[5 rows x 74 columns]"
      ]
     },
     "execution_count": 248,
     "metadata": {},
     "output_type": "execute_result"
    }
   ],
   "source": [
    "df_cleaned.head()"
   ]
  },
  {
   "cell_type": "code",
   "execution_count": 249,
   "metadata": {},
   "outputs": [],
   "source": [
    "del df_cleaned['Interest_Rate']"
   ]
  },
  {
   "cell_type": "code",
   "execution_count": 250,
   "metadata": {},
   "outputs": [
    {
     "data": {
      "text/html": [
       "<div>\n",
       "<style scoped>\n",
       "    .dataframe tbody tr th:only-of-type {\n",
       "        vertical-align: middle;\n",
       "    }\n",
       "\n",
       "    .dataframe tbody tr th {\n",
       "        vertical-align: top;\n",
       "    }\n",
       "\n",
       "    .dataframe thead th {\n",
       "        text-align: right;\n",
       "    }\n",
       "</style>\n",
       "<table border=\"1\" class=\"dataframe\">\n",
       "  <thead>\n",
       "    <tr style=\"text-align: right;\">\n",
       "      <th></th>\n",
       "      <th>Amount_Requested</th>\n",
       "      <th>Amount_Funded_By_Investors</th>\n",
       "      <th>Loan_Length</th>\n",
       "      <th>Debt_To_Income_Ratio</th>\n",
       "      <th>Monthly_Income</th>\n",
       "      <th>Open_CREDIT_Lines</th>\n",
       "      <th>Revolving_CREDIT_Balance</th>\n",
       "      <th>Inquiries_in_the_Last_6_Months</th>\n",
       "      <th>Employment_Length</th>\n",
       "      <th>FICO_Avg</th>\n",
       "      <th>...</th>\n",
       "      <th>State_VT</th>\n",
       "      <th>State_WA</th>\n",
       "      <th>State_WI</th>\n",
       "      <th>State_WV</th>\n",
       "      <th>State_WY</th>\n",
       "      <th>Home_Ownership_NONE</th>\n",
       "      <th>Home_Ownership_OTHER</th>\n",
       "      <th>Home_Ownership_OWN</th>\n",
       "      <th>Home_Ownership_RENT</th>\n",
       "      <th>ln_Interest_Rate</th>\n",
       "    </tr>\n",
       "  </thead>\n",
       "  <tbody>\n",
       "    <tr>\n",
       "      <th>0</th>\n",
       "      <td>20000.0</td>\n",
       "      <td>20000.0</td>\n",
       "      <td>36</td>\n",
       "      <td>14.90</td>\n",
       "      <td>6541.67</td>\n",
       "      <td>14.0</td>\n",
       "      <td>14272.0</td>\n",
       "      <td>2.0</td>\n",
       "      <td>1.0</td>\n",
       "      <td>737.0</td>\n",
       "      <td>...</td>\n",
       "      <td>0</td>\n",
       "      <td>0</td>\n",
       "      <td>0</td>\n",
       "      <td>0</td>\n",
       "      <td>0</td>\n",
       "      <td>0</td>\n",
       "      <td>0</td>\n",
       "      <td>0</td>\n",
       "      <td>0</td>\n",
       "      <td>2.186051</td>\n",
       "    </tr>\n",
       "    <tr>\n",
       "      <th>1</th>\n",
       "      <td>19200.0</td>\n",
       "      <td>19200.0</td>\n",
       "      <td>36</td>\n",
       "      <td>28.36</td>\n",
       "      <td>4583.33</td>\n",
       "      <td>12.0</td>\n",
       "      <td>11140.0</td>\n",
       "      <td>1.0</td>\n",
       "      <td>2.0</td>\n",
       "      <td>717.0</td>\n",
       "      <td>...</td>\n",
       "      <td>0</td>\n",
       "      <td>0</td>\n",
       "      <td>0</td>\n",
       "      <td>0</td>\n",
       "      <td>0</td>\n",
       "      <td>0</td>\n",
       "      <td>0</td>\n",
       "      <td>0</td>\n",
       "      <td>0</td>\n",
       "      <td>2.494857</td>\n",
       "    </tr>\n",
       "    <tr>\n",
       "      <th>2</th>\n",
       "      <td>35000.0</td>\n",
       "      <td>35000.0</td>\n",
       "      <td>60</td>\n",
       "      <td>23.81</td>\n",
       "      <td>11500.00</td>\n",
       "      <td>14.0</td>\n",
       "      <td>21977.0</td>\n",
       "      <td>1.0</td>\n",
       "      <td>2.0</td>\n",
       "      <td>692.0</td>\n",
       "      <td>...</td>\n",
       "      <td>0</td>\n",
       "      <td>0</td>\n",
       "      <td>0</td>\n",
       "      <td>0</td>\n",
       "      <td>0</td>\n",
       "      <td>0</td>\n",
       "      <td>0</td>\n",
       "      <td>0</td>\n",
       "      <td>0</td>\n",
       "      <td>3.090133</td>\n",
       "    </tr>\n",
       "    <tr>\n",
       "      <th>3</th>\n",
       "      <td>10000.0</td>\n",
       "      <td>9975.0</td>\n",
       "      <td>36</td>\n",
       "      <td>14.30</td>\n",
       "      <td>3833.33</td>\n",
       "      <td>10.0</td>\n",
       "      <td>9346.0</td>\n",
       "      <td>0.0</td>\n",
       "      <td>5.0</td>\n",
       "      <td>697.0</td>\n",
       "      <td>...</td>\n",
       "      <td>0</td>\n",
       "      <td>0</td>\n",
       "      <td>0</td>\n",
       "      <td>0</td>\n",
       "      <td>0</td>\n",
       "      <td>0</td>\n",
       "      <td>0</td>\n",
       "      <td>0</td>\n",
       "      <td>0</td>\n",
       "      <td>2.301585</td>\n",
       "    </tr>\n",
       "    <tr>\n",
       "      <th>4</th>\n",
       "      <td>12000.0</td>\n",
       "      <td>12000.0</td>\n",
       "      <td>36</td>\n",
       "      <td>18.78</td>\n",
       "      <td>3195.00</td>\n",
       "      <td>11.0</td>\n",
       "      <td>14469.0</td>\n",
       "      <td>0.0</td>\n",
       "      <td>9.0</td>\n",
       "      <td>697.0</td>\n",
       "      <td>...</td>\n",
       "      <td>0</td>\n",
       "      <td>0</td>\n",
       "      <td>0</td>\n",
       "      <td>0</td>\n",
       "      <td>0</td>\n",
       "      <td>0</td>\n",
       "      <td>0</td>\n",
       "      <td>0</td>\n",
       "      <td>1</td>\n",
       "      <td>2.460443</td>\n",
       "    </tr>\n",
       "  </tbody>\n",
       "</table>\n",
       "<p>5 rows × 73 columns</p>\n",
       "</div>"
      ],
      "text/plain": [
       "   Amount_Requested  Amount_Funded_By_Investors  Loan_Length  \\\n",
       "0           20000.0                     20000.0           36   \n",
       "1           19200.0                     19200.0           36   \n",
       "2           35000.0                     35000.0           60   \n",
       "3           10000.0                      9975.0           36   \n",
       "4           12000.0                     12000.0           36   \n",
       "\n",
       "   Debt_To_Income_Ratio  Monthly_Income  Open_CREDIT_Lines  \\\n",
       "0                 14.90         6541.67               14.0   \n",
       "1                 28.36         4583.33               12.0   \n",
       "2                 23.81        11500.00               14.0   \n",
       "3                 14.30         3833.33               10.0   \n",
       "4                 18.78         3195.00               11.0   \n",
       "\n",
       "   Revolving_CREDIT_Balance  Inquiries_in_the_Last_6_Months  \\\n",
       "0                   14272.0                             2.0   \n",
       "1                   11140.0                             1.0   \n",
       "2                   21977.0                             1.0   \n",
       "3                    9346.0                             0.0   \n",
       "4                   14469.0                             0.0   \n",
       "\n",
       "   Employment_Length  FICO_Avg  ...  State_VT  State_WA  State_WI  State_WV  \\\n",
       "0                1.0     737.0  ...         0         0         0         0   \n",
       "1                2.0     717.0  ...         0         0         0         0   \n",
       "2                2.0     692.0  ...         0         0         0         0   \n",
       "3                5.0     697.0  ...         0         0         0         0   \n",
       "4                9.0     697.0  ...         0         0         0         0   \n",
       "\n",
       "   State_WY  Home_Ownership_NONE  Home_Ownership_OTHER  Home_Ownership_OWN  \\\n",
       "0         0                    0                     0                   0   \n",
       "1         0                    0                     0                   0   \n",
       "2         0                    0                     0                   0   \n",
       "3         0                    0                     0                   0   \n",
       "4         0                    0                     0                   0   \n",
       "\n",
       "   Home_Ownership_RENT  ln_Interest_Rate  \n",
       "0                    0          2.186051  \n",
       "1                    0          2.494857  \n",
       "2                    0          3.090133  \n",
       "3                    0          2.301585  \n",
       "4                    1          2.460443  \n",
       "\n",
       "[5 rows x 73 columns]"
      ]
     },
     "execution_count": 250,
     "metadata": {},
     "output_type": "execute_result"
    }
   ],
   "source": [
    "df_cleaned.head()"
   ]
  },
  {
   "cell_type": "markdown",
   "metadata": {},
   "source": [
    "<span style = 'color: brown'> <b> Checking for Correlation between x and y."
   ]
  },
  {
   "cell_type": "code",
   "execution_count": 251,
   "metadata": {},
   "outputs": [],
   "source": [
    "corr_xy = df_num.corrwith(df_cleaned.ln_Interest_Rate)"
   ]
  },
  {
   "cell_type": "code",
   "execution_count": 252,
   "metadata": {},
   "outputs": [
    {
     "data": {
      "text/plain": [
       "Amount_Requested                  0.303174\n",
       "Amount_Funded_By_Investors        0.303408\n",
       "Loan_Length                       0.386748\n",
       "Debt_To_Income_Ratio              0.178853\n",
       "Monthly_Income                    0.014976\n",
       "Open_CREDIT_Lines                 0.068893\n",
       "Revolving_CREDIT_Balance          0.080187\n",
       "Inquiries_in_the_Last_6_Months    0.176739\n",
       "Employment_Length                 0.035160\n",
       "FICO_Avg                         -0.744521\n",
       "dtype: float64"
      ]
     },
     "execution_count": 252,
     "metadata": {},
     "output_type": "execute_result"
    }
   ],
   "source": [
    "corr_xy"
   ]
  },
  {
   "cell_type": "markdown",
   "metadata": {},
   "source": [
    "<span style = 'color: brown'> <b> Checking for Correlation between x and x."
   ]
  },
  {
   "cell_type": "code",
   "execution_count": 253,
   "metadata": {},
   "outputs": [],
   "source": [
    "corr_matrix = df_num.corr()"
   ]
  },
  {
   "cell_type": "code",
   "execution_count": 254,
   "metadata": {},
   "outputs": [
    {
     "data": {
      "text/html": [
       "<div>\n",
       "<style scoped>\n",
       "    .dataframe tbody tr th:only-of-type {\n",
       "        vertical-align: middle;\n",
       "    }\n",
       "\n",
       "    .dataframe tbody tr th {\n",
       "        vertical-align: top;\n",
       "    }\n",
       "\n",
       "    .dataframe thead th {\n",
       "        text-align: right;\n",
       "    }\n",
       "</style>\n",
       "<table border=\"1\" class=\"dataframe\">\n",
       "  <thead>\n",
       "    <tr style=\"text-align: right;\">\n",
       "      <th></th>\n",
       "      <th>Amount_Requested</th>\n",
       "      <th>Amount_Funded_By_Investors</th>\n",
       "      <th>Loan_Length</th>\n",
       "      <th>Debt_To_Income_Ratio</th>\n",
       "      <th>Monthly_Income</th>\n",
       "      <th>Open_CREDIT_Lines</th>\n",
       "      <th>Revolving_CREDIT_Balance</th>\n",
       "      <th>Inquiries_in_the_Last_6_Months</th>\n",
       "      <th>Employment_Length</th>\n",
       "      <th>FICO_Avg</th>\n",
       "    </tr>\n",
       "  </thead>\n",
       "  <tbody>\n",
       "    <tr>\n",
       "      <th>Amount_Requested</th>\n",
       "      <td>1.000000</td>\n",
       "      <td>0.970316</td>\n",
       "      <td>0.412746</td>\n",
       "      <td>0.081892</td>\n",
       "      <td>0.458711</td>\n",
       "      <td>0.194608</td>\n",
       "      <td>0.343016</td>\n",
       "      <td>-0.022750</td>\n",
       "      <td>0.163417</td>\n",
       "      <td>0.081760</td>\n",
       "    </tr>\n",
       "    <tr>\n",
       "      <th>Amount_Funded_By_Investors</th>\n",
       "      <td>0.970316</td>\n",
       "      <td>1.000000</td>\n",
       "      <td>0.406672</td>\n",
       "      <td>0.093660</td>\n",
       "      <td>0.435993</td>\n",
       "      <td>0.185690</td>\n",
       "      <td>0.325129</td>\n",
       "      <td>-0.056091</td>\n",
       "      <td>0.168004</td>\n",
       "      <td>0.071906</td>\n",
       "    </tr>\n",
       "    <tr>\n",
       "      <th>Loan_Length</th>\n",
       "      <td>0.412746</td>\n",
       "      <td>0.406672</td>\n",
       "      <td>1.000000</td>\n",
       "      <td>0.025909</td>\n",
       "      <td>0.104674</td>\n",
       "      <td>0.043451</td>\n",
       "      <td>0.081257</td>\n",
       "      <td>0.030933</td>\n",
       "      <td>0.073696</td>\n",
       "      <td>0.011219</td>\n",
       "    </tr>\n",
       "    <tr>\n",
       "      <th>Debt_To_Income_Ratio</th>\n",
       "      <td>0.081892</td>\n",
       "      <td>0.093660</td>\n",
       "      <td>0.025909</td>\n",
       "      <td>1.000000</td>\n",
       "      <td>-0.170128</td>\n",
       "      <td>0.370340</td>\n",
       "      <td>0.219450</td>\n",
       "      <td>0.012169</td>\n",
       "      <td>0.048350</td>\n",
       "      <td>-0.218463</td>\n",
       "    </tr>\n",
       "    <tr>\n",
       "      <th>Monthly_Income</th>\n",
       "      <td>0.458711</td>\n",
       "      <td>0.435993</td>\n",
       "      <td>0.104674</td>\n",
       "      <td>-0.170128</td>\n",
       "      <td>1.000000</td>\n",
       "      <td>0.226464</td>\n",
       "      <td>0.434905</td>\n",
       "      <td>0.039760</td>\n",
       "      <td>0.107404</td>\n",
       "      <td>0.117566</td>\n",
       "    </tr>\n",
       "    <tr>\n",
       "      <th>Open_CREDIT_Lines</th>\n",
       "      <td>0.194608</td>\n",
       "      <td>0.185690</td>\n",
       "      <td>0.043451</td>\n",
       "      <td>0.370340</td>\n",
       "      <td>0.226464</td>\n",
       "      <td>1.000000</td>\n",
       "      <td>0.316148</td>\n",
       "      <td>0.106528</td>\n",
       "      <td>0.064989</td>\n",
       "      <td>-0.091544</td>\n",
       "    </tr>\n",
       "    <tr>\n",
       "      <th>Revolving_CREDIT_Balance</th>\n",
       "      <td>0.343016</td>\n",
       "      <td>0.325129</td>\n",
       "      <td>0.081257</td>\n",
       "      <td>0.219450</td>\n",
       "      <td>0.434905</td>\n",
       "      <td>0.316148</td>\n",
       "      <td>1.000000</td>\n",
       "      <td>-0.018604</td>\n",
       "      <td>0.155698</td>\n",
       "      <td>-0.009485</td>\n",
       "    </tr>\n",
       "    <tr>\n",
       "      <th>Inquiries_in_the_Last_6_Months</th>\n",
       "      <td>-0.022750</td>\n",
       "      <td>-0.056091</td>\n",
       "      <td>0.030933</td>\n",
       "      <td>0.012169</td>\n",
       "      <td>0.039760</td>\n",
       "      <td>0.106528</td>\n",
       "      <td>-0.018604</td>\n",
       "      <td>1.000000</td>\n",
       "      <td>-0.010593</td>\n",
       "      <td>-0.088390</td>\n",
       "    </tr>\n",
       "    <tr>\n",
       "      <th>Employment_Length</th>\n",
       "      <td>0.163417</td>\n",
       "      <td>0.168004</td>\n",
       "      <td>0.073696</td>\n",
       "      <td>0.048350</td>\n",
       "      <td>0.107404</td>\n",
       "      <td>0.064989</td>\n",
       "      <td>0.155698</td>\n",
       "      <td>-0.010593</td>\n",
       "      <td>1.000000</td>\n",
       "      <td>0.016769</td>\n",
       "    </tr>\n",
       "    <tr>\n",
       "      <th>FICO_Avg</th>\n",
       "      <td>0.081760</td>\n",
       "      <td>0.071906</td>\n",
       "      <td>0.011219</td>\n",
       "      <td>-0.218463</td>\n",
       "      <td>0.117566</td>\n",
       "      <td>-0.091544</td>\n",
       "      <td>-0.009485</td>\n",
       "      <td>-0.088390</td>\n",
       "      <td>0.016769</td>\n",
       "      <td>1.000000</td>\n",
       "    </tr>\n",
       "  </tbody>\n",
       "</table>\n",
       "</div>"
      ],
      "text/plain": [
       "                                Amount_Requested  Amount_Funded_By_Investors  \\\n",
       "Amount_Requested                        1.000000                    0.970316   \n",
       "Amount_Funded_By_Investors              0.970316                    1.000000   \n",
       "Loan_Length                             0.412746                    0.406672   \n",
       "Debt_To_Income_Ratio                    0.081892                    0.093660   \n",
       "Monthly_Income                          0.458711                    0.435993   \n",
       "Open_CREDIT_Lines                       0.194608                    0.185690   \n",
       "Revolving_CREDIT_Balance                0.343016                    0.325129   \n",
       "Inquiries_in_the_Last_6_Months         -0.022750                   -0.056091   \n",
       "Employment_Length                       0.163417                    0.168004   \n",
       "FICO_Avg                                0.081760                    0.071906   \n",
       "\n",
       "                                Loan_Length  Debt_To_Income_Ratio  \\\n",
       "Amount_Requested                   0.412746              0.081892   \n",
       "Amount_Funded_By_Investors         0.406672              0.093660   \n",
       "Loan_Length                        1.000000              0.025909   \n",
       "Debt_To_Income_Ratio               0.025909              1.000000   \n",
       "Monthly_Income                     0.104674             -0.170128   \n",
       "Open_CREDIT_Lines                  0.043451              0.370340   \n",
       "Revolving_CREDIT_Balance           0.081257              0.219450   \n",
       "Inquiries_in_the_Last_6_Months     0.030933              0.012169   \n",
       "Employment_Length                  0.073696              0.048350   \n",
       "FICO_Avg                           0.011219             -0.218463   \n",
       "\n",
       "                                Monthly_Income  Open_CREDIT_Lines  \\\n",
       "Amount_Requested                      0.458711           0.194608   \n",
       "Amount_Funded_By_Investors            0.435993           0.185690   \n",
       "Loan_Length                           0.104674           0.043451   \n",
       "Debt_To_Income_Ratio                 -0.170128           0.370340   \n",
       "Monthly_Income                        1.000000           0.226464   \n",
       "Open_CREDIT_Lines                     0.226464           1.000000   \n",
       "Revolving_CREDIT_Balance              0.434905           0.316148   \n",
       "Inquiries_in_the_Last_6_Months        0.039760           0.106528   \n",
       "Employment_Length                     0.107404           0.064989   \n",
       "FICO_Avg                              0.117566          -0.091544   \n",
       "\n",
       "                                Revolving_CREDIT_Balance  \\\n",
       "Amount_Requested                                0.343016   \n",
       "Amount_Funded_By_Investors                      0.325129   \n",
       "Loan_Length                                     0.081257   \n",
       "Debt_To_Income_Ratio                            0.219450   \n",
       "Monthly_Income                                  0.434905   \n",
       "Open_CREDIT_Lines                               0.316148   \n",
       "Revolving_CREDIT_Balance                        1.000000   \n",
       "Inquiries_in_the_Last_6_Months                 -0.018604   \n",
       "Employment_Length                               0.155698   \n",
       "FICO_Avg                                       -0.009485   \n",
       "\n",
       "                                Inquiries_in_the_Last_6_Months  \\\n",
       "Amount_Requested                                     -0.022750   \n",
       "Amount_Funded_By_Investors                           -0.056091   \n",
       "Loan_Length                                           0.030933   \n",
       "Debt_To_Income_Ratio                                  0.012169   \n",
       "Monthly_Income                                        0.039760   \n",
       "Open_CREDIT_Lines                                     0.106528   \n",
       "Revolving_CREDIT_Balance                             -0.018604   \n",
       "Inquiries_in_the_Last_6_Months                        1.000000   \n",
       "Employment_Length                                    -0.010593   \n",
       "FICO_Avg                                             -0.088390   \n",
       "\n",
       "                                Employment_Length  FICO_Avg  \n",
       "Amount_Requested                         0.163417  0.081760  \n",
       "Amount_Funded_By_Investors               0.168004  0.071906  \n",
       "Loan_Length                              0.073696  0.011219  \n",
       "Debt_To_Income_Ratio                     0.048350 -0.218463  \n",
       "Monthly_Income                           0.107404  0.117566  \n",
       "Open_CREDIT_Lines                        0.064989 -0.091544  \n",
       "Revolving_CREDIT_Balance                 0.155698 -0.009485  \n",
       "Inquiries_in_the_Last_6_Months          -0.010593 -0.088390  \n",
       "Employment_Length                        1.000000  0.016769  \n",
       "FICO_Avg                                 0.016769  1.000000  "
      ]
     },
     "execution_count": 254,
     "metadata": {},
     "output_type": "execute_result"
    }
   ],
   "source": [
    "corr_matrix"
   ]
  },
  {
   "cell_type": "code",
   "execution_count": 255,
   "metadata": {},
   "outputs": [
    {
     "data": {
      "image/png": "[encoded data removed]",
      "text/plain": [
       "<Figure size 432x288 with 2 Axes>"
      ]
     },
     "metadata": {
      "needs_background": "light"
     },
     "output_type": "display_data"
    }
   ],
   "source": [
    "sns.heatmap(corr_matrix)\n",
    "plt.show()"
   ]
  },
  {
   "cell_type": "code",
   "execution_count": 256,
   "metadata": {},
   "outputs": [],
   "source": [
    "corr_matrix.to_excel('Correlation_Matrix.xlsx')"
   ]
  },
  {
   "cell_type": "markdown",
   "metadata": {},
   "source": [
    "### <span style = 'color : green'> Data Preparation Level 3.(Feature Reduction)"
   ]
  },
  {
   "cell_type": "markdown",
   "metadata": {},
   "source": [
    "### Feature Reduction Methonds :\n",
    "<b> 1- RFE(Recussive Feature Elemination) <br>\n",
    "<b> 2- Univariate Regression <br>\n",
    "<b> 3- K best <br>\n",
    "<b> 4- Correlation between x and y <br>\n",
    "<b> 5- Correlation between x and y <br>\n",
    "<b> 6- Variance Inflation Faction(VIF) = 1/(1-(R)sqr) <br> \n",
    "    \n",
    "-Method 1st to 4th check which variable is important by identifying how much they are related to y variable. <br>\n",
    "-Method 5th and 6th drop the variables by checking for multicollinearity."
   ]
  },
  {
   "cell_type": "code",
   "execution_count": 257,
   "metadata": {
    "scrolled": false
   },
   "outputs": [
    {
     "data": {
      "text/plain": [
       "(2498, 73)"
      ]
     },
     "execution_count": 257,
     "metadata": {},
     "output_type": "execute_result"
    }
   ],
   "source": [
    "df_cleaned.shape"
   ]
  },
  {
   "cell_type": "code",
   "execution_count": 258,
   "metadata": {},
   "outputs": [
    {
     "data": {
      "text/html": [
       "<div>\n",
       "<style scoped>\n",
       "    .dataframe tbody tr th:only-of-type {\n",
       "        vertical-align: middle;\n",
       "    }\n",
       "\n",
       "    .dataframe tbody tr th {\n",
       "        vertical-align: top;\n",
       "    }\n",
       "\n",
       "    .dataframe thead th {\n",
       "        text-align: right;\n",
       "    }\n",
       "</style>\n",
       "<table border=\"1\" class=\"dataframe\">\n",
       "  <thead>\n",
       "    <tr style=\"text-align: right;\">\n",
       "      <th></th>\n",
       "      <th>Amount_Requested</th>\n",
       "      <th>Amount_Funded_By_Investors</th>\n",
       "      <th>Loan_Length</th>\n",
       "      <th>Debt_To_Income_Ratio</th>\n",
       "      <th>Monthly_Income</th>\n",
       "      <th>Open_CREDIT_Lines</th>\n",
       "      <th>Revolving_CREDIT_Balance</th>\n",
       "      <th>Inquiries_in_the_Last_6_Months</th>\n",
       "      <th>Employment_Length</th>\n",
       "      <th>FICO_Avg</th>\n",
       "      <th>...</th>\n",
       "      <th>State_VT</th>\n",
       "      <th>State_WA</th>\n",
       "      <th>State_WI</th>\n",
       "      <th>State_WV</th>\n",
       "      <th>State_WY</th>\n",
       "      <th>Home_Ownership_NONE</th>\n",
       "      <th>Home_Ownership_OTHER</th>\n",
       "      <th>Home_Ownership_OWN</th>\n",
       "      <th>Home_Ownership_RENT</th>\n",
       "      <th>ln_Interest_Rate</th>\n",
       "    </tr>\n",
       "  </thead>\n",
       "  <tbody>\n",
       "    <tr>\n",
       "      <th>0</th>\n",
       "      <td>20000.0</td>\n",
       "      <td>20000.0</td>\n",
       "      <td>36</td>\n",
       "      <td>14.90</td>\n",
       "      <td>6541.67</td>\n",
       "      <td>14.0</td>\n",
       "      <td>14272.0</td>\n",
       "      <td>2.0</td>\n",
       "      <td>1.0</td>\n",
       "      <td>737.0</td>\n",
       "      <td>...</td>\n",
       "      <td>0</td>\n",
       "      <td>0</td>\n",
       "      <td>0</td>\n",
       "      <td>0</td>\n",
       "      <td>0</td>\n",
       "      <td>0</td>\n",
       "      <td>0</td>\n",
       "      <td>0</td>\n",
       "      <td>0</td>\n",
       "      <td>2.186051</td>\n",
       "    </tr>\n",
       "    <tr>\n",
       "      <th>1</th>\n",
       "      <td>19200.0</td>\n",
       "      <td>19200.0</td>\n",
       "      <td>36</td>\n",
       "      <td>28.36</td>\n",
       "      <td>4583.33</td>\n",
       "      <td>12.0</td>\n",
       "      <td>11140.0</td>\n",
       "      <td>1.0</td>\n",
       "      <td>2.0</td>\n",
       "      <td>717.0</td>\n",
       "      <td>...</td>\n",
       "      <td>0</td>\n",
       "      <td>0</td>\n",
       "      <td>0</td>\n",
       "      <td>0</td>\n",
       "      <td>0</td>\n",
       "      <td>0</td>\n",
       "      <td>0</td>\n",
       "      <td>0</td>\n",
       "      <td>0</td>\n",
       "      <td>2.494857</td>\n",
       "    </tr>\n",
       "    <tr>\n",
       "      <th>2</th>\n",
       "      <td>35000.0</td>\n",
       "      <td>35000.0</td>\n",
       "      <td>60</td>\n",
       "      <td>23.81</td>\n",
       "      <td>11500.00</td>\n",
       "      <td>14.0</td>\n",
       "      <td>21977.0</td>\n",
       "      <td>1.0</td>\n",
       "      <td>2.0</td>\n",
       "      <td>692.0</td>\n",
       "      <td>...</td>\n",
       "      <td>0</td>\n",
       "      <td>0</td>\n",
       "      <td>0</td>\n",
       "      <td>0</td>\n",
       "      <td>0</td>\n",
       "      <td>0</td>\n",
       "      <td>0</td>\n",
       "      <td>0</td>\n",
       "      <td>0</td>\n",
       "      <td>3.090133</td>\n",
       "    </tr>\n",
       "    <tr>\n",
       "      <th>3</th>\n",
       "      <td>10000.0</td>\n",
       "      <td>9975.0</td>\n",
       "      <td>36</td>\n",
       "      <td>14.30</td>\n",
       "      <td>3833.33</td>\n",
       "      <td>10.0</td>\n",
       "      <td>9346.0</td>\n",
       "      <td>0.0</td>\n",
       "      <td>5.0</td>\n",
       "      <td>697.0</td>\n",
       "      <td>...</td>\n",
       "      <td>0</td>\n",
       "      <td>0</td>\n",
       "      <td>0</td>\n",
       "      <td>0</td>\n",
       "      <td>0</td>\n",
       "      <td>0</td>\n",
       "      <td>0</td>\n",
       "      <td>0</td>\n",
       "      <td>0</td>\n",
       "      <td>2.301585</td>\n",
       "    </tr>\n",
       "    <tr>\n",
       "      <th>4</th>\n",
       "      <td>12000.0</td>\n",
       "      <td>12000.0</td>\n",
       "      <td>36</td>\n",
       "      <td>18.78</td>\n",
       "      <td>3195.00</td>\n",
       "      <td>11.0</td>\n",
       "      <td>14469.0</td>\n",
       "      <td>0.0</td>\n",
       "      <td>9.0</td>\n",
       "      <td>697.0</td>\n",
       "      <td>...</td>\n",
       "      <td>0</td>\n",
       "      <td>0</td>\n",
       "      <td>0</td>\n",
       "      <td>0</td>\n",
       "      <td>0</td>\n",
       "      <td>0</td>\n",
       "      <td>0</td>\n",
       "      <td>0</td>\n",
       "      <td>1</td>\n",
       "      <td>2.460443</td>\n",
       "    </tr>\n",
       "  </tbody>\n",
       "</table>\n",
       "<p>5 rows × 73 columns</p>\n",
       "</div>"
      ],
      "text/plain": [
       "   Amount_Requested  Amount_Funded_By_Investors  Loan_Length  \\\n",
       "0           20000.0                     20000.0           36   \n",
       "1           19200.0                     19200.0           36   \n",
       "2           35000.0                     35000.0           60   \n",
       "3           10000.0                      9975.0           36   \n",
       "4           12000.0                     12000.0           36   \n",
       "\n",
       "   Debt_To_Income_Ratio  Monthly_Income  Open_CREDIT_Lines  \\\n",
       "0                 14.90         6541.67               14.0   \n",
       "1                 28.36         4583.33               12.0   \n",
       "2                 23.81        11500.00               14.0   \n",
       "3                 14.30         3833.33               10.0   \n",
       "4                 18.78         3195.00               11.0   \n",
       "\n",
       "   Revolving_CREDIT_Balance  Inquiries_in_the_Last_6_Months  \\\n",
       "0                   14272.0                             2.0   \n",
       "1                   11140.0                             1.0   \n",
       "2                   21977.0                             1.0   \n",
       "3                    9346.0                             0.0   \n",
       "4                   14469.0                             0.0   \n",
       "\n",
       "   Employment_Length  FICO_Avg  ...  State_VT  State_WA  State_WI  State_WV  \\\n",
       "0                1.0     737.0  ...         0         0         0         0   \n",
       "1                2.0     717.0  ...         0         0         0         0   \n",
       "2                2.0     692.0  ...         0         0         0         0   \n",
       "3                5.0     697.0  ...         0         0         0         0   \n",
       "4                9.0     697.0  ...         0         0         0         0   \n",
       "\n",
       "   State_WY  Home_Ownership_NONE  Home_Ownership_OTHER  Home_Ownership_OWN  \\\n",
       "0         0                    0                     0                   0   \n",
       "1         0                    0                     0                   0   \n",
       "2         0                    0                     0                   0   \n",
       "3         0                    0                     0                   0   \n",
       "4         0                    0                     0                   0   \n",
       "\n",
       "   Home_Ownership_RENT  ln_Interest_Rate  \n",
       "0                    0          2.186051  \n",
       "1                    0          2.494857  \n",
       "2                    0          3.090133  \n",
       "3                    0          2.301585  \n",
       "4                    1          2.460443  \n",
       "\n",
       "[5 rows x 73 columns]"
      ]
     },
     "execution_count": 258,
     "metadata": {},
     "output_type": "execute_result"
    }
   ],
   "source": [
    "df_cleaned.head()"
   ]
  },
  {
   "cell_type": "code",
   "execution_count": 259,
   "metadata": {},
   "outputs": [],
   "source": [
    "target = df_cleaned.ln_Interest_Rate"
   ]
  },
  {
   "cell_type": "code",
   "execution_count": 260,
   "metadata": {},
   "outputs": [],
   "source": [
    "features = df_cleaned[df_cleaned.columns.difference(['ln_Interest_Rate'])]"
   ]
  },
  {
   "cell_type": "markdown",
   "metadata": {},
   "source": [
    "### <span style = 'color : purple'> RFE(Recussive Feature Elemination)"
   ]
  },
  {
   "cell_type": "code",
   "execution_count": 261,
   "metadata": {},
   "outputs": [],
   "source": [
    "from sklearn.feature_selection import RFE"
   ]
  },
  {
   "cell_type": "code",
   "execution_count": 262,
   "metadata": {},
   "outputs": [],
   "source": [
    "from sklearn.linear_model import LinearRegression"
   ]
  },
  {
   "cell_type": "code",
   "execution_count": 263,
   "metadata": {},
   "outputs": [],
   "source": [
    "# Initialize the Linear Regression Model\n",
    "\n",
    "lm = LinearRegression()"
   ]
  },
  {
   "cell_type": "code",
   "execution_count": 264,
   "metadata": {},
   "outputs": [],
   "source": [
    "### Initlalzing the RFE Model\n",
    "\n",
    "rfe = RFE(lm, n_features_to_select=10)"
   ]
  },
  {
   "cell_type": "code",
   "execution_count": 265,
   "metadata": {},
   "outputs": [],
   "source": [
    "# Fit the RFE model\n",
    "\n",
    "rfe = rfe.fit(features , target)"
   ]
  },
  {
   "cell_type": "code",
   "execution_count": 266,
   "metadata": {},
   "outputs": [
    {
     "data": {
      "text/plain": [
       "array([False, False, False, False, False,  True,  True, False, False,\n",
       "       False, False,  True,  True, False, False,  True, False, False,\n",
       "        True,  True, False,  True, False, False, False, False, False,\n",
       "       False, False, False, False, False, False, False, False, False,\n",
       "       False, False, False, False, False, False, False, False, False,\n",
       "       False, False, False, False, False,  True, False, False, False,\n",
       "       False, False, False, False, False, False, False, False, False,\n",
       "        True, False, False, False, False, False, False, False, False])"
      ]
     },
     "execution_count": 266,
     "metadata": {},
     "output_type": "execute_result"
    }
   ],
   "source": [
    "rfe.get_support()"
   ]
  },
  {
   "cell_type": "code",
   "execution_count": 267,
   "metadata": {},
   "outputs": [],
   "source": [
    "RFE_imp_vars = features.columns[rfe.get_support()]"
   ]
  },
  {
   "cell_type": "code",
   "execution_count": 268,
   "metadata": {},
   "outputs": [
    {
     "data": {
      "text/plain": [
       "['Home_Ownership_NONE',\n",
       " 'Home_Ownership_OTHER',\n",
       " 'Loan_Purpose_credit_card',\n",
       " 'Loan_Purpose_debt_consolidation',\n",
       " 'Loan_Purpose_house',\n",
       " 'Loan_Purpose_moving',\n",
       " 'Loan_Purpose_other',\n",
       " 'Loan_Purpose_small_business',\n",
       " 'State_MT',\n",
       " 'State_SD']"
      ]
     },
     "execution_count": 268,
     "metadata": {},
     "output_type": "execute_result"
    }
   ],
   "source": [
    "list(RFE_imp_vars)"
   ]
  },
  {
   "cell_type": "markdown",
   "metadata": {},
   "source": [
    "### <span style = 'color : purple'> F Regression (Univariate Regression)"
   ]
  },
  {
   "cell_type": "code",
   "execution_count": 269,
   "metadata": {},
   "outputs": [],
   "source": [
    "from sklearn.feature_selection import f_regression"
   ]
  },
  {
   "cell_type": "code",
   "execution_count": 270,
   "metadata": {},
   "outputs": [],
   "source": [
    "f_values , p_values = f_regression(features , target)"
   ]
  },
  {
   "cell_type": "code",
   "execution_count": 271,
   "metadata": {},
   "outputs": [
    {
     "data": {
      "text/plain": [
       "array([2.53068799e+02, 2.52639373e+02, 8.24818084e+01, 3.08936751e+00,\n",
       "       3.10432214e+03, 2.26316089e+00, 2.60049711e+00, 5.33974239e-01,\n",
       "       1.89612018e+01, 8.04810286e+01, 4.39000181e+02, 5.79770629e-02,\n",
       "       4.62233711e+01, 3.30734792e+00, 2.50543837e+01, 2.61849668e-02,\n",
       "       3.15529188e+01, 5.24223050e+00, 2.75054394e-01, 1.61225483e-01,\n",
       "       2.44777443e+00, 3.17086049e-01, 1.70937075e+00, 1.98291018e+00,\n",
       "       5.59965258e-01, 1.19031817e+01, 1.61530294e+01, 9.84895566e-05,\n",
       "       7.10126286e-02, 1.79440099e-01, 2.38325044e-02, 2.88912908e-02,\n",
       "       9.98410445e-01, 1.62741457e-01, 5.04860370e-01, 1.87326569e-01,\n",
       "       1.74013382e+00, 4.87168462e+00, 1.52245985e-01, 1.24991864e+00,\n",
       "       2.29878909e-02, 5.68417026e-01, 4.86273388e-01, 3.60021730e+00,\n",
       "       5.82610799e-01, 3.73138077e-02, 6.35170261e+00, 9.98892533e-01,\n",
       "       2.81118909e-01, 4.81217878e-01, 2.38107986e+00, 8.34938625e-01,\n",
       "       1.52725185e+00, 2.58407288e-01, 1.15209711e+00, 3.47876153e-01,\n",
       "       1.19528426e-04, 3.99771464e+00, 6.91833682e-01, 5.31486854e-01,\n",
       "       1.60002609e+00, 1.43169131e-02, 3.21802287e-02, 1.81355413e+00,\n",
       "       1.24101079e+00, 8.44333941e-02, 5.32782417e-02, 4.77218476e+00,\n",
       "       3.10109567e-02, 5.35373235e-01, 9.52257656e-01, 1.65157985e-01])"
      ]
     },
     "execution_count": 271,
     "metadata": {},
     "output_type": "execute_result"
    }
   ],
   "source": [
    "f_values"
   ]
  },
  {
   "cell_type": "code",
   "execution_count": 272,
   "metadata": {},
   "outputs": [
    {
     "data": {
      "text/plain": [
       "array([2.38312609e-54, 2.89834588e-54, 2.11126181e-19, 7.89280041e-02,\n",
       "       0.00000000e+00, 1.32609925e-01, 1.06956621e-01, 4.65009367e-01,\n",
       "       1.38784612e-05, 5.62744994e-19, 6.32631803e-90, 8.09742100e-01,\n",
       "       1.31538533e-11, 6.90905077e-02, 5.96204067e-07, 8.71462514e-01,\n",
       "       2.15583750e-08, 2.21280999e-02, 6.00007789e-01, 6.88065116e-01,\n",
       "       1.17818397e-01, 5.73414685e-01, 1.91187451e-01, 1.59208699e-01,\n",
       "       4.54344743e-01, 5.69685402e-04, 6.01550571e-05, 9.92082565e-01,\n",
       "       7.89890072e-01, 6.71891352e-01, 8.77324340e-01, 8.65044058e-01,\n",
       "       3.17792296e-01, 6.86679519e-01, 4.77438650e-01, 6.65188462e-01,\n",
       "       1.87242872e-01, 2.73915256e-02, 6.96431483e-01, 2.63675609e-01,\n",
       "       8.79500819e-01, 4.50959750e-01, 4.85659332e-01, 5.78873235e-02,\n",
       "       4.45362923e-01, 8.46843254e-01, 1.17887652e-02, 3.17675511e-01,\n",
       "       5.96015943e-01, 4.87935735e-01, 1.22939392e-01, 3.60936605e-01,\n",
       "       2.16641656e-01, 6.11261410e-01, 2.83214338e-01, 5.55371244e-01,\n",
       "       9.91277851e-01, 4.56702210e-02, 4.05620943e-01, 4.66050824e-01,\n",
       "       2.06017597e-01, 9.04767422e-01, 8.57647232e-01, 1.78204731e-01,\n",
       "       2.65383600e-01, 7.71401097e-01, 8.17472939e-01, 2.90158344e-02,\n",
       "       8.60230232e-01, 4.64425248e-01, 3.29239860e-01, 6.84486249e-01])"
      ]
     },
     "execution_count": 272,
     "metadata": {},
     "output_type": "execute_result"
    }
   ],
   "source": [
    "p_values"
   ]
  },
  {
   "cell_type": "code",
   "execution_count": 273,
   "metadata": {},
   "outputs": [],
   "source": [
    "f_values = pd.Series(f_values)\n",
    "p_values = pd.Series(p_values)\n",
    "col = pd.Series(features.columns)"
   ]
  },
  {
   "cell_type": "code",
   "execution_count": 274,
   "metadata": {},
   "outputs": [],
   "source": [
    "f_reg_res = pd.concat([col , f_values , p_values],axis = 1)"
   ]
  },
  {
   "cell_type": "code",
   "execution_count": 275,
   "metadata": {},
   "outputs": [
    {
     "data": {
      "text/html": [
       "<div>\n",
       "<style scoped>\n",
       "    .dataframe tbody tr th:only-of-type {\n",
       "        vertical-align: middle;\n",
       "    }\n",
       "\n",
       "    .dataframe tbody tr th {\n",
       "        vertical-align: top;\n",
       "    }\n",
       "\n",
       "    .dataframe thead th {\n",
       "        text-align: right;\n",
       "    }\n",
       "</style>\n",
       "<table border=\"1\" class=\"dataframe\">\n",
       "  <thead>\n",
       "    <tr style=\"text-align: right;\">\n",
       "      <th></th>\n",
       "      <th>0</th>\n",
       "      <th>1</th>\n",
       "      <th>2</th>\n",
       "    </tr>\n",
       "  </thead>\n",
       "  <tbody>\n",
       "    <tr>\n",
       "      <th>0</th>\n",
       "      <td>Amount_Funded_By_Investors</td>\n",
       "      <td>253.068799</td>\n",
       "      <td>2.383126e-54</td>\n",
       "    </tr>\n",
       "    <tr>\n",
       "      <th>1</th>\n",
       "      <td>Amount_Requested</td>\n",
       "      <td>252.639373</td>\n",
       "      <td>2.898346e-54</td>\n",
       "    </tr>\n",
       "    <tr>\n",
       "      <th>2</th>\n",
       "      <td>Debt_To_Income_Ratio</td>\n",
       "      <td>82.481808</td>\n",
       "      <td>2.111262e-19</td>\n",
       "    </tr>\n",
       "    <tr>\n",
       "      <th>3</th>\n",
       "      <td>Employment_Length</td>\n",
       "      <td>3.089368</td>\n",
       "      <td>7.892800e-02</td>\n",
       "    </tr>\n",
       "    <tr>\n",
       "      <th>4</th>\n",
       "      <td>FICO_Avg</td>\n",
       "      <td>3104.322139</td>\n",
       "      <td>0.000000e+00</td>\n",
       "    </tr>\n",
       "  </tbody>\n",
       "</table>\n",
       "</div>"
      ],
      "text/plain": [
       "                            0            1             2\n",
       "0  Amount_Funded_By_Investors   253.068799  2.383126e-54\n",
       "1            Amount_Requested   252.639373  2.898346e-54\n",
       "2        Debt_To_Income_Ratio    82.481808  2.111262e-19\n",
       "3           Employment_Length     3.089368  7.892800e-02\n",
       "4                    FICO_Avg  3104.322139  0.000000e+00"
      ]
     },
     "execution_count": 275,
     "metadata": {},
     "output_type": "execute_result"
    }
   ],
   "source": [
    "f_reg_res.head()"
   ]
  },
  {
   "cell_type": "code",
   "execution_count": 276,
   "metadata": {},
   "outputs": [],
   "source": [
    "f_reg_res.columns = ['cols','f_values','p_values']"
   ]
  },
  {
   "cell_type": "code",
   "execution_count": 277,
   "metadata": {},
   "outputs": [],
   "source": [
    "top10_f_reg_res = f_reg_res.sort_values(by = ['f_values'] , ascending = False).head(10)"
   ]
  },
  {
   "cell_type": "code",
   "execution_count": 278,
   "metadata": {},
   "outputs": [
    {
     "data": {
      "text/html": [
       "<div>\n",
       "<style scoped>\n",
       "    .dataframe tbody tr th:only-of-type {\n",
       "        vertical-align: middle;\n",
       "    }\n",
       "\n",
       "    .dataframe tbody tr th {\n",
       "        vertical-align: top;\n",
       "    }\n",
       "\n",
       "    .dataframe thead th {\n",
       "        text-align: right;\n",
       "    }\n",
       "</style>\n",
       "<table border=\"1\" class=\"dataframe\">\n",
       "  <thead>\n",
       "    <tr style=\"text-align: right;\">\n",
       "      <th></th>\n",
       "      <th>cols</th>\n",
       "      <th>f_values</th>\n",
       "      <th>p_values</th>\n",
       "    </tr>\n",
       "  </thead>\n",
       "  <tbody>\n",
       "    <tr>\n",
       "      <th>4</th>\n",
       "      <td>FICO_Avg</td>\n",
       "      <td>3104.322139</td>\n",
       "      <td>0.000000e+00</td>\n",
       "    </tr>\n",
       "    <tr>\n",
       "      <th>10</th>\n",
       "      <td>Loan_Length</td>\n",
       "      <td>439.000181</td>\n",
       "      <td>6.326318e-90</td>\n",
       "    </tr>\n",
       "    <tr>\n",
       "      <th>0</th>\n",
       "      <td>Amount_Funded_By_Investors</td>\n",
       "      <td>253.068799</td>\n",
       "      <td>2.383126e-54</td>\n",
       "    </tr>\n",
       "    <tr>\n",
       "      <th>1</th>\n",
       "      <td>Amount_Requested</td>\n",
       "      <td>252.639373</td>\n",
       "      <td>2.898346e-54</td>\n",
       "    </tr>\n",
       "    <tr>\n",
       "      <th>2</th>\n",
       "      <td>Debt_To_Income_Ratio</td>\n",
       "      <td>82.481808</td>\n",
       "      <td>2.111262e-19</td>\n",
       "    </tr>\n",
       "    <tr>\n",
       "      <th>9</th>\n",
       "      <td>Inquiries_in_the_Last_6_Months</td>\n",
       "      <td>80.481029</td>\n",
       "      <td>5.627450e-19</td>\n",
       "    </tr>\n",
       "    <tr>\n",
       "      <th>12</th>\n",
       "      <td>Loan_Purpose_debt_consolidation</td>\n",
       "      <td>46.223371</td>\n",
       "      <td>1.315385e-11</td>\n",
       "    </tr>\n",
       "    <tr>\n",
       "      <th>16</th>\n",
       "      <td>Loan_Purpose_major_purchase</td>\n",
       "      <td>31.552919</td>\n",
       "      <td>2.155838e-08</td>\n",
       "    </tr>\n",
       "    <tr>\n",
       "      <th>14</th>\n",
       "      <td>Loan_Purpose_home_improvement</td>\n",
       "      <td>25.054384</td>\n",
       "      <td>5.962041e-07</td>\n",
       "    </tr>\n",
       "    <tr>\n",
       "      <th>8</th>\n",
       "      <td>Home_Ownership_RENT</td>\n",
       "      <td>18.961202</td>\n",
       "      <td>1.387846e-05</td>\n",
       "    </tr>\n",
       "  </tbody>\n",
       "</table>\n",
       "</div>"
      ],
      "text/plain": [
       "                               cols     f_values      p_values\n",
       "4                          FICO_Avg  3104.322139  0.000000e+00\n",
       "10                      Loan_Length   439.000181  6.326318e-90\n",
       "0        Amount_Funded_By_Investors   253.068799  2.383126e-54\n",
       "1                  Amount_Requested   252.639373  2.898346e-54\n",
       "2              Debt_To_Income_Ratio    82.481808  2.111262e-19\n",
       "9    Inquiries_in_the_Last_6_Months    80.481029  5.627450e-19\n",
       "12  Loan_Purpose_debt_consolidation    46.223371  1.315385e-11\n",
       "16      Loan_Purpose_major_purchase    31.552919  2.155838e-08\n",
       "14    Loan_Purpose_home_improvement    25.054384  5.962041e-07\n",
       "8               Home_Ownership_RENT    18.961202  1.387846e-05"
      ]
     },
     "execution_count": 278,
     "metadata": {},
     "output_type": "execute_result"
    }
   ],
   "source": [
    "top10_f_reg_res"
   ]
  },
  {
   "cell_type": "code",
   "execution_count": 279,
   "metadata": {},
   "outputs": [
    {
     "data": {
      "text/plain": [
       "['FICO_Avg',\n",
       " 'Loan_Length',\n",
       " 'Amount_Funded_By_Investors',\n",
       " 'Amount_Requested',\n",
       " 'Debt_To_Income_Ratio',\n",
       " 'Inquiries_in_the_Last_6_Months',\n",
       " 'Loan_Purpose_debt_consolidation',\n",
       " 'Loan_Purpose_major_purchase',\n",
       " 'Loan_Purpose_home_improvement',\n",
       " 'Home_Ownership_RENT']"
      ]
     },
     "execution_count": 279,
     "metadata": {},
     "output_type": "execute_result"
    }
   ],
   "source": [
    "list(top10_f_reg_res.cols)"
   ]
  },
  {
   "cell_type": "markdown",
   "metadata": {},
   "source": [
    "### <span style = 'color : purple'> K-Best"
   ]
  },
  {
   "cell_type": "code",
   "execution_count": 280,
   "metadata": {},
   "outputs": [],
   "source": [
    "from sklearn.feature_selection import SelectKBest , f_classif , chi2"
   ]
  },
  {
   "cell_type": "code",
   "execution_count": 281,
   "metadata": {},
   "outputs": [],
   "source": [
    "## Initalize the K Best Model\n",
    "\n",
    "selector = SelectKBest(f_classif, k=10)"
   ]
  },
  {
   "cell_type": "code",
   "execution_count": 282,
   "metadata": {},
   "outputs": [
    {
     "name": "stderr",
     "output_type": "stream",
     "text": [
      "c:\\users\\vanshika chandra\\appdata\\local\\programs\\python\\python38-32\\lib\\site-packages\\sklearn\\feature_selection\\_univariate_selection.py:116: RuntimeWarning: divide by zero encountered in true_divide\n",
      "  f = msb / msw\n"
     ]
    },
    {
     "data": {
      "text/plain": [
       "SelectKBest()"
      ]
     },
     "execution_count": 282,
     "metadata": {},
     "output_type": "execute_result"
    }
   ],
   "source": [
    "# fit the model\n",
    "\n",
    "selector.fit(features,target)"
   ]
  },
  {
   "cell_type": "code",
   "execution_count": 283,
   "metadata": {},
   "outputs": [],
   "source": [
    "k_best_top10 = features.columns[selector.get_support()]"
   ]
  },
  {
   "cell_type": "code",
   "execution_count": 284,
   "metadata": {},
   "outputs": [
    {
     "data": {
      "text/plain": [
       "['Amount_Funded_By_Investors',\n",
       " 'FICO_Avg',\n",
       " 'Home_Ownership_NONE',\n",
       " 'Home_Ownership_OTHER',\n",
       " 'Inquiries_in_the_Last_6_Months',\n",
       " 'Loan_Length',\n",
       " 'Loan_Purpose_educational',\n",
       " 'State_IA',\n",
       " 'State_IN',\n",
       " 'State_MS']"
      ]
     },
     "execution_count": 284,
     "metadata": {},
     "output_type": "execute_result"
    }
   ],
   "source": [
    "list(k_best_top10)"
   ]
  },
  {
   "cell_type": "markdown",
   "metadata": {},
   "source": [
    "### <span style = 'color : purple'> Correlation between x and y"
   ]
  },
  {
   "cell_type": "code",
   "execution_count": 285,
   "metadata": {},
   "outputs": [],
   "source": [
    "corr_x_y = df_cleaned.corrwith(df_cleaned.ln_Interest_Rate)"
   ]
  },
  {
   "cell_type": "code",
   "execution_count": 286,
   "metadata": {},
   "outputs": [
    {
     "data": {
      "text/plain": [
       "Amount_Requested              0.303174\n",
       "Amount_Funded_By_Investors    0.303408\n",
       "Loan_Length                   0.386748\n",
       "Debt_To_Income_Ratio          0.178853\n",
       "Monthly_Income                0.014976\n",
       "                                ...   \n",
       "Home_Ownership_NONE          -0.030098\n",
       "Home_Ownership_OTHER          0.032261\n",
       "Home_Ownership_OWN           -0.014625\n",
       "Home_Ownership_RENT           0.086829\n",
       "ln_Interest_Rate              1.000000\n",
       "Length: 73, dtype: float64"
      ]
     },
     "execution_count": 286,
     "metadata": {},
     "output_type": "execute_result"
    }
   ],
   "source": [
    "corr_x_y"
   ]
  },
  {
   "cell_type": "code",
   "execution_count": 287,
   "metadata": {},
   "outputs": [],
   "source": [
    "column_name = pd.Series(list(corr_x_y.index), name = 'column_name')"
   ]
  },
  {
   "cell_type": "code",
   "execution_count": 288,
   "metadata": {},
   "outputs": [],
   "source": [
    "r_values = pd.Series(list(corr_x_y), name = 'r_values')"
   ]
  },
  {
   "cell_type": "code",
   "execution_count": 289,
   "metadata": {},
   "outputs": [],
   "source": [
    "corr = pd.concat([column_name , r_values], axis = 1)"
   ]
  },
  {
   "cell_type": "code",
   "execution_count": 290,
   "metadata": {},
   "outputs": [],
   "source": [
    "corr['r_values_abs'] = np.abs(corr.r_values)"
   ]
  },
  {
   "cell_type": "code",
   "execution_count": 291,
   "metadata": {},
   "outputs": [
    {
     "data": {
      "text/html": [
       "<div>\n",
       "<style scoped>\n",
       "    .dataframe tbody tr th:only-of-type {\n",
       "        vertical-align: middle;\n",
       "    }\n",
       "\n",
       "    .dataframe tbody tr th {\n",
       "        vertical-align: top;\n",
       "    }\n",
       "\n",
       "    .dataframe thead th {\n",
       "        text-align: right;\n",
       "    }\n",
       "</style>\n",
       "<table border=\"1\" class=\"dataframe\">\n",
       "  <thead>\n",
       "    <tr style=\"text-align: right;\">\n",
       "      <th></th>\n",
       "      <th>column_name</th>\n",
       "      <th>r_values</th>\n",
       "      <th>r_values_abs</th>\n",
       "    </tr>\n",
       "  </thead>\n",
       "  <tbody>\n",
       "    <tr>\n",
       "      <th>0</th>\n",
       "      <td>Amount_Requested</td>\n",
       "      <td>0.303174</td>\n",
       "      <td>0.303174</td>\n",
       "    </tr>\n",
       "    <tr>\n",
       "      <th>1</th>\n",
       "      <td>Amount_Funded_By_Investors</td>\n",
       "      <td>0.303408</td>\n",
       "      <td>0.303408</td>\n",
       "    </tr>\n",
       "    <tr>\n",
       "      <th>2</th>\n",
       "      <td>Loan_Length</td>\n",
       "      <td>0.386748</td>\n",
       "      <td>0.386748</td>\n",
       "    </tr>\n",
       "    <tr>\n",
       "      <th>3</th>\n",
       "      <td>Debt_To_Income_Ratio</td>\n",
       "      <td>0.178853</td>\n",
       "      <td>0.178853</td>\n",
       "    </tr>\n",
       "    <tr>\n",
       "      <th>4</th>\n",
       "      <td>Monthly_Income</td>\n",
       "      <td>0.014976</td>\n",
       "      <td>0.014976</td>\n",
       "    </tr>\n",
       "    <tr>\n",
       "      <th>...</th>\n",
       "      <td>...</td>\n",
       "      <td>...</td>\n",
       "      <td>...</td>\n",
       "    </tr>\n",
       "    <tr>\n",
       "      <th>68</th>\n",
       "      <td>Home_Ownership_NONE</td>\n",
       "      <td>-0.030098</td>\n",
       "      <td>0.030098</td>\n",
       "    </tr>\n",
       "    <tr>\n",
       "      <th>69</th>\n",
       "      <td>Home_Ownership_OTHER</td>\n",
       "      <td>0.032261</td>\n",
       "      <td>0.032261</td>\n",
       "    </tr>\n",
       "    <tr>\n",
       "      <th>70</th>\n",
       "      <td>Home_Ownership_OWN</td>\n",
       "      <td>-0.014625</td>\n",
       "      <td>0.014625</td>\n",
       "    </tr>\n",
       "    <tr>\n",
       "      <th>71</th>\n",
       "      <td>Home_Ownership_RENT</td>\n",
       "      <td>0.086829</td>\n",
       "      <td>0.086829</td>\n",
       "    </tr>\n",
       "    <tr>\n",
       "      <th>72</th>\n",
       "      <td>ln_Interest_Rate</td>\n",
       "      <td>1.000000</td>\n",
       "      <td>1.000000</td>\n",
       "    </tr>\n",
       "  </tbody>\n",
       "</table>\n",
       "<p>73 rows × 3 columns</p>\n",
       "</div>"
      ],
      "text/plain": [
       "                   column_name  r_values  r_values_abs\n",
       "0             Amount_Requested  0.303174      0.303174\n",
       "1   Amount_Funded_By_Investors  0.303408      0.303408\n",
       "2                  Loan_Length  0.386748      0.386748\n",
       "3         Debt_To_Income_Ratio  0.178853      0.178853\n",
       "4               Monthly_Income  0.014976      0.014976\n",
       "..                         ...       ...           ...\n",
       "68         Home_Ownership_NONE -0.030098      0.030098\n",
       "69        Home_Ownership_OTHER  0.032261      0.032261\n",
       "70          Home_Ownership_OWN -0.014625      0.014625\n",
       "71         Home_Ownership_RENT  0.086829      0.086829\n",
       "72            ln_Interest_Rate  1.000000      1.000000\n",
       "\n",
       "[73 rows x 3 columns]"
      ]
     },
     "execution_count": 291,
     "metadata": {},
     "output_type": "execute_result"
    }
   ],
   "source": [
    "corr"
   ]
  },
  {
   "cell_type": "code",
   "execution_count": 292,
   "metadata": {},
   "outputs": [],
   "source": [
    "corr_top11 = corr.sort_values(by =['r_values_abs'] , ascending = False ).head(11)"
   ]
  },
  {
   "cell_type": "code",
   "execution_count": 293,
   "metadata": {},
   "outputs": [
    {
     "data": {
      "text/plain": [
       "['ln_Interest_Rate',\n",
       " 'FICO_Avg',\n",
       " 'Loan_Length',\n",
       " 'Amount_Funded_By_Investors',\n",
       " 'Amount_Requested',\n",
       " 'Debt_To_Income_Ratio',\n",
       " 'Inquiries_in_the_Last_6_Months',\n",
       " 'Loan_Purpose_debt_consolidation',\n",
       " 'Loan_Purpose_major_purchase',\n",
       " 'Loan_Purpose_home_improvement',\n",
       " 'Home_Ownership_RENT']"
      ]
     },
     "execution_count": 293,
     "metadata": {},
     "output_type": "execute_result"
    }
   ],
   "source": [
    "list(corr_top11.column_name)"
   ]
  },
  {
   "cell_type": "code",
   "execution_count": 294,
   "metadata": {},
   "outputs": [],
   "source": [
    "final_var = {'Home_Ownership_NONE',\n",
    " 'Home_Ownership_OTHER',\n",
    " 'Loan_Purpose_credit_card',\n",
    " 'Loan_Purpose_debt_consolidation',\n",
    " 'Loan_Purpose_house',\n",
    " 'Loan_Purpose_moving',\n",
    " 'Loan_Purpose_other',\n",
    " 'Loan_Purpose_small_business',\n",
    " 'State_MT',\n",
    " 'State_SD',\n",
    "  'FICO_Avg',\n",
    " 'Loan_Length',\n",
    " 'Amount_Funded_By_Investors',\n",
    " 'Amount_Requested',\n",
    " 'Debt_To_Income_Ratio',\n",
    " 'Inquiries_in_the_Last_6_Months',\n",
    " 'Loan_Purpose_debt_consolidation',\n",
    " 'Loan_Purpose_major_purchase',\n",
    " 'Loan_Purpose_home_improvement',\n",
    " 'Home_Ownership_RENT','Amount_Funded_By_Investors',\n",
    " 'FICO_Avg',\n",
    " 'Home_Ownership_NONE',\n",
    " 'Home_Ownership_OTHER',\n",
    " 'Inquiries_in_the_Last_6_Months',\n",
    " 'Loan_Length',\n",
    " 'Loan_Purpose_educational',\n",
    " 'State_IA',\n",
    " 'State_IN',\n",
    " 'State_MS',\n",
    " 'FICO_Avg',\n",
    " 'Loan_Length',\n",
    " 'Amount_Funded_By_Investors',\n",
    " 'Amount_Requested',\n",
    " 'Debt_To_Income_Ratio',\n",
    " 'Inquiries_in_the_Last_6_Months',\n",
    " 'Loan_Purpose_debt_consolidation',\n",
    " 'Loan_Purpose_major_purchase',\n",
    " 'Loan_Purpose_home_improvement',\n",
    " 'Home_Ownership_RENT'}"
   ]
  },
  {
   "cell_type": "code",
   "execution_count": 295,
   "metadata": {},
   "outputs": [],
   "source": [
    "final_var = list(final_var)"
   ]
  },
  {
   "cell_type": "code",
   "execution_count": 296,
   "metadata": {},
   "outputs": [
    {
     "data": {
      "text/plain": [
       "['Loan_Purpose_house',\n",
       " 'Loan_Purpose_debt_consolidation',\n",
       " 'Home_Ownership_OTHER',\n",
       " 'Loan_Purpose_major_purchase',\n",
       " 'State_IA',\n",
       " 'State_IN',\n",
       " 'Loan_Length',\n",
       " 'Amount_Funded_By_Investors',\n",
       " 'Loan_Purpose_credit_card',\n",
       " 'Inquiries_in_the_Last_6_Months',\n",
       " 'Amount_Requested',\n",
       " 'Loan_Purpose_home_improvement',\n",
       " 'Loan_Purpose_small_business',\n",
       " 'Home_Ownership_RENT',\n",
       " 'State_SD',\n",
       " 'Debt_To_Income_Ratio',\n",
       " 'State_MT',\n",
       " 'Home_Ownership_NONE',\n",
       " 'FICO_Avg',\n",
       " 'Loan_Purpose_moving',\n",
       " 'Loan_Purpose_other',\n",
       " 'Loan_Purpose_educational',\n",
       " 'State_MS']"
      ]
     },
     "execution_count": 296,
     "metadata": {},
     "output_type": "execute_result"
    }
   ],
   "source": [
    "final_var"
   ]
  },
  {
   "cell_type": "markdown",
   "metadata": {},
   "source": [
    "### <span style = 'color : purple'> Variance Inflation Faction(VIF)"
   ]
  },
  {
   "cell_type": "code",
   "execution_count": 297,
   "metadata": {},
   "outputs": [],
   "source": [
    "features2 = df_cleaned[final_var]"
   ]
  },
  {
   "cell_type": "code",
   "execution_count": 298,
   "metadata": {},
   "outputs": [
    {
     "data": {
      "text/plain": [
       "(2498, 23)"
      ]
     },
     "execution_count": 298,
     "metadata": {},
     "output_type": "execute_result"
    }
   ],
   "source": [
    "features2.shape"
   ]
  },
  {
   "cell_type": "code",
   "execution_count": 299,
   "metadata": {},
   "outputs": [],
   "source": [
    "from statsmodels.stats.outliers_influence import variance_inflation_factor"
   ]
  },
  {
   "cell_type": "code",
   "execution_count": 300,
   "metadata": {},
   "outputs": [],
   "source": [
    "from patsy import dmatrices"
   ]
  },
  {
   "cell_type": "code",
   "execution_count": 301,
   "metadata": {},
   "outputs": [],
   "source": [
    "VIF = [variance_inflation_factor(features2.values,i) for i in range(features2.shape[1])]"
   ]
  },
  {
   "cell_type": "code",
   "execution_count": 302,
   "metadata": {},
   "outputs": [],
   "source": [
    "VIF = pd.Series(VIF, name = 'VIF')"
   ]
  },
  {
   "cell_type": "code",
   "execution_count": 303,
   "metadata": {},
   "outputs": [],
   "source": [
    "col2 = pd.Series(features2.columns, name = 'Columns Name')"
   ]
  },
  {
   "cell_type": "code",
   "execution_count": 304,
   "metadata": {},
   "outputs": [],
   "source": [
    "VIF_res = pd.concat([col2 , VIF], axis = 1)"
   ]
  },
  {
   "cell_type": "code",
   "execution_count": 305,
   "metadata": {},
   "outputs": [],
   "source": [
    "VIF_top10 = VIF_res.sort_values(by = 'VIF').head(10)"
   ]
  },
  {
   "cell_type": "code",
   "execution_count": 306,
   "metadata": {},
   "outputs": [
    {
     "data": {
      "text/html": [
       "<div>\n",
       "<style scoped>\n",
       "    .dataframe tbody tr th:only-of-type {\n",
       "        vertical-align: middle;\n",
       "    }\n",
       "\n",
       "    .dataframe tbody tr th {\n",
       "        vertical-align: top;\n",
       "    }\n",
       "\n",
       "    .dataframe thead th {\n",
       "        text-align: right;\n",
       "    }\n",
       "</style>\n",
       "<table border=\"1\" class=\"dataframe\">\n",
       "  <thead>\n",
       "    <tr style=\"text-align: right;\">\n",
       "      <th></th>\n",
       "      <th>Columns Name</th>\n",
       "      <th>VIF</th>\n",
       "    </tr>\n",
       "  </thead>\n",
       "  <tbody>\n",
       "    <tr>\n",
       "      <th>14</th>\n",
       "      <td>State_SD</td>\n",
       "      <td>1.006085</td>\n",
       "    </tr>\n",
       "    <tr>\n",
       "      <th>17</th>\n",
       "      <td>Home_Ownership_NONE</td>\n",
       "      <td>1.007687</td>\n",
       "    </tr>\n",
       "    <tr>\n",
       "      <th>16</th>\n",
       "      <td>State_MT</td>\n",
       "      <td>1.008256</td>\n",
       "    </tr>\n",
       "    <tr>\n",
       "      <th>5</th>\n",
       "      <td>State_IN</td>\n",
       "      <td>1.012929</td>\n",
       "    </tr>\n",
       "    <tr>\n",
       "      <th>21</th>\n",
       "      <td>Loan_Purpose_educational</td>\n",
       "      <td>1.112349</td>\n",
       "    </tr>\n",
       "    <tr>\n",
       "      <th>0</th>\n",
       "      <td>Loan_Purpose_house</td>\n",
       "      <td>1.140787</td>\n",
       "    </tr>\n",
       "    <tr>\n",
       "      <th>19</th>\n",
       "      <td>Loan_Purpose_moving</td>\n",
       "      <td>1.200542</td>\n",
       "    </tr>\n",
       "    <tr>\n",
       "      <th>22</th>\n",
       "      <td>State_MS</td>\n",
       "      <td>1.336362</td>\n",
       "    </tr>\n",
       "    <tr>\n",
       "      <th>4</th>\n",
       "      <td>State_IA</td>\n",
       "      <td>1.345333</td>\n",
       "    </tr>\n",
       "    <tr>\n",
       "      <th>12</th>\n",
       "      <td>Loan_Purpose_small_business</td>\n",
       "      <td>1.611790</td>\n",
       "    </tr>\n",
       "  </tbody>\n",
       "</table>\n",
       "</div>"
      ],
      "text/plain": [
       "                   Columns Name       VIF\n",
       "14                     State_SD  1.006085\n",
       "17          Home_Ownership_NONE  1.007687\n",
       "16                     State_MT  1.008256\n",
       "5                      State_IN  1.012929\n",
       "21     Loan_Purpose_educational  1.112349\n",
       "0            Loan_Purpose_house  1.140787\n",
       "19          Loan_Purpose_moving  1.200542\n",
       "22                     State_MS  1.336362\n",
       "4                      State_IA  1.345333\n",
       "12  Loan_Purpose_small_business  1.611790"
      ]
     },
     "execution_count": 306,
     "metadata": {},
     "output_type": "execute_result"
    }
   ],
   "source": [
    "VIF_top10"
   ]
  },
  {
   "cell_type": "code",
   "execution_count": 307,
   "metadata": {},
   "outputs": [
    {
     "data": {
      "text/plain": [
       "Index(['Loan_Purpose_house', 'Loan_Purpose_debt_consolidation',\n",
       "       'Home_Ownership_OTHER', 'Loan_Purpose_major_purchase', 'State_IA',\n",
       "       'State_IN', 'Loan_Length', 'Amount_Funded_By_Investors',\n",
       "       'Loan_Purpose_credit_card', 'Inquiries_in_the_Last_6_Months',\n",
       "       'Amount_Requested', 'Loan_Purpose_home_improvement',\n",
       "       'Loan_Purpose_small_business', 'Home_Ownership_RENT', 'State_SD',\n",
       "       'Debt_To_Income_Ratio', 'State_MT', 'Home_Ownership_NONE', 'FICO_Avg',\n",
       "       'Loan_Purpose_moving', 'Loan_Purpose_other', 'Loan_Purpose_educational',\n",
       "       'State_MS'],\n",
       "      dtype='object')"
      ]
     },
     "execution_count": 307,
     "metadata": {},
     "output_type": "execute_result"
    }
   ],
   "source": [
    "features2.columns"
   ]
  },
  {
   "cell_type": "code",
   "execution_count": 308,
   "metadata": {},
   "outputs": [],
   "source": [
    "final_var.append('ln_Interest_Rate')"
   ]
  },
  {
   "cell_type": "code",
   "execution_count": 309,
   "metadata": {},
   "outputs": [],
   "source": [
    "df_final = df_cleaned[final_var]"
   ]
  },
  {
   "cell_type": "code",
   "execution_count": 310,
   "metadata": {},
   "outputs": [
    {
     "data": {
      "text/html": [
       "<div>\n",
       "<style scoped>\n",
       "    .dataframe tbody tr th:only-of-type {\n",
       "        vertical-align: middle;\n",
       "    }\n",
       "\n",
       "    .dataframe tbody tr th {\n",
       "        vertical-align: top;\n",
       "    }\n",
       "\n",
       "    .dataframe thead th {\n",
       "        text-align: right;\n",
       "    }\n",
       "</style>\n",
       "<table border=\"1\" class=\"dataframe\">\n",
       "  <thead>\n",
       "    <tr style=\"text-align: right;\">\n",
       "      <th></th>\n",
       "      <th>Loan_Purpose_house</th>\n",
       "      <th>Loan_Purpose_debt_consolidation</th>\n",
       "      <th>Home_Ownership_OTHER</th>\n",
       "      <th>Loan_Purpose_major_purchase</th>\n",
       "      <th>State_IA</th>\n",
       "      <th>State_IN</th>\n",
       "      <th>Loan_Length</th>\n",
       "      <th>Amount_Funded_By_Investors</th>\n",
       "      <th>Loan_Purpose_credit_card</th>\n",
       "      <th>Inquiries_in_the_Last_6_Months</th>\n",
       "      <th>...</th>\n",
       "      <th>State_SD</th>\n",
       "      <th>Debt_To_Income_Ratio</th>\n",
       "      <th>State_MT</th>\n",
       "      <th>Home_Ownership_NONE</th>\n",
       "      <th>FICO_Avg</th>\n",
       "      <th>Loan_Purpose_moving</th>\n",
       "      <th>Loan_Purpose_other</th>\n",
       "      <th>Loan_Purpose_educational</th>\n",
       "      <th>State_MS</th>\n",
       "      <th>ln_Interest_Rate</th>\n",
       "    </tr>\n",
       "  </thead>\n",
       "  <tbody>\n",
       "    <tr>\n",
       "      <th>0</th>\n",
       "      <td>0</td>\n",
       "      <td>1</td>\n",
       "      <td>0</td>\n",
       "      <td>0</td>\n",
       "      <td>0</td>\n",
       "      <td>0</td>\n",
       "      <td>36</td>\n",
       "      <td>20000.0</td>\n",
       "      <td>0</td>\n",
       "      <td>2.0</td>\n",
       "      <td>...</td>\n",
       "      <td>0</td>\n",
       "      <td>14.90</td>\n",
       "      <td>0</td>\n",
       "      <td>0</td>\n",
       "      <td>737.0</td>\n",
       "      <td>0</td>\n",
       "      <td>0</td>\n",
       "      <td>0</td>\n",
       "      <td>0</td>\n",
       "      <td>2.186051</td>\n",
       "    </tr>\n",
       "    <tr>\n",
       "      <th>1</th>\n",
       "      <td>0</td>\n",
       "      <td>1</td>\n",
       "      <td>0</td>\n",
       "      <td>0</td>\n",
       "      <td>0</td>\n",
       "      <td>0</td>\n",
       "      <td>36</td>\n",
       "      <td>19200.0</td>\n",
       "      <td>0</td>\n",
       "      <td>1.0</td>\n",
       "      <td>...</td>\n",
       "      <td>0</td>\n",
       "      <td>28.36</td>\n",
       "      <td>0</td>\n",
       "      <td>0</td>\n",
       "      <td>717.0</td>\n",
       "      <td>0</td>\n",
       "      <td>0</td>\n",
       "      <td>0</td>\n",
       "      <td>0</td>\n",
       "      <td>2.494857</td>\n",
       "    </tr>\n",
       "    <tr>\n",
       "      <th>2</th>\n",
       "      <td>0</td>\n",
       "      <td>1</td>\n",
       "      <td>0</td>\n",
       "      <td>0</td>\n",
       "      <td>0</td>\n",
       "      <td>0</td>\n",
       "      <td>60</td>\n",
       "      <td>35000.0</td>\n",
       "      <td>0</td>\n",
       "      <td>1.0</td>\n",
       "      <td>...</td>\n",
       "      <td>0</td>\n",
       "      <td>23.81</td>\n",
       "      <td>0</td>\n",
       "      <td>0</td>\n",
       "      <td>692.0</td>\n",
       "      <td>0</td>\n",
       "      <td>0</td>\n",
       "      <td>0</td>\n",
       "      <td>0</td>\n",
       "      <td>3.090133</td>\n",
       "    </tr>\n",
       "    <tr>\n",
       "      <th>3</th>\n",
       "      <td>0</td>\n",
       "      <td>1</td>\n",
       "      <td>0</td>\n",
       "      <td>0</td>\n",
       "      <td>0</td>\n",
       "      <td>0</td>\n",
       "      <td>36</td>\n",
       "      <td>9975.0</td>\n",
       "      <td>0</td>\n",
       "      <td>0.0</td>\n",
       "      <td>...</td>\n",
       "      <td>0</td>\n",
       "      <td>14.30</td>\n",
       "      <td>0</td>\n",
       "      <td>0</td>\n",
       "      <td>697.0</td>\n",
       "      <td>0</td>\n",
       "      <td>0</td>\n",
       "      <td>0</td>\n",
       "      <td>0</td>\n",
       "      <td>2.301585</td>\n",
       "    </tr>\n",
       "    <tr>\n",
       "      <th>4</th>\n",
       "      <td>0</td>\n",
       "      <td>0</td>\n",
       "      <td>0</td>\n",
       "      <td>0</td>\n",
       "      <td>0</td>\n",
       "      <td>0</td>\n",
       "      <td>36</td>\n",
       "      <td>12000.0</td>\n",
       "      <td>1</td>\n",
       "      <td>0.0</td>\n",
       "      <td>...</td>\n",
       "      <td>0</td>\n",
       "      <td>18.78</td>\n",
       "      <td>0</td>\n",
       "      <td>0</td>\n",
       "      <td>697.0</td>\n",
       "      <td>0</td>\n",
       "      <td>0</td>\n",
       "      <td>0</td>\n",
       "      <td>0</td>\n",
       "      <td>2.460443</td>\n",
       "    </tr>\n",
       "  </tbody>\n",
       "</table>\n",
       "<p>5 rows × 24 columns</p>\n",
       "</div>"
      ],
      "text/plain": [
       "   Loan_Purpose_house  Loan_Purpose_debt_consolidation  Home_Ownership_OTHER  \\\n",
       "0                   0                                1                     0   \n",
       "1                   0                                1                     0   \n",
       "2                   0                                1                     0   \n",
       "3                   0                                1                     0   \n",
       "4                   0                                0                     0   \n",
       "\n",
       "   Loan_Purpose_major_purchase  State_IA  State_IN  Loan_Length  \\\n",
       "0                            0         0         0           36   \n",
       "1                            0         0         0           36   \n",
       "2                            0         0         0           60   \n",
       "3                            0         0         0           36   \n",
       "4                            0         0         0           36   \n",
       "\n",
       "   Amount_Funded_By_Investors  Loan_Purpose_credit_card  \\\n",
       "0                     20000.0                         0   \n",
       "1                     19200.0                         0   \n",
       "2                     35000.0                         0   \n",
       "3                      9975.0                         0   \n",
       "4                     12000.0                         1   \n",
       "\n",
       "   Inquiries_in_the_Last_6_Months  ...  State_SD  Debt_To_Income_Ratio  \\\n",
       "0                             2.0  ...         0                 14.90   \n",
       "1                             1.0  ...         0                 28.36   \n",
       "2                             1.0  ...         0                 23.81   \n",
       "3                             0.0  ...         0                 14.30   \n",
       "4                             0.0  ...         0                 18.78   \n",
       "\n",
       "   State_MT  Home_Ownership_NONE  FICO_Avg  Loan_Purpose_moving  \\\n",
       "0         0                    0     737.0                    0   \n",
       "1         0                    0     717.0                    0   \n",
       "2         0                    0     692.0                    0   \n",
       "3         0                    0     697.0                    0   \n",
       "4         0                    0     697.0                    0   \n",
       "\n",
       "   Loan_Purpose_other  Loan_Purpose_educational  State_MS  ln_Interest_Rate  \n",
       "0                   0                         0         0          2.186051  \n",
       "1                   0                         0         0          2.494857  \n",
       "2                   0                         0         0          3.090133  \n",
       "3                   0                         0         0          2.301585  \n",
       "4                   0                         0         0          2.460443  \n",
       "\n",
       "[5 rows x 24 columns]"
      ]
     },
     "execution_count": 310,
     "metadata": {},
     "output_type": "execute_result"
    }
   ],
   "source": [
    "df_final.head()"
   ]
  },
  {
   "cell_type": "markdown",
   "metadata": {},
   "source": [
    "### <span style = 'color : green'> Data Preparation Level 4 (Train and Test)"
   ]
  },
  {
   "cell_type": "code",
   "execution_count": 311,
   "metadata": {},
   "outputs": [],
   "source": [
    "from sklearn.model_selection import train_test_split"
   ]
  },
  {
   "cell_type": "code",
   "execution_count": 312,
   "metadata": {},
   "outputs": [
    {
     "data": {
      "text/plain": [
       "Index(['Loan_Purpose_house', 'Loan_Purpose_debt_consolidation',\n",
       "       'Home_Ownership_OTHER', 'Loan_Purpose_major_purchase', 'State_IA',\n",
       "       'State_IN', 'Loan_Length', 'Amount_Funded_By_Investors',\n",
       "       'Loan_Purpose_credit_card', 'Inquiries_in_the_Last_6_Months',\n",
       "       'Amount_Requested', 'Loan_Purpose_home_improvement',\n",
       "       'Loan_Purpose_small_business', 'Home_Ownership_RENT', 'State_SD',\n",
       "       'Debt_To_Income_Ratio', 'State_MT', 'Home_Ownership_NONE', 'FICO_Avg',\n",
       "       'Loan_Purpose_moving', 'Loan_Purpose_other', 'Loan_Purpose_educational',\n",
       "       'State_MS', 'ln_Interest_Rate'],\n",
       "      dtype='object')"
      ]
     },
     "execution_count": 312,
     "metadata": {},
     "output_type": "execute_result"
    }
   ],
   "source": [
    "df_final.columns"
   ]
  },
  {
   "cell_type": "code",
   "execution_count": 313,
   "metadata": {},
   "outputs": [],
   "source": [
    "train,test = train_test_split(df_final, test_size = 0.3, random_state = 123)"
   ]
  },
  {
   "cell_type": "code",
   "execution_count": 314,
   "metadata": {},
   "outputs": [
    {
     "name": "stdout",
     "output_type": "stream",
     "text": [
      "The number of rows in the train dataset are 1748\n",
      "The number of rows in the test dataset are 750\n",
      "The number of rows in the original dataset are 2498\n"
     ]
    }
   ],
   "source": [
    "print(\"The number of rows in the train dataset are\",len(train))\n",
    "print(\"The number of rows in the test dataset are\",len(test))\n",
    "print(\"The number of rows in the original dataset are\",len(df_final))"
   ]
  },
  {
   "cell_type": "markdown",
   "metadata": {},
   "source": [
    "### <span style = 'color : green'> Model Implementation"
   ]
  },
  {
   "cell_type": "code",
   "execution_count": 315,
   "metadata": {},
   "outputs": [],
   "source": [
    "y = 'ln_Interest_Rate'"
   ]
  },
  {
   "cell_type": "code",
   "execution_count": 316,
   "metadata": {},
   "outputs": [],
   "source": [
    "s = str()"
   ]
  },
  {
   "cell_type": "code",
   "execution_count": 317,
   "metadata": {},
   "outputs": [],
   "source": [
    "for i in train.columns.tolist():\n",
    "    s = s + '+' + i"
   ]
  },
  {
   "cell_type": "code",
   "execution_count": 318,
   "metadata": {},
   "outputs": [],
   "source": [
    "equation = s[1:]"
   ]
  },
  {
   "cell_type": "code",
   "execution_count": 319,
   "metadata": {},
   "outputs": [
    {
     "data": {
      "text/plain": [
       "'Loan_Purpose_house+Loan_Purpose_debt_consolidation+Home_Ownership_OTHER+Loan_Purpose_major_purchase+State_IA+State_IN+Loan_Length+Amount_Funded_By_Investors+Loan_Purpose_credit_card+Inquiries_in_the_Last_6_Months+Amount_Requested+Loan_Purpose_home_improvement+Loan_Purpose_small_business+Home_Ownership_RENT+State_SD+Debt_To_Income_Ratio+State_MT+Home_Ownership_NONE+FICO_Avg+Loan_Purpose_moving+Loan_Purpose_other+Loan_Purpose_educational+State_MS+ln_Interest_Rate'"
      ]
     },
     "execution_count": 319,
     "metadata": {},
     "output_type": "execute_result"
    }
   ],
   "source": [
    "equation"
   ]
  },
  {
   "cell_type": "code",
   "execution_count": 320,
   "metadata": {},
   "outputs": [],
   "source": [
    "equation = equation.replace(\"+ln_Interest_Rate\",\"\")"
   ]
  },
  {
   "cell_type": "code",
   "execution_count": 321,
   "metadata": {},
   "outputs": [
    {
     "data": {
      "text/plain": [
       "'Loan_Purpose_house+Loan_Purpose_debt_consolidation+Home_Ownership_OTHER+Loan_Purpose_major_purchase+State_IA+State_IN+Loan_Length+Amount_Funded_By_Investors+Loan_Purpose_credit_card+Inquiries_in_the_Last_6_Months+Amount_Requested+Loan_Purpose_home_improvement+Loan_Purpose_small_business+Home_Ownership_RENT+State_SD+Debt_To_Income_Ratio+State_MT+Home_Ownership_NONE+FICO_Avg+Loan_Purpose_moving+Loan_Purpose_other+Loan_Purpose_educational+State_MS'"
      ]
     },
     "execution_count": 321,
     "metadata": {},
     "output_type": "execute_result"
    }
   ],
   "source": [
    "equation"
   ]
  },
  {
   "cell_type": "code",
   "execution_count": 322,
   "metadata": {},
   "outputs": [],
   "source": [
    "equation= y + '~' + equation"
   ]
  },
  {
   "cell_type": "code",
   "execution_count": 323,
   "metadata": {},
   "outputs": [
    {
     "data": {
      "text/plain": [
       "'ln_Interest_Rate~Loan_Purpose_house+Loan_Purpose_debt_consolidation+Home_Ownership_OTHER+Loan_Purpose_major_purchase+State_IA+State_IN+Loan_Length+Amount_Funded_By_Investors+Loan_Purpose_credit_card+Inquiries_in_the_Last_6_Months+Amount_Requested+Loan_Purpose_home_improvement+Loan_Purpose_small_business+Home_Ownership_RENT+State_SD+Debt_To_Income_Ratio+State_MT+Home_Ownership_NONE+FICO_Avg+Loan_Purpose_moving+Loan_Purpose_other+Loan_Purpose_educational+State_MS'"
      ]
     },
     "execution_count": 323,
     "metadata": {},
     "output_type": "execute_result"
    }
   ],
   "source": [
    "equation"
   ]
  },
  {
   "cell_type": "code",
   "execution_count": 324,
   "metadata": {},
   "outputs": [],
   "source": [
    "import statsmodels.formula.api as smf"
   ]
  },
  {
   "cell_type": "code",
   "execution_count": 325,
   "metadata": {},
   "outputs": [],
   "source": [
    "## Initalise the model and then fit the model\n",
    "\n",
    "model = smf.ols(equation, data=train).fit()"
   ]
  },
  {
   "cell_type": "code",
   "execution_count": 326,
   "metadata": {},
   "outputs": [
    {
     "name": "stdout",
     "output_type": "stream",
     "text": [
      "                        Results: Ordinary least squares\n",
      "================================================================================\n",
      "Model:                   OLS                  Adj. R-squared:         0.772     \n",
      "Dependent Variable:      ln_Interest_Rate     AIC:                    -1384.7877\n",
      "Date:                    2021-07-07 13:14     BIC:                    -1253.5982\n",
      "No. Observations:        1748                 Log-Likelihood:         716.39    \n",
      "Df Model:                23                   F-statistic:            258.7     \n",
      "Df Residuals:            1724                 Prob (F-statistic):     0.00      \n",
      "R-squared:               0.775                Scale:                  0.026155  \n",
      "--------------------------------------------------------------------------------\n",
      "                                 Coef.  Std.Err.    t     P>|t|   [0.025  0.975]\n",
      "--------------------------------------------------------------------------------\n",
      "Intercept                        7.1366   0.0913  78.2059 0.0000  6.9577  7.3156\n",
      "Loan_Purpose_house               0.0606   0.0479   1.2673 0.2052 -0.0332  0.1545\n",
      "Loan_Purpose_debt_consolidation  0.0077   0.0174   0.4400 0.6600 -0.0265  0.0418\n",
      "Home_Ownership_OTHER             0.0469   0.1621   0.2893 0.7724 -0.2710  0.3648\n",
      "Loan_Purpose_major_purchase      0.0280   0.0252   1.1131 0.2658 -0.0214  0.0774\n",
      "State_IA                        -0.1789   0.2297  -0.7791 0.4360 -0.6294  0.2715\n",
      "State_IN                        -0.3097   0.1633  -1.8964 0.0581 -0.6300  0.0106\n",
      "Loan_Length                      0.0099   0.0004  23.1372 0.0000  0.0091  0.0108\n",
      "Amount_Funded_By_Investors       0.0000   0.0000   2.1426 0.0323  0.0000  0.0000\n",
      "Loan_Purpose_credit_card        -0.0126   0.0190  -0.6646 0.5064 -0.0498  0.0246\n",
      "Inquiries_in_the_Last_6_Months   0.0357   0.0035  10.1243 0.0000  0.0288  0.0426\n",
      "Amount_Requested                 0.0000   0.0000   3.2017 0.0014  0.0000  0.0000\n",
      "Loan_Purpose_home_improvement   -0.0192   0.0233  -0.8220 0.4112 -0.0649  0.0266\n",
      "Loan_Purpose_small_business      0.0408   0.0263   1.5526 0.1207 -0.0107  0.0923\n",
      "Home_Ownership_RENT              0.0211   0.0081   2.6038 0.0093  0.0052  0.0371\n",
      "State_SD                        -0.2363   0.1623  -1.4566 0.1454 -0.5546  0.0819\n",
      "Debt_To_Income_Ratio            -0.0005   0.0005  -0.9509 0.3418 -0.0016  0.0006\n",
      "State_MT                        -0.0079   0.0812  -0.0969 0.9228 -0.1671  0.1514\n",
      "Home_Ownership_NONE              0.2737   0.1628   1.6808 0.0930 -0.0457  0.5930\n",
      "FICO_Avg                        -0.0074   0.0001 -61.6033 0.0000 -0.0076 -0.0071\n",
      "Loan_Purpose_moving              0.0776   0.0406   1.9132 0.0559 -0.0020  0.1572\n",
      "Loan_Purpose_other               0.0634   0.0212   2.9905 0.0028  0.0218  0.1051\n",
      "Loan_Purpose_educational         0.0302   0.0464   0.6494 0.5162 -0.0609  0.1213\n",
      "State_MS                         0.1331   0.2292   0.5808 0.5614 -0.3164  0.5826\n",
      "--------------------------------------------------------------------------------\n",
      "Omnibus:                  77.489            Durbin-Watson:               2.003  \n",
      "Prob(Omnibus):            0.000             Jarque-Bera (JB):            228.831\n",
      "Skew:                     0.131             Prob(JB):                    0.000  \n",
      "Kurtosis:                 4.753             Condition No.:               1647037\n",
      "================================================================================\n",
      "* The condition number is large (2e+06). This might indicate             strong\n",
      "multicollinearity or other numerical problems.\n"
     ]
    }
   ],
   "source": [
    "print(model.summary2())"
   ]
  },
  {
   "cell_type": "code",
   "execution_count": 327,
   "metadata": {},
   "outputs": [],
   "source": [
    "### Iteration 2\n",
    "\n",
    "formula = 'ln_Interest_Rate~Loan_Purpose_other+Loan_Purpose_credit_card+State_MS+Amount_Funded_By_Investors+FICO_Avg+Debt_To_Income_Ratio+Loan_Purpose_home_improvement+Home_Ownership_OTHER+Loan_Purpose_educational+State_SD+Loan_Purpose_moving+Loan_Purpose_house+Loan_Purpose_debt_consolidation+Home_Ownership_RENT+Loan_Purpose_small_business+Amount_Requested+State_IN+Home_Ownership_NONE+Inquiries_in_the_Last_6_Months+Loan_Length+State_IA+Loan_Purpose_major_purchase'"
   ]
  },
  {
   "cell_type": "code",
   "execution_count": 328,
   "metadata": {},
   "outputs": [],
   "source": [
    "model = smf.ols(formula, data=train).fit()"
   ]
  },
  {
   "cell_type": "code",
   "execution_count": 329,
   "metadata": {},
   "outputs": [
    {
     "name": "stdout",
     "output_type": "stream",
     "text": [
      "                        Results: Ordinary least squares\n",
      "================================================================================\n",
      "Model:                   OLS                  Adj. R-squared:         0.772     \n",
      "Dependent Variable:      ln_Interest_Rate     AIC:                    -1386.7781\n",
      "Date:                    2021-07-07 13:14     BIC:                    -1261.0549\n",
      "No. Observations:        1748                 Log-Likelihood:         716.39    \n",
      "Df Model:                22                   F-statistic:            270.6     \n",
      "Df Residuals:            1725                 Prob (F-statistic):     0.00      \n",
      "R-squared:               0.775                Scale:                  0.026140  \n",
      "--------------------------------------------------------------------------------\n",
      "                                 Coef.  Std.Err.    t     P>|t|   [0.025  0.975]\n",
      "--------------------------------------------------------------------------------\n",
      "Intercept                        7.1370   0.0912  78.2852 0.0000  6.9582  7.3158\n",
      "Loan_Purpose_other               0.0634   0.0212   2.9898 0.0028  0.0218  0.1050\n",
      "Loan_Purpose_credit_card        -0.0127   0.0190  -0.6678 0.5044 -0.0498  0.0245\n",
      "State_MS                         0.1331   0.2291   0.5812 0.5612 -0.3162  0.5825\n",
      "Amount_Funded_By_Investors       0.0000   0.0000   2.1423 0.0323  0.0000  0.0000\n",
      "FICO_Avg                        -0.0074   0.0001 -61.6669 0.0000 -0.0076 -0.0071\n",
      "Debt_To_Income_Ratio            -0.0005   0.0005  -0.9540 0.3402 -0.0016  0.0006\n",
      "Loan_Purpose_home_improvement   -0.0192   0.0233  -0.8219 0.4113 -0.0649  0.0266\n",
      "Home_Ownership_OTHER             0.0469   0.1620   0.2894 0.7723 -0.2709  0.3647\n",
      "Loan_Purpose_educational         0.0302   0.0464   0.6493 0.5162 -0.0609  0.1212\n",
      "State_SD                        -0.2363   0.1622  -1.4568 0.1454 -0.5544  0.0818\n",
      "Loan_Purpose_moving              0.0776   0.0406   1.9136 0.0558 -0.0019  0.1572\n",
      "Loan_Purpose_house               0.0606   0.0478   1.2676 0.2051 -0.0332  0.1545\n",
      "Loan_Purpose_debt_consolidation  0.0077   0.0174   0.4396 0.6602 -0.0265  0.0418\n",
      "Home_Ownership_RENT              0.0212   0.0081   2.6065 0.0092  0.0052  0.0371\n",
      "Loan_Purpose_small_business      0.0408   0.0263   1.5531 0.1206 -0.0107  0.0923\n",
      "Amount_Requested                 0.0000   0.0000   3.2036 0.0014  0.0000  0.0000\n",
      "State_IN                        -0.3097   0.1633  -1.8972 0.0580 -0.6299  0.0105\n",
      "Home_Ownership_NONE              0.2737   0.1628   1.6818 0.0928 -0.0455  0.5930\n",
      "Inquiries_in_the_Last_6_Months   0.0357   0.0035  10.1274 0.0000  0.0288  0.0426\n",
      "Loan_Length                      0.0099   0.0004  23.1437 0.0000  0.0091  0.0108\n",
      "State_IA                        -0.1790   0.2296  -0.7795 0.4358 -0.6293  0.2714\n",
      "Loan_Purpose_major_purchase      0.0280   0.0252   1.1137 0.2656 -0.0213  0.0774\n",
      "--------------------------------------------------------------------------------\n",
      "Omnibus:                  77.526            Durbin-Watson:               2.003  \n",
      "Prob(Omnibus):            0.000             Jarque-Bera (JB):            229.033\n",
      "Skew:                     0.131             Prob(JB):                    0.000  \n",
      "Kurtosis:                 4.754             Condition No.:               1647037\n",
      "================================================================================\n",
      "* The condition number is large (2e+06). This might indicate             strong\n",
      "multicollinearity or other numerical problems.\n"
     ]
    }
   ],
   "source": [
    "print(model.summary2())"
   ]
  },
  {
   "cell_type": "code",
   "execution_count": 330,
   "metadata": {},
   "outputs": [],
   "source": [
    "### Iteration 3\n",
    "\n",
    "formula = 'ln_Interest_Rate~Loan_Purpose_other+Loan_Purpose_credit_card+State_MS+Amount_Funded_By_Investors+FICO_Avg+Debt_To_Income_Ratio+Loan_Purpose_home_improvement+Loan_Purpose_educational+State_SD+Loan_Purpose_moving+Loan_Purpose_house+Loan_Purpose_debt_consolidation+Home_Ownership_RENT+Loan_Purpose_small_business+Amount_Requested+State_IN+Home_Ownership_NONE+Inquiries_in_the_Last_6_Months+Loan_Length+State_IA+Loan_Purpose_major_purchase'"
   ]
  },
  {
   "cell_type": "code",
   "execution_count": 331,
   "metadata": {},
   "outputs": [],
   "source": [
    "model = smf.ols(formula, data=train).fit()"
   ]
  },
  {
   "cell_type": "code",
   "execution_count": 332,
   "metadata": {},
   "outputs": [
    {
     "name": "stdout",
     "output_type": "stream",
     "text": [
      "                        Results: Ordinary least squares\n",
      "================================================================================\n",
      "Model:                   OLS                  Adj. R-squared:         0.773     \n",
      "Dependent Variable:      ln_Interest_Rate     AIC:                    -1388.6933\n",
      "Date:                    2021-07-07 13:14     BIC:                    -1268.4363\n",
      "No. Observations:        1748                 Log-Likelihood:         716.35    \n",
      "Df Model:                21                   F-statistic:            283.7     \n",
      "Df Residuals:            1726                 Prob (F-statistic):     0.00      \n",
      "R-squared:               0.775                Scale:                  0.026126  \n",
      "--------------------------------------------------------------------------------\n",
      "                                 Coef.  Std.Err.    t     P>|t|   [0.025  0.975]\n",
      "--------------------------------------------------------------------------------\n",
      "Intercept                        7.1375   0.0911  78.3303 0.0000  6.9588  7.3163\n",
      "Loan_Purpose_other               0.0634   0.0212   2.9901 0.0028  0.0218  0.1049\n",
      "Loan_Purpose_credit_card        -0.0127   0.0190  -0.6687 0.5038 -0.0498  0.0245\n",
      "State_MS                         0.1800   0.1621   1.1106 0.2669 -0.1379  0.4979\n",
      "Amount_Funded_By_Investors       0.0000   0.0000   2.1316 0.0332  0.0000  0.0000\n",
      "FICO_Avg                        -0.0074   0.0001 -61.6991 0.0000 -0.0076 -0.0071\n",
      "Debt_To_Income_Ratio            -0.0005   0.0005  -0.9541 0.3401 -0.0016  0.0006\n",
      "Loan_Purpose_home_improvement   -0.0192   0.0233  -0.8237 0.4102 -0.0649  0.0265\n",
      "Loan_Purpose_educational         0.0301   0.0464   0.6489 0.5165 -0.0609  0.1212\n",
      "State_SD                        -0.2363   0.1622  -1.4574 0.1452 -0.5544  0.0817\n",
      "Loan_Purpose_moving              0.0776   0.0405   1.9143 0.0557 -0.0019  0.1572\n",
      "Loan_Purpose_house               0.0607   0.0478   1.2687 0.2047 -0.0331  0.1545\n",
      "Loan_Purpose_debt_consolidation  0.0077   0.0174   0.4426 0.6581 -0.0264  0.0419\n",
      "Home_Ownership_RENT              0.0211   0.0081   2.6002 0.0094  0.0052  0.0370\n",
      "Loan_Purpose_small_business      0.0408   0.0263   1.5534 0.1205 -0.0107  0.0923\n",
      "Amount_Requested                 0.0000   0.0000   3.2201 0.0013  0.0000  0.0000\n",
      "State_IN                        -0.3100   0.1632  -1.8995 0.0577 -0.6301  0.0101\n",
      "Home_Ownership_NONE              0.2738   0.1627   1.6823 0.0927 -0.0454  0.5929\n",
      "Inquiries_in_the_Last_6_Months   0.0357   0.0035  10.1283 0.0000  0.0288  0.0426\n",
      "Loan_Length                      0.0099   0.0004  23.1481 0.0000  0.0091  0.0108\n",
      "State_IA                        -0.1322   0.1631  -0.8107 0.4177 -0.4521  0.1877\n",
      "Loan_Purpose_major_purchase      0.0280   0.0252   1.1139 0.2655 -0.0213  0.0774\n",
      "--------------------------------------------------------------------------------\n",
      "Omnibus:                  77.490            Durbin-Watson:               2.003  \n",
      "Prob(Omnibus):            0.000             Jarque-Bera (JB):            228.958\n",
      "Skew:                     0.130             Prob(JB):                    0.000  \n",
      "Kurtosis:                 4.754             Condition No.:               863020 \n",
      "================================================================================\n",
      "* The condition number is large (9e+05). This might indicate             strong\n",
      "multicollinearity or other numerical problems.\n"
     ]
    }
   ],
   "source": [
    "print(model.summary2())"
   ]
  },
  {
   "cell_type": "code",
   "execution_count": 333,
   "metadata": {},
   "outputs": [],
   "source": [
    "### Iteration 4\n",
    "\n",
    "formula = 'ln_Interest_Rate~Loan_Purpose_other+Loan_Purpose_credit_card+State_MS+Amount_Funded_By_Investors+FICO_Avg+Debt_To_Income_Ratio+Loan_Purpose_home_improvement+Loan_Purpose_educational+State_SD+Loan_Purpose_moving+Loan_Purpose_house+Home_Ownership_RENT+Loan_Purpose_small_business+Amount_Requested+State_IN+Home_Ownership_NONE+Inquiries_in_the_Last_6_Months+Loan_Length+State_IA+Loan_Purpose_major_purchase'"
   ]
  },
  {
   "cell_type": "code",
   "execution_count": 334,
   "metadata": {},
   "outputs": [],
   "source": [
    "model = smf.ols(formula, data=train).fit()"
   ]
  },
  {
   "cell_type": "code",
   "execution_count": 335,
   "metadata": {},
   "outputs": [
    {
     "name": "stdout",
     "output_type": "stream",
     "text": [
      "                        Results: Ordinary least squares\n",
      "===============================================================================\n",
      "Model:                  OLS                  Adj. R-squared:         0.773     \n",
      "Dependent Variable:     ln_Interest_Rate     AIC:                    -1390.4950\n",
      "Date:                   2021-07-07 13:14     BIC:                    -1275.7042\n",
      "No. Observations:       1748                 Log-Likelihood:         716.25    \n",
      "Df Model:               20                   F-statistic:            298.0     \n",
      "Df Residuals:           1727                 Prob (F-statistic):     0.00      \n",
      "R-squared:              0.775                Scale:                  0.026114  \n",
      "-------------------------------------------------------------------------------\n",
      "                                Coef.  Std.Err.    t     P>|t|   [0.025  0.975]\n",
      "-------------------------------------------------------------------------------\n",
      "Intercept                       7.1477   0.0881  81.1032 0.0000  6.9749  7.3206\n",
      "Loan_Purpose_other              0.0567   0.0148   3.8290 0.0001  0.0276  0.0857\n",
      "Loan_Purpose_credit_card       -0.0196   0.0106  -1.8537 0.0640 -0.0404  0.0011\n",
      "State_MS                        0.1801   0.1620   1.1118 0.2664 -0.1376  0.4979\n",
      "Amount_Funded_By_Investors      0.0000   0.0000   2.1323 0.0331  0.0000  0.0000\n",
      "FICO_Avg                       -0.0074   0.0001 -62.0546 0.0000 -0.0076 -0.0071\n",
      "Debt_To_Income_Ratio           -0.0005   0.0005  -0.9308 0.3521 -0.0016  0.0006\n",
      "Loan_Purpose_home_improvement  -0.0260   0.0175  -1.4803 0.1390 -0.0604  0.0084\n",
      "Loan_Purpose_educational        0.0236   0.0440   0.5361 0.5920 -0.0627  0.1099\n",
      "State_SD                       -0.2364   0.1621  -1.4580 0.1450 -0.5544  0.0816\n",
      "Loan_Purpose_moving             0.0710   0.0377   1.8846 0.0597 -0.0029  0.1449\n",
      "Loan_Purpose_house              0.0540   0.0454   1.1900 0.2342 -0.0350  0.1429\n",
      "Home_Ownership_RENT             0.0210   0.0081   2.5942 0.0096  0.0051  0.0369\n",
      "Loan_Purpose_small_business     0.0340   0.0213   1.5968 0.1105 -0.0078  0.0758\n",
      "Amount_Requested                0.0000   0.0000   3.2437 0.0012  0.0000  0.0000\n",
      "State_IN                       -0.3093   0.1632  -1.8956 0.0582 -0.6293  0.0107\n",
      "Home_Ownership_NONE             0.2745   0.1627   1.6873 0.0917 -0.0446  0.5936\n",
      "Inquiries_in_the_Last_6_Months  0.0357   0.0035  10.1467 0.0000  0.0288  0.0426\n",
      "Loan_Length                     0.0099   0.0004  23.1622 0.0000  0.0091  0.0107\n",
      "State_IA                       -0.1391   0.1623  -0.8570 0.3916 -0.4575  0.1792\n",
      "Loan_Purpose_major_purchase     0.0215   0.0203   1.0566 0.2908 -0.0184  0.0613\n",
      "-------------------------------------------------------------------------------\n",
      "Omnibus:                   77.393           Durbin-Watson:              2.003  \n",
      "Prob(Omnibus):             0.000            Jarque-Bera (JB):           228.457\n",
      "Skew:                      0.130            Prob(JB):                   0.000  \n",
      "Kurtosis:                  4.752            Condition No.:              861471 \n",
      "===============================================================================\n",
      "* The condition number is large (9e+05). This might indicate             strong\n",
      "multicollinearity or other numerical problems.\n"
     ]
    }
   ],
   "source": [
    "print(model.summary2())"
   ]
  },
  {
   "cell_type": "code",
   "execution_count": 336,
   "metadata": {},
   "outputs": [],
   "source": [
    "### Iteration 5\n",
    "\n",
    "formula = 'ln_Interest_Rate~Loan_Purpose_other+Loan_Purpose_credit_card+State_MS+Amount_Funded_By_Investors+FICO_Avg+Debt_To_Income_Ratio+Loan_Purpose_home_improvement+State_SD+Loan_Purpose_moving+Loan_Purpose_house+Home_Ownership_RENT+Loan_Purpose_small_business+Amount_Requested+State_IN+Home_Ownership_NONE+Inquiries_in_the_Last_6_Months+Loan_Length+State_IA+Loan_Purpose_major_purchase'"
   ]
  },
  {
   "cell_type": "code",
   "execution_count": 337,
   "metadata": {},
   "outputs": [],
   "source": [
    "model = smf.ols(formula , data = train).fit()"
   ]
  },
  {
   "cell_type": "code",
   "execution_count": 338,
   "metadata": {},
   "outputs": [
    {
     "name": "stdout",
     "output_type": "stream",
     "text": [
      "                        Results: Ordinary least squares\n",
      "===============================================================================\n",
      "Model:                  OLS                  Adj. R-squared:         0.773     \n",
      "Dependent Variable:     ln_Interest_Rate     AIC:                    -1392.2041\n",
      "Date:                   2021-07-07 13:14     BIC:                    -1282.8795\n",
      "No. Observations:       1748                 Log-Likelihood:         716.10    \n",
      "Df Model:               19                   F-statistic:            313.8     \n",
      "Df Residuals:           1728                 Prob (F-statistic):     0.00      \n",
      "R-squared:              0.775                Scale:                  0.026103  \n",
      "-------------------------------------------------------------------------------\n",
      "                                Coef.  Std.Err.    t     P>|t|   [0.025  0.975]\n",
      "-------------------------------------------------------------------------------\n",
      "Intercept                       7.1470   0.0881  81.1215 0.0000  6.9742  7.3198\n",
      "Loan_Purpose_other              0.0562   0.0148   3.8037 0.0001  0.0272  0.0851\n",
      "Loan_Purpose_credit_card       -0.0199   0.0106  -1.8855 0.0595 -0.0407  0.0008\n",
      "State_MS                        0.1798   0.1620   1.1098 0.2673 -0.1379  0.4975\n",
      "Amount_Funded_By_Investors      0.0000   0.0000   2.1168 0.0344  0.0000  0.0000\n",
      "FICO_Avg                       -0.0074   0.0001 -62.0871 0.0000 -0.0076 -0.0071\n",
      "Debt_To_Income_Ratio           -0.0005   0.0005  -0.9740 0.3302 -0.0016  0.0005\n",
      "Loan_Purpose_home_improvement  -0.0265   0.0175  -1.5116 0.1308 -0.0608  0.0079\n",
      "State_SD                       -0.2360   0.1621  -1.4559 0.1456 -0.5539  0.0819\n",
      "Loan_Purpose_moving             0.0705   0.0377   1.8719 0.0614 -0.0034  0.1443\n",
      "Loan_Purpose_house              0.0534   0.0453   1.1790 0.2385 -0.0355  0.1424\n",
      "Home_Ownership_RENT             0.0211   0.0081   2.5962 0.0095  0.0051  0.0370\n",
      "Loan_Purpose_small_business     0.0336   0.0213   1.5775 0.1149 -0.0082  0.0753\n",
      "Amount_Requested                0.0000   0.0000   3.2498 0.0012  0.0000  0.0000\n",
      "State_IN                       -0.3106   0.1631  -1.9040 0.0571 -0.6305  0.0093\n",
      "Home_Ownership_NONE             0.2739   0.1626   1.6842 0.0923 -0.0451  0.5929\n",
      "Inquiries_in_the_Last_6_Months  0.0359   0.0035  10.2252 0.0000  0.0290  0.0427\n",
      "Loan_Length                     0.0099   0.0004  23.1680 0.0000  0.0091  0.0107\n",
      "State_IA                       -0.1403   0.1623  -0.8643 0.3875 -0.4585  0.1780\n",
      "Loan_Purpose_major_purchase     0.0209   0.0203   1.0302 0.3030 -0.0189  0.0606\n",
      "-------------------------------------------------------------------------------\n",
      "Omnibus:                   77.057           Durbin-Watson:              2.003  \n",
      "Prob(Omnibus):             0.000            Jarque-Bera (JB):           227.457\n",
      "Skew:                      0.128            Prob(JB):                   0.000  \n",
      "Kurtosis:                  4.749            Condition No.:              861287 \n",
      "===============================================================================\n",
      "* The condition number is large (9e+05). This might indicate             strong\n",
      "multicollinearity or other numerical problems.\n"
     ]
    }
   ],
   "source": [
    "print(model.summary2())"
   ]
  },
  {
   "cell_type": "code",
   "execution_count": 339,
   "metadata": {},
   "outputs": [],
   "source": [
    "### Iteration 6\n",
    "\n",
    "formula = 'ln_Interest_Rate~Loan_Purpose_other+Loan_Purpose_credit_card+State_MS+Amount_Funded_By_Investors+FICO_Avg+Debt_To_Income_Ratio+Loan_Purpose_home_improvement+State_SD+Loan_Purpose_moving+Loan_Purpose_house+Home_Ownership_RENT+Loan_Purpose_small_business+Amount_Requested+State_IN+Home_Ownership_NONE+Inquiries_in_the_Last_6_Months+Loan_Length+Loan_Purpose_major_purchase'"
   ]
  },
  {
   "cell_type": "code",
   "execution_count": 340,
   "metadata": {},
   "outputs": [],
   "source": [
    "model = smf.ols(formula , data = train).fit()"
   ]
  },
  {
   "cell_type": "code",
   "execution_count": 341,
   "metadata": {},
   "outputs": [
    {
     "name": "stdout",
     "output_type": "stream",
     "text": [
      "                        Results: Ordinary least squares\n",
      "===============================================================================\n",
      "Model:                  OLS                  Adj. R-squared:         0.773     \n",
      "Dependent Variable:     ln_Interest_Rate     AIC:                    -1393.4486\n",
      "Date:                   2021-07-07 13:14     BIC:                    -1289.5902\n",
      "No. Observations:       1748                 Log-Likelihood:         715.72    \n",
      "Df Model:               18                   F-statistic:            331.2     \n",
      "Df Residuals:           1729                 Prob (F-statistic):     0.00      \n",
      "R-squared:              0.775                Scale:                  0.026099  \n",
      "-------------------------------------------------------------------------------\n",
      "                                Coef.  Std.Err.    t     P>|t|   [0.025  0.975]\n",
      "-------------------------------------------------------------------------------\n",
      "Intercept                       7.1444   0.0880  81.1448 0.0000  6.9717  7.3171\n",
      "Loan_Purpose_other              0.0564   0.0148   3.8197 0.0001  0.0274  0.0853\n",
      "Loan_Purpose_credit_card       -0.0198   0.0106  -1.8723 0.0613 -0.0405  0.0009\n",
      "State_MS                        0.1803   0.1620   1.1128 0.2659 -0.1374  0.4979\n",
      "Amount_Funded_By_Investors      0.0000   0.0000   2.1400 0.0325  0.0000  0.0000\n",
      "FICO_Avg                       -0.0074   0.0001 -62.0930 0.0000 -0.0076 -0.0071\n",
      "Debt_To_Income_Ratio           -0.0005   0.0005  -0.9536 0.3404 -0.0016  0.0005\n",
      "Loan_Purpose_home_improvement  -0.0262   0.0175  -1.4980 0.1343 -0.0606  0.0081\n",
      "State_SD                       -0.2363   0.1621  -1.4578 0.1451 -0.5542  0.0816\n",
      "Loan_Purpose_moving             0.0706   0.0376   1.8760 0.0608 -0.0032  0.1445\n",
      "Loan_Purpose_house              0.0536   0.0453   1.1818 0.2374 -0.0353  0.1425\n",
      "Home_Ownership_RENT             0.0212   0.0081   2.6205 0.0089  0.0053  0.0371\n",
      "Loan_Purpose_small_business     0.0337   0.0213   1.5847 0.1132 -0.0080  0.0754\n",
      "Amount_Requested                0.0000   0.0000   3.2345 0.0012  0.0000  0.0000\n",
      "State_IN                       -0.3094   0.1631  -1.8970 0.0580 -0.6293  0.0105\n",
      "Home_Ownership_NONE             0.2739   0.1626   1.6843 0.0923 -0.0450  0.5929\n",
      "Inquiries_in_the_Last_6_Months  0.0357   0.0035  10.1930 0.0000  0.0288  0.0425\n",
      "Loan_Length                     0.0099   0.0004  23.1716 0.0000  0.0091  0.0107\n",
      "Loan_Purpose_major_purchase     0.0211   0.0203   1.0385 0.2992 -0.0187  0.0608\n",
      "-------------------------------------------------------------------------------\n",
      "Omnibus:                   76.831           Durbin-Watson:              2.003  \n",
      "Prob(Omnibus):             0.000            Jarque-Bera (JB):           226.197\n",
      "Skew:                      0.128            Prob(JB):                   0.000  \n",
      "Kurtosis:                  4.744            Condition No.:              858994 \n",
      "===============================================================================\n",
      "* The condition number is large (9e+05). This might indicate             strong\n",
      "multicollinearity or other numerical problems.\n"
     ]
    }
   ],
   "source": [
    "print(model.summary2())"
   ]
  },
  {
   "cell_type": "code",
   "execution_count": 342,
   "metadata": {},
   "outputs": [],
   "source": [
    "# After Final Iteration\n",
    "\n",
    "my_formula_last_iteration = 'ln_Interest_Rate~Loan_Length+FICO_Avg+Inquiries_in_the_Last_6_Months+Amount_Requested'"
   ]
  },
  {
   "cell_type": "code",
   "execution_count": 343,
   "metadata": {},
   "outputs": [
    {
     "name": "stdout",
     "output_type": "stream",
     "text": [
      "                        Results: Ordinary least squares\n",
      "===============================================================================\n",
      "Model:                  OLS                  Adj. R-squared:         0.767     \n",
      "Dependent Variable:     ln_Interest_Rate     AIC:                    -1361.7651\n",
      "Date:                   2021-07-07 13:14     BIC:                    -1334.4340\n",
      "No. Observations:       1748                 Log-Likelihood:         685.88    \n",
      "Df Model:               4                    F-statistic:            1437.     \n",
      "Df Residuals:           1743                 Prob (F-statistic):     0.00      \n",
      "R-squared:              0.767                Scale:                  0.026789  \n",
      "-------------------------------------------------------------------------------\n",
      "                                Coef.  Std.Err.    t     P>|t|   [0.025  0.975]\n",
      "-------------------------------------------------------------------------------\n",
      "Intercept                       7.1412   0.0817  87.4230 0.0000  6.9810  7.3015\n",
      "Loan_Length                     0.0102   0.0004  23.7083 0.0000  0.0093  0.0110\n",
      "FICO_Avg                       -0.0074   0.0001 -64.9747 0.0000 -0.0076 -0.0071\n",
      "Inquiries_in_the_Last_6_Months  0.0340   0.0035   9.7499 0.0000  0.0272  0.0408\n",
      "Amount_Requested                0.0000   0.0000  19.3068 0.0000  0.0000  0.0000\n",
      "-------------------------------------------------------------------------------\n",
      "Omnibus:                   88.114           Durbin-Watson:              2.000  \n",
      "Prob(Omnibus):             0.000            Jarque-Bera (JB):           285.531\n",
      "Skew:                      0.140            Prob(JB):                   0.000  \n",
      "Kurtosis:                  4.960            Condition No.:              304858 \n",
      "===============================================================================\n",
      "* The condition number is large (3e+05). This might indicate             strong\n",
      "multicollinearity or other numerical problems.\n"
     ]
    }
   ],
   "source": [
    "## Initalise the model and then fit the model\n",
    "\n",
    "model = smf.ols(my_formula_last_iteration, data=train).fit()\n",
    "\n",
    "print(model.summary2())"
   ]
  },
  {
   "cell_type": "markdown",
   "metadata": {},
   "source": [
    "# POST MODELING"
   ]
  },
  {
   "cell_type": "code",
   "execution_count": 344,
   "metadata": {},
   "outputs": [
    {
     "name": "stderr",
     "output_type": "stream",
     "text": [
      "<ipython-input-344-4fd07d83acde>:1: SettingWithCopyWarning: \n",
      "A value is trying to be set on a copy of a slice from a DataFrame.\n",
      "Try using .loc[row_indexer,col_indexer] = value instead\n",
      "\n",
      "See the caveats in the documentation: https://pandas.pydata.org/pandas-docs/stable/user_guide/indexing.html#returning-a-view-versus-a-copy\n",
      "  train['Interest_rate'] = np.exp(train.ln_Interest_Rate)\n"
     ]
    }
   ],
   "source": [
    "train['Interest_rate'] = np.exp(train.ln_Interest_Rate)"
   ]
  },
  {
   "cell_type": "code",
   "execution_count": 345,
   "metadata": {},
   "outputs": [
    {
     "name": "stderr",
     "output_type": "stream",
     "text": [
      "<ipython-input-345-07f26c582b25>:1: SettingWithCopyWarning: \n",
      "A value is trying to be set on a copy of a slice from a DataFrame.\n",
      "Try using .loc[row_indexer,col_indexer] = value instead\n",
      "\n",
      "See the caveats in the documentation: https://pandas.pydata.org/pandas-docs/stable/user_guide/indexing.html#returning-a-view-versus-a-copy\n",
      "  test['Interest_rate'] = np.exp(test.ln_Interest_Rate)\n"
     ]
    }
   ],
   "source": [
    "test['Interest_rate'] = np.exp(test.ln_Interest_Rate)"
   ]
  },
  {
   "cell_type": "code",
   "execution_count": 346,
   "metadata": {},
   "outputs": [
    {
     "name": "stderr",
     "output_type": "stream",
     "text": [
      "<ipython-input-346-66a7522add51>:1: SettingWithCopyWarning: \n",
      "A value is trying to be set on a copy of a slice from a DataFrame.\n",
      "Try using .loc[row_indexer,col_indexer] = value instead\n",
      "\n",
      "See the caveats in the documentation: https://pandas.pydata.org/pandas-docs/stable/user_guide/indexing.html#returning-a-view-versus-a-copy\n",
      "  train['pred'] = np.exp(model.predict(train))\n"
     ]
    }
   ],
   "source": [
    "train['pred'] = np.exp(model.predict(train))"
   ]
  },
  {
   "cell_type": "code",
   "execution_count": 347,
   "metadata": {},
   "outputs": [
    {
     "name": "stderr",
     "output_type": "stream",
     "text": [
      "<ipython-input-347-487a84dc77d4>:1: SettingWithCopyWarning: \n",
      "A value is trying to be set on a copy of a slice from a DataFrame.\n",
      "Try using .loc[row_indexer,col_indexer] = value instead\n",
      "\n",
      "See the caveats in the documentation: https://pandas.pydata.org/pandas-docs/stable/user_guide/indexing.html#returning-a-view-versus-a-copy\n",
      "  test['pred'] = np.exp(model.predict(test))\n"
     ]
    }
   ],
   "source": [
    "test['pred'] = np.exp(model.predict(test))"
   ]
  },
  {
   "cell_type": "code",
   "execution_count": 348,
   "metadata": {},
   "outputs": [],
   "source": [
    "del train['ln_Interest_Rate']"
   ]
  },
  {
   "cell_type": "code",
   "execution_count": 349,
   "metadata": {},
   "outputs": [],
   "source": [
    "del test['ln_Interest_Rate']"
   ]
  },
  {
   "cell_type": "code",
   "execution_count": 350,
   "metadata": {},
   "outputs": [
    {
     "data": {
      "text/html": [
       "<div>\n",
       "<style scoped>\n",
       "    .dataframe tbody tr th:only-of-type {\n",
       "        vertical-align: middle;\n",
       "    }\n",
       "\n",
       "    .dataframe tbody tr th {\n",
       "        vertical-align: top;\n",
       "    }\n",
       "\n",
       "    .dataframe thead th {\n",
       "        text-align: right;\n",
       "    }\n",
       "</style>\n",
       "<table border=\"1\" class=\"dataframe\">\n",
       "  <thead>\n",
       "    <tr style=\"text-align: right;\">\n",
       "      <th></th>\n",
       "      <th>Loan_Purpose_house</th>\n",
       "      <th>Loan_Purpose_debt_consolidation</th>\n",
       "      <th>Home_Ownership_OTHER</th>\n",
       "      <th>Loan_Purpose_major_purchase</th>\n",
       "      <th>State_IA</th>\n",
       "      <th>State_IN</th>\n",
       "      <th>Loan_Length</th>\n",
       "      <th>Amount_Funded_By_Investors</th>\n",
       "      <th>Loan_Purpose_credit_card</th>\n",
       "      <th>Inquiries_in_the_Last_6_Months</th>\n",
       "      <th>...</th>\n",
       "      <th>Debt_To_Income_Ratio</th>\n",
       "      <th>State_MT</th>\n",
       "      <th>Home_Ownership_NONE</th>\n",
       "      <th>FICO_Avg</th>\n",
       "      <th>Loan_Purpose_moving</th>\n",
       "      <th>Loan_Purpose_other</th>\n",
       "      <th>Loan_Purpose_educational</th>\n",
       "      <th>State_MS</th>\n",
       "      <th>Interest_rate</th>\n",
       "      <th>pred</th>\n",
       "    </tr>\n",
       "  </thead>\n",
       "  <tbody>\n",
       "    <tr>\n",
       "      <th>1782</th>\n",
       "      <td>0</td>\n",
       "      <td>0</td>\n",
       "      <td>0</td>\n",
       "      <td>0</td>\n",
       "      <td>0</td>\n",
       "      <td>0</td>\n",
       "      <td>36</td>\n",
       "      <td>7000.0</td>\n",
       "      <td>1</td>\n",
       "      <td>0.0</td>\n",
       "      <td>...</td>\n",
       "      <td>7.65</td>\n",
       "      <td>0</td>\n",
       "      <td>0</td>\n",
       "      <td>712.0</td>\n",
       "      <td>0</td>\n",
       "      <td>0</td>\n",
       "      <td>0</td>\n",
       "      <td>0</td>\n",
       "      <td>7.90</td>\n",
       "      <td>10.399536</td>\n",
       "    </tr>\n",
       "    <tr>\n",
       "      <th>1646</th>\n",
       "      <td>0</td>\n",
       "      <td>1</td>\n",
       "      <td>0</td>\n",
       "      <td>0</td>\n",
       "      <td>0</td>\n",
       "      <td>0</td>\n",
       "      <td>36</td>\n",
       "      <td>3000.0</td>\n",
       "      <td>0</td>\n",
       "      <td>0.0</td>\n",
       "      <td>...</td>\n",
       "      <td>12.85</td>\n",
       "      <td>0</td>\n",
       "      <td>0</td>\n",
       "      <td>732.0</td>\n",
       "      <td>0</td>\n",
       "      <td>0</td>\n",
       "      <td>0</td>\n",
       "      <td>0</td>\n",
       "      <td>7.14</td>\n",
       "      <td>8.600142</td>\n",
       "    </tr>\n",
       "    <tr>\n",
       "      <th>797</th>\n",
       "      <td>0</td>\n",
       "      <td>1</td>\n",
       "      <td>0</td>\n",
       "      <td>0</td>\n",
       "      <td>0</td>\n",
       "      <td>0</td>\n",
       "      <td>60</td>\n",
       "      <td>16750.0</td>\n",
       "      <td>0</td>\n",
       "      <td>0.0</td>\n",
       "      <td>...</td>\n",
       "      <td>21.88</td>\n",
       "      <td>0</td>\n",
       "      <td>0</td>\n",
       "      <td>667.0</td>\n",
       "      <td>0</td>\n",
       "      <td>0</td>\n",
       "      <td>0</td>\n",
       "      <td>0</td>\n",
       "      <td>21.48</td>\n",
       "      <td>20.509427</td>\n",
       "    </tr>\n",
       "    <tr>\n",
       "      <th>2269</th>\n",
       "      <td>0</td>\n",
       "      <td>0</td>\n",
       "      <td>0</td>\n",
       "      <td>0</td>\n",
       "      <td>0</td>\n",
       "      <td>0</td>\n",
       "      <td>60</td>\n",
       "      <td>7200.0</td>\n",
       "      <td>0</td>\n",
       "      <td>3.0</td>\n",
       "      <td>...</td>\n",
       "      <td>15.14</td>\n",
       "      <td>0</td>\n",
       "      <td>0</td>\n",
       "      <td>672.0</td>\n",
       "      <td>0</td>\n",
       "      <td>1</td>\n",
       "      <td>0</td>\n",
       "      <td>0</td>\n",
       "      <td>20.49</td>\n",
       "      <td>19.764953</td>\n",
       "    </tr>\n",
       "    <tr>\n",
       "      <th>2234</th>\n",
       "      <td>0</td>\n",
       "      <td>0</td>\n",
       "      <td>0</td>\n",
       "      <td>0</td>\n",
       "      <td>0</td>\n",
       "      <td>0</td>\n",
       "      <td>60</td>\n",
       "      <td>5975.0</td>\n",
       "      <td>0</td>\n",
       "      <td>0.0</td>\n",
       "      <td>...</td>\n",
       "      <td>6.60</td>\n",
       "      <td>0</td>\n",
       "      <td>0</td>\n",
       "      <td>662.0</td>\n",
       "      <td>0</td>\n",
       "      <td>0</td>\n",
       "      <td>0</td>\n",
       "      <td>0</td>\n",
       "      <td>17.14</td>\n",
       "      <td>18.966357</td>\n",
       "    </tr>\n",
       "  </tbody>\n",
       "</table>\n",
       "<p>5 rows × 25 columns</p>\n",
       "</div>"
      ],
      "text/plain": [
       "      Loan_Purpose_house  Loan_Purpose_debt_consolidation  \\\n",
       "1782                   0                                0   \n",
       "1646                   0                                1   \n",
       "797                    0                                1   \n",
       "2269                   0                                0   \n",
       "2234                   0                                0   \n",
       "\n",
       "      Home_Ownership_OTHER  Loan_Purpose_major_purchase  State_IA  State_IN  \\\n",
       "1782                     0                            0         0         0   \n",
       "1646                     0                            0         0         0   \n",
       "797                      0                            0         0         0   \n",
       "2269                     0                            0         0         0   \n",
       "2234                     0                            0         0         0   \n",
       "\n",
       "      Loan_Length  Amount_Funded_By_Investors  Loan_Purpose_credit_card  \\\n",
       "1782           36                      7000.0                         1   \n",
       "1646           36                      3000.0                         0   \n",
       "797            60                     16750.0                         0   \n",
       "2269           60                      7200.0                         0   \n",
       "2234           60                      5975.0                         0   \n",
       "\n",
       "      Inquiries_in_the_Last_6_Months  ...  Debt_To_Income_Ratio  State_MT  \\\n",
       "1782                             0.0  ...                  7.65         0   \n",
       "1646                             0.0  ...                 12.85         0   \n",
       "797                              0.0  ...                 21.88         0   \n",
       "2269                             3.0  ...                 15.14         0   \n",
       "2234                             0.0  ...                  6.60         0   \n",
       "\n",
       "      Home_Ownership_NONE  FICO_Avg  Loan_Purpose_moving  Loan_Purpose_other  \\\n",
       "1782                    0     712.0                    0                   0   \n",
       "1646                    0     732.0                    0                   0   \n",
       "797                     0     667.0                    0                   0   \n",
       "2269                    0     672.0                    0                   1   \n",
       "2234                    0     662.0                    0                   0   \n",
       "\n",
       "      Loan_Purpose_educational  State_MS  Interest_rate       pred  \n",
       "1782                         0         0           7.90  10.399536  \n",
       "1646                         0         0           7.14   8.600142  \n",
       "797                          0         0          21.48  20.509427  \n",
       "2269                         0         0          20.49  19.764953  \n",
       "2234                         0         0          17.14  18.966357  \n",
       "\n",
       "[5 rows x 25 columns]"
      ]
     },
     "execution_count": 350,
     "metadata": {},
     "output_type": "execute_result"
    }
   ],
   "source": [
    "train.head()"
   ]
  },
  {
   "cell_type": "code",
   "execution_count": 351,
   "metadata": {},
   "outputs": [
    {
     "data": {
      "text/html": [
       "<div>\n",
       "<style scoped>\n",
       "    .dataframe tbody tr th:only-of-type {\n",
       "        vertical-align: middle;\n",
       "    }\n",
       "\n",
       "    .dataframe tbody tr th {\n",
       "        vertical-align: top;\n",
       "    }\n",
       "\n",
       "    .dataframe thead th {\n",
       "        text-align: right;\n",
       "    }\n",
       "</style>\n",
       "<table border=\"1\" class=\"dataframe\">\n",
       "  <thead>\n",
       "    <tr style=\"text-align: right;\">\n",
       "      <th></th>\n",
       "      <th>Loan_Purpose_house</th>\n",
       "      <th>Loan_Purpose_debt_consolidation</th>\n",
       "      <th>Home_Ownership_OTHER</th>\n",
       "      <th>Loan_Purpose_major_purchase</th>\n",
       "      <th>State_IA</th>\n",
       "      <th>State_IN</th>\n",
       "      <th>Loan_Length</th>\n",
       "      <th>Amount_Funded_By_Investors</th>\n",
       "      <th>Loan_Purpose_credit_card</th>\n",
       "      <th>Inquiries_in_the_Last_6_Months</th>\n",
       "      <th>...</th>\n",
       "      <th>Debt_To_Income_Ratio</th>\n",
       "      <th>State_MT</th>\n",
       "      <th>Home_Ownership_NONE</th>\n",
       "      <th>FICO_Avg</th>\n",
       "      <th>Loan_Purpose_moving</th>\n",
       "      <th>Loan_Purpose_other</th>\n",
       "      <th>Loan_Purpose_educational</th>\n",
       "      <th>State_MS</th>\n",
       "      <th>Interest_rate</th>\n",
       "      <th>pred</th>\n",
       "    </tr>\n",
       "  </thead>\n",
       "  <tbody>\n",
       "    <tr>\n",
       "      <th>1239</th>\n",
       "      <td>0</td>\n",
       "      <td>0</td>\n",
       "      <td>0</td>\n",
       "      <td>0</td>\n",
       "      <td>0</td>\n",
       "      <td>0</td>\n",
       "      <td>36</td>\n",
       "      <td>30225.0000</td>\n",
       "      <td>1</td>\n",
       "      <td>0.0</td>\n",
       "      <td>...</td>\n",
       "      <td>28.150</td>\n",
       "      <td>0</td>\n",
       "      <td>0</td>\n",
       "      <td>712.0</td>\n",
       "      <td>0</td>\n",
       "      <td>0</td>\n",
       "      <td>0</td>\n",
       "      <td>0</td>\n",
       "      <td>17.77</td>\n",
       "      <td>13.333052</td>\n",
       "    </tr>\n",
       "    <tr>\n",
       "      <th>2065</th>\n",
       "      <td>0</td>\n",
       "      <td>0</td>\n",
       "      <td>0</td>\n",
       "      <td>0</td>\n",
       "      <td>0</td>\n",
       "      <td>0</td>\n",
       "      <td>60</td>\n",
       "      <td>29175.0000</td>\n",
       "      <td>1</td>\n",
       "      <td>2.0</td>\n",
       "      <td>...</td>\n",
       "      <td>8.830</td>\n",
       "      <td>0</td>\n",
       "      <td>0</td>\n",
       "      <td>697.0</td>\n",
       "      <td>0</td>\n",
       "      <td>0</td>\n",
       "      <td>0</td>\n",
       "      <td>0</td>\n",
       "      <td>21.00</td>\n",
       "      <td>20.106419</td>\n",
       "    </tr>\n",
       "    <tr>\n",
       "      <th>2441</th>\n",
       "      <td>0</td>\n",
       "      <td>0</td>\n",
       "      <td>0</td>\n",
       "      <td>0</td>\n",
       "      <td>0</td>\n",
       "      <td>0</td>\n",
       "      <td>60</td>\n",
       "      <td>12000.0000</td>\n",
       "      <td>1</td>\n",
       "      <td>0.0</td>\n",
       "      <td>...</td>\n",
       "      <td>9.550</td>\n",
       "      <td>0</td>\n",
       "      <td>0</td>\n",
       "      <td>707.0</td>\n",
       "      <td>0</td>\n",
       "      <td>0</td>\n",
       "      <td>0</td>\n",
       "      <td>0</td>\n",
       "      <td>12.68</td>\n",
       "      <td>14.522388</td>\n",
       "    </tr>\n",
       "    <tr>\n",
       "      <th>2096</th>\n",
       "      <td>0</td>\n",
       "      <td>1</td>\n",
       "      <td>0</td>\n",
       "      <td>0</td>\n",
       "      <td>0</td>\n",
       "      <td>0</td>\n",
       "      <td>60</td>\n",
       "      <td>14450.0000</td>\n",
       "      <td>0</td>\n",
       "      <td>0.0</td>\n",
       "      <td>...</td>\n",
       "      <td>8.080</td>\n",
       "      <td>0</td>\n",
       "      <td>0</td>\n",
       "      <td>767.0</td>\n",
       "      <td>0</td>\n",
       "      <td>0</td>\n",
       "      <td>0</td>\n",
       "      <td>0</td>\n",
       "      <td>9.99</td>\n",
       "      <td>10.617680</td>\n",
       "    </tr>\n",
       "    <tr>\n",
       "      <th>289</th>\n",
       "      <td>0</td>\n",
       "      <td>0</td>\n",
       "      <td>0</td>\n",
       "      <td>0</td>\n",
       "      <td>0</td>\n",
       "      <td>0</td>\n",
       "      <td>36</td>\n",
       "      <td>996.6912</td>\n",
       "      <td>0</td>\n",
       "      <td>1.0</td>\n",
       "      <td>...</td>\n",
       "      <td>0.716</td>\n",
       "      <td>0</td>\n",
       "      <td>0</td>\n",
       "      <td>732.0</td>\n",
       "      <td>0</td>\n",
       "      <td>0</td>\n",
       "      <td>0</td>\n",
       "      <td>0</td>\n",
       "      <td>10.36</td>\n",
       "      <td>8.755915</td>\n",
       "    </tr>\n",
       "  </tbody>\n",
       "</table>\n",
       "<p>5 rows × 25 columns</p>\n",
       "</div>"
      ],
      "text/plain": [
       "      Loan_Purpose_house  Loan_Purpose_debt_consolidation  \\\n",
       "1239                   0                                0   \n",
       "2065                   0                                0   \n",
       "2441                   0                                0   \n",
       "2096                   0                                1   \n",
       "289                    0                                0   \n",
       "\n",
       "      Home_Ownership_OTHER  Loan_Purpose_major_purchase  State_IA  State_IN  \\\n",
       "1239                     0                            0         0         0   \n",
       "2065                     0                            0         0         0   \n",
       "2441                     0                            0         0         0   \n",
       "2096                     0                            0         0         0   \n",
       "289                      0                            0         0         0   \n",
       "\n",
       "      Loan_Length  Amount_Funded_By_Investors  Loan_Purpose_credit_card  \\\n",
       "1239           36                  30225.0000                         1   \n",
       "2065           60                  29175.0000                         1   \n",
       "2441           60                  12000.0000                         1   \n",
       "2096           60                  14450.0000                         0   \n",
       "289            36                    996.6912                         0   \n",
       "\n",
       "      Inquiries_in_the_Last_6_Months  ...  Debt_To_Income_Ratio  State_MT  \\\n",
       "1239                             0.0  ...                28.150         0   \n",
       "2065                             2.0  ...                 8.830         0   \n",
       "2441                             0.0  ...                 9.550         0   \n",
       "2096                             0.0  ...                 8.080         0   \n",
       "289                              1.0  ...                 0.716         0   \n",
       "\n",
       "      Home_Ownership_NONE  FICO_Avg  Loan_Purpose_moving  Loan_Purpose_other  \\\n",
       "1239                    0     712.0                    0                   0   \n",
       "2065                    0     697.0                    0                   0   \n",
       "2441                    0     707.0                    0                   0   \n",
       "2096                    0     767.0                    0                   0   \n",
       "289                     0     732.0                    0                   0   \n",
       "\n",
       "      Loan_Purpose_educational  State_MS  Interest_rate       pred  \n",
       "1239                         0         0          17.77  13.333052  \n",
       "2065                         0         0          21.00  20.106419  \n",
       "2441                         0         0          12.68  14.522388  \n",
       "2096                         0         0           9.99  10.617680  \n",
       "289                          0         0          10.36   8.755915  \n",
       "\n",
       "[5 rows x 25 columns]"
      ]
     },
     "execution_count": 351,
     "metadata": {},
     "output_type": "execute_result"
    }
   ],
   "source": [
    "test.head()"
   ]
  },
  {
   "cell_type": "markdown",
   "metadata": {},
   "source": [
    "# MODEL EVALUATION"
   ]
  },
  {
   "cell_type": "code",
   "execution_count": 352,
   "metadata": {},
   "outputs": [],
   "source": [
    "# MAPE = Mean Absolute Percentage Error (It gives us the error in the model and is between 0 to 1.)\n",
    "# RMSE = Root Mean Squared Error"
   ]
  },
  {
   "cell_type": "code",
   "execution_count": 353,
   "metadata": {},
   "outputs": [],
   "source": [
    "from sklearn import metrics\n",
    "import scipy.stats as stats"
   ]
  },
  {
   "cell_type": "markdown",
   "metadata": {},
   "source": [
    "##### Evaluation on the Train Dataset"
   ]
  },
  {
   "cell_type": "code",
   "execution_count": 354,
   "metadata": {},
   "outputs": [
    {
     "name": "stdout",
     "output_type": "stream",
     "text": [
      "MAPE_train 12.31\n",
      "MSE_train 3.8111909322902537\n",
      "Corr_train (0.8838238548646759, 0.0)\n"
     ]
    }
   ],
   "source": [
    "MAPE_train = round(np.mean(np.abs((train.Interest_rate - train.pred)/train.Interest_rate))*100,2)\n",
    "print('MAPE_train',MAPE_train)\n",
    "\n",
    "MSE_train = metrics.mean_squared_error(train.Interest_rate , train.pred)\n",
    "print('MSE_train',MSE_train)\n",
    "\n",
    "Corr_train = stats.stats.pearsonr(train.Interest_rate , train.pred)\n",
    "print('Corr_train',Corr_train)"
   ]
  },
  {
   "cell_type": "markdown",
   "metadata": {},
   "source": [
    "##### Evaluation on the Test Dataset"
   ]
  },
  {
   "cell_type": "code",
   "execution_count": 355,
   "metadata": {},
   "outputs": [
    {
     "name": "stdout",
     "output_type": "stream",
     "text": [
      "MAPE_train 12.16\n",
      "MSE_train 4.021787623904999\n",
      "Corr_train (0.881486692938974, 5.912819521357052e-246)\n"
     ]
    }
   ],
   "source": [
    "MAPE_test = round(np.mean(np.abs((test.Interest_rate - test.pred)/test.Interest_rate))*100,2)\n",
    "print('MAPE_train',MAPE_test)\n",
    "\n",
    "MSE_test = metrics.mean_squared_error(test.Interest_rate , test.pred)\n",
    "print('MSE_train',MSE_test)\n",
    "\n",
    "Corr_test = stats.stats.pearsonr(test.Interest_rate , test.pred)\n",
    "print('Corr_train',Corr_test)"
   ]
  },
  {
   "cell_type": "markdown",
   "metadata": {},
   "source": [
    "#### Decile Analysis"
   ]
  },
  {
   "cell_type": "markdown",
   "metadata": {},
   "source": [
    "###### (train)"
   ]
  },
  {
   "cell_type": "code",
   "execution_count": 356,
   "metadata": {},
   "outputs": [
    {
     "name": "stderr",
     "output_type": "stream",
     "text": [
      "<ipython-input-356-70aff5b02dab>:1: SettingWithCopyWarning: \n",
      "A value is trying to be set on a copy of a slice from a DataFrame.\n",
      "Try using .loc[row_indexer,col_indexer] = value instead\n",
      "\n",
      "See the caveats in the documentation: https://pandas.pydata.org/pandas-docs/stable/user_guide/indexing.html#returning-a-view-versus-a-copy\n",
      "  train['Deciles'] = pd.qcut(train['pred'] , 10 , labels = False)\n"
     ]
    }
   ],
   "source": [
    "train['Deciles'] = pd.qcut(train['pred'] , 10 , labels = False)"
   ]
  },
  {
   "cell_type": "code",
   "execution_count": 357,
   "metadata": {},
   "outputs": [
    {
     "data": {
      "text/html": [
       "<div>\n",
       "<style scoped>\n",
       "    .dataframe tbody tr th:only-of-type {\n",
       "        vertical-align: middle;\n",
       "    }\n",
       "\n",
       "    .dataframe tbody tr th {\n",
       "        vertical-align: top;\n",
       "    }\n",
       "\n",
       "    .dataframe thead th {\n",
       "        text-align: right;\n",
       "    }\n",
       "</style>\n",
       "<table border=\"1\" class=\"dataframe\">\n",
       "  <thead>\n",
       "    <tr style=\"text-align: right;\">\n",
       "      <th></th>\n",
       "      <th>Loan_Purpose_house</th>\n",
       "      <th>Loan_Purpose_debt_consolidation</th>\n",
       "      <th>Home_Ownership_OTHER</th>\n",
       "      <th>Loan_Purpose_major_purchase</th>\n",
       "      <th>State_IA</th>\n",
       "      <th>State_IN</th>\n",
       "      <th>Loan_Length</th>\n",
       "      <th>Amount_Funded_By_Investors</th>\n",
       "      <th>Loan_Purpose_credit_card</th>\n",
       "      <th>Inquiries_in_the_Last_6_Months</th>\n",
       "      <th>...</th>\n",
       "      <th>State_MT</th>\n",
       "      <th>Home_Ownership_NONE</th>\n",
       "      <th>FICO_Avg</th>\n",
       "      <th>Loan_Purpose_moving</th>\n",
       "      <th>Loan_Purpose_other</th>\n",
       "      <th>Loan_Purpose_educational</th>\n",
       "      <th>State_MS</th>\n",
       "      <th>Interest_rate</th>\n",
       "      <th>pred</th>\n",
       "      <th>Deciles</th>\n",
       "    </tr>\n",
       "  </thead>\n",
       "  <tbody>\n",
       "    <tr>\n",
       "      <th>1782</th>\n",
       "      <td>0</td>\n",
       "      <td>0</td>\n",
       "      <td>0</td>\n",
       "      <td>0</td>\n",
       "      <td>0</td>\n",
       "      <td>0</td>\n",
       "      <td>36</td>\n",
       "      <td>7000.0</td>\n",
       "      <td>1</td>\n",
       "      <td>0.0</td>\n",
       "      <td>...</td>\n",
       "      <td>0</td>\n",
       "      <td>0</td>\n",
       "      <td>712.0</td>\n",
       "      <td>0</td>\n",
       "      <td>0</td>\n",
       "      <td>0</td>\n",
       "      <td>0</td>\n",
       "      <td>7.90</td>\n",
       "      <td>10.399536</td>\n",
       "      <td>2</td>\n",
       "    </tr>\n",
       "    <tr>\n",
       "      <th>1646</th>\n",
       "      <td>0</td>\n",
       "      <td>1</td>\n",
       "      <td>0</td>\n",
       "      <td>0</td>\n",
       "      <td>0</td>\n",
       "      <td>0</td>\n",
       "      <td>36</td>\n",
       "      <td>3000.0</td>\n",
       "      <td>0</td>\n",
       "      <td>0.0</td>\n",
       "      <td>...</td>\n",
       "      <td>0</td>\n",
       "      <td>0</td>\n",
       "      <td>732.0</td>\n",
       "      <td>0</td>\n",
       "      <td>0</td>\n",
       "      <td>0</td>\n",
       "      <td>0</td>\n",
       "      <td>7.14</td>\n",
       "      <td>8.600142</td>\n",
       "      <td>1</td>\n",
       "    </tr>\n",
       "    <tr>\n",
       "      <th>797</th>\n",
       "      <td>0</td>\n",
       "      <td>1</td>\n",
       "      <td>0</td>\n",
       "      <td>0</td>\n",
       "      <td>0</td>\n",
       "      <td>0</td>\n",
       "      <td>60</td>\n",
       "      <td>16750.0</td>\n",
       "      <td>0</td>\n",
       "      <td>0.0</td>\n",
       "      <td>...</td>\n",
       "      <td>0</td>\n",
       "      <td>0</td>\n",
       "      <td>667.0</td>\n",
       "      <td>0</td>\n",
       "      <td>0</td>\n",
       "      <td>0</td>\n",
       "      <td>0</td>\n",
       "      <td>21.48</td>\n",
       "      <td>20.509427</td>\n",
       "      <td>9</td>\n",
       "    </tr>\n",
       "    <tr>\n",
       "      <th>2269</th>\n",
       "      <td>0</td>\n",
       "      <td>0</td>\n",
       "      <td>0</td>\n",
       "      <td>0</td>\n",
       "      <td>0</td>\n",
       "      <td>0</td>\n",
       "      <td>60</td>\n",
       "      <td>7200.0</td>\n",
       "      <td>0</td>\n",
       "      <td>3.0</td>\n",
       "      <td>...</td>\n",
       "      <td>0</td>\n",
       "      <td>0</td>\n",
       "      <td>672.0</td>\n",
       "      <td>0</td>\n",
       "      <td>1</td>\n",
       "      <td>0</td>\n",
       "      <td>0</td>\n",
       "      <td>20.49</td>\n",
       "      <td>19.764953</td>\n",
       "      <td>9</td>\n",
       "    </tr>\n",
       "    <tr>\n",
       "      <th>2234</th>\n",
       "      <td>0</td>\n",
       "      <td>0</td>\n",
       "      <td>0</td>\n",
       "      <td>0</td>\n",
       "      <td>0</td>\n",
       "      <td>0</td>\n",
       "      <td>60</td>\n",
       "      <td>5975.0</td>\n",
       "      <td>0</td>\n",
       "      <td>0.0</td>\n",
       "      <td>...</td>\n",
       "      <td>0</td>\n",
       "      <td>0</td>\n",
       "      <td>662.0</td>\n",
       "      <td>0</td>\n",
       "      <td>0</td>\n",
       "      <td>0</td>\n",
       "      <td>0</td>\n",
       "      <td>17.14</td>\n",
       "      <td>18.966357</td>\n",
       "      <td>9</td>\n",
       "    </tr>\n",
       "  </tbody>\n",
       "</table>\n",
       "<p>5 rows × 26 columns</p>\n",
       "</div>"
      ],
      "text/plain": [
       "      Loan_Purpose_house  Loan_Purpose_debt_consolidation  \\\n",
       "1782                   0                                0   \n",
       "1646                   0                                1   \n",
       "797                    0                                1   \n",
       "2269                   0                                0   \n",
       "2234                   0                                0   \n",
       "\n",
       "      Home_Ownership_OTHER  Loan_Purpose_major_purchase  State_IA  State_IN  \\\n",
       "1782                     0                            0         0         0   \n",
       "1646                     0                            0         0         0   \n",
       "797                      0                            0         0         0   \n",
       "2269                     0                            0         0         0   \n",
       "2234                     0                            0         0         0   \n",
       "\n",
       "      Loan_Length  Amount_Funded_By_Investors  Loan_Purpose_credit_card  \\\n",
       "1782           36                      7000.0                         1   \n",
       "1646           36                      3000.0                         0   \n",
       "797            60                     16750.0                         0   \n",
       "2269           60                      7200.0                         0   \n",
       "2234           60                      5975.0                         0   \n",
       "\n",
       "      Inquiries_in_the_Last_6_Months  ...  State_MT  Home_Ownership_NONE  \\\n",
       "1782                             0.0  ...         0                    0   \n",
       "1646                             0.0  ...         0                    0   \n",
       "797                              0.0  ...         0                    0   \n",
       "2269                             3.0  ...         0                    0   \n",
       "2234                             0.0  ...         0                    0   \n",
       "\n",
       "      FICO_Avg  Loan_Purpose_moving  Loan_Purpose_other  \\\n",
       "1782     712.0                    0                   0   \n",
       "1646     732.0                    0                   0   \n",
       "797      667.0                    0                   0   \n",
       "2269     672.0                    0                   1   \n",
       "2234     662.0                    0                   0   \n",
       "\n",
       "      Loan_Purpose_educational  State_MS  Interest_rate       pred  Deciles  \n",
       "1782                         0         0           7.90  10.399536        2  \n",
       "1646                         0         0           7.14   8.600142        1  \n",
       "797                          0         0          21.48  20.509427        9  \n",
       "2269                         0         0          20.49  19.764953        9  \n",
       "2234                         0         0          17.14  18.966357        9  \n",
       "\n",
       "[5 rows x 26 columns]"
      ]
     },
     "execution_count": 357,
     "metadata": {},
     "output_type": "execute_result"
    }
   ],
   "source": [
    "train.head()"
   ]
  },
  {
   "cell_type": "code",
   "execution_count": 358,
   "metadata": {},
   "outputs": [],
   "source": [
    "avg_actual = train[['Deciles','Interest_rate']].groupby(train.Deciles).mean().sort_index(ascending=False)['Interest_rate']"
   ]
  },
  {
   "cell_type": "code",
   "execution_count": 359,
   "metadata": {},
   "outputs": [],
   "source": [
    "avg_pred = train[['Deciles','pred']].groupby(train.Deciles).mean().sort_index(ascending=False)['pred']"
   ]
  },
  {
   "cell_type": "code",
   "execution_count": 360,
   "metadata": {},
   "outputs": [],
   "source": [
    "Decile_analysis_train = pd.concat([avg_actual, avg_pred], axis=1)"
   ]
  },
  {
   "cell_type": "code",
   "execution_count": 361,
   "metadata": {},
   "outputs": [],
   "source": [
    "Decile_analysis_train = Decile_analysis_train.reset_index()"
   ]
  },
  {
   "cell_type": "code",
   "execution_count": 362,
   "metadata": {},
   "outputs": [
    {
     "data": {
      "text/html": [
       "<div>\n",
       "<style scoped>\n",
       "    .dataframe tbody tr th:only-of-type {\n",
       "        vertical-align: middle;\n",
       "    }\n",
       "\n",
       "    .dataframe tbody tr th {\n",
       "        vertical-align: top;\n",
       "    }\n",
       "\n",
       "    .dataframe thead th {\n",
       "        text-align: right;\n",
       "    }\n",
       "</style>\n",
       "<table border=\"1\" class=\"dataframe\">\n",
       "  <thead>\n",
       "    <tr style=\"text-align: right;\">\n",
       "      <th></th>\n",
       "      <th>Deciles</th>\n",
       "      <th>Interest_rate</th>\n",
       "      <th>pred</th>\n",
       "    </tr>\n",
       "  </thead>\n",
       "  <tbody>\n",
       "    <tr>\n",
       "      <th>0</th>\n",
       "      <td>9</td>\n",
       "      <td>19.781429</td>\n",
       "      <td>20.182005</td>\n",
       "    </tr>\n",
       "    <tr>\n",
       "      <th>1</th>\n",
       "      <td>8</td>\n",
       "      <td>16.740914</td>\n",
       "      <td>16.326958</td>\n",
       "    </tr>\n",
       "    <tr>\n",
       "      <th>2</th>\n",
       "      <td>7</td>\n",
       "      <td>15.679714</td>\n",
       "      <td>14.978060</td>\n",
       "    </tr>\n",
       "    <tr>\n",
       "      <th>3</th>\n",
       "      <td>6</td>\n",
       "      <td>14.798046</td>\n",
       "      <td>14.133379</td>\n",
       "    </tr>\n",
       "    <tr>\n",
       "      <th>4</th>\n",
       "      <td>5</td>\n",
       "      <td>13.701600</td>\n",
       "      <td>13.272129</td>\n",
       "    </tr>\n",
       "    <tr>\n",
       "      <th>5</th>\n",
       "      <td>4</td>\n",
       "      <td>12.642286</td>\n",
       "      <td>12.374068</td>\n",
       "    </tr>\n",
       "    <tr>\n",
       "      <th>6</th>\n",
       "      <td>3</td>\n",
       "      <td>11.244253</td>\n",
       "      <td>11.332660</td>\n",
       "    </tr>\n",
       "    <tr>\n",
       "      <th>7</th>\n",
       "      <td>2</td>\n",
       "      <td>9.732743</td>\n",
       "      <td>10.256884</td>\n",
       "    </tr>\n",
       "    <tr>\n",
       "      <th>8</th>\n",
       "      <td>1</td>\n",
       "      <td>8.605143</td>\n",
       "      <td>8.982590</td>\n",
       "    </tr>\n",
       "    <tr>\n",
       "      <th>9</th>\n",
       "      <td>0</td>\n",
       "      <td>7.485086</td>\n",
       "      <td>7.000207</td>\n",
       "    </tr>\n",
       "  </tbody>\n",
       "</table>\n",
       "</div>"
      ],
      "text/plain": [
       "   Deciles  Interest_rate       pred\n",
       "0        9      19.781429  20.182005\n",
       "1        8      16.740914  16.326958\n",
       "2        7      15.679714  14.978060\n",
       "3        6      14.798046  14.133379\n",
       "4        5      13.701600  13.272129\n",
       "5        4      12.642286  12.374068\n",
       "6        3      11.244253  11.332660\n",
       "7        2       9.732743  10.256884\n",
       "8        1       8.605143   8.982590\n",
       "9        0       7.485086   7.000207"
      ]
     },
     "execution_count": 362,
     "metadata": {},
     "output_type": "execute_result"
    }
   ],
   "source": [
    "Decile_analysis_train"
   ]
  },
  {
   "cell_type": "markdown",
   "metadata": {},
   "source": [
    "###### (test)"
   ]
  },
  {
   "cell_type": "code",
   "execution_count": 363,
   "metadata": {},
   "outputs": [
    {
     "name": "stderr",
     "output_type": "stream",
     "text": [
      "<ipython-input-363-b288b5cb4552>:1: SettingWithCopyWarning: \n",
      "A value is trying to be set on a copy of a slice from a DataFrame.\n",
      "Try using .loc[row_indexer,col_indexer] = value instead\n",
      "\n",
      "See the caveats in the documentation: https://pandas.pydata.org/pandas-docs/stable/user_guide/indexing.html#returning-a-view-versus-a-copy\n",
      "  test['Deciles'] = pd.qcut(test['pred'] , 10 , labels = False)\n"
     ]
    }
   ],
   "source": [
    "test['Deciles'] = pd.qcut(test['pred'] , 10 , labels = False)"
   ]
  },
  {
   "cell_type": "code",
   "execution_count": 364,
   "metadata": {},
   "outputs": [],
   "source": [
    "avg_pred = test[['Deciles','pred']].groupby(test.Deciles).mean().sort_index(ascending=False)['pred']"
   ]
  },
  {
   "cell_type": "code",
   "execution_count": 365,
   "metadata": {},
   "outputs": [],
   "source": [
    "Decile_analysis_test = pd.concat([avg_actual, avg_pred], axis=1)"
   ]
  },
  {
   "cell_type": "code",
   "execution_count": 368,
   "metadata": {},
   "outputs": [],
   "source": [
    "Decile_analysis_test = Decile_analysis_test.reset_index()"
   ]
  },
  {
   "cell_type": "code",
   "execution_count": 3,
   "metadata": {},
   "outputs": [
    {
     "ename": "NameError",
     "evalue": "name 'Decile_analysis_test' is not defined",
     "output_type": "error",
     "traceback": [
      "\u001b[1;31m---------------------------------------------------------------------------\u001b[0m",
      "\u001b[1;31mNameError\u001b[0m                                 Traceback (most recent call last)",
      "Input \u001b[1;32mIn [3]\u001b[0m, in \u001b[0;36m<cell line: 1>\u001b[1;34m()\u001b[0m\n\u001b[1;32m----> 1\u001b[0m \u001b[43mDecile_analysis_test\u001b[49m\n",
      "\u001b[1;31mNameError\u001b[0m: name 'Decile_analysis_test' is not defined"
     ]
    }
   ],
   "source": [
    "Decile_analysis_test"
   ]
  },
  {
   "cell_type": "code",
   "execution_count": 20,
   "metadata": {},
   "outputs": [
    {
     "name": "stdout",
     "output_type": "stream",
     "text": [
      "5\n"
     ]
    }
   ],
   "source": []
  },
  {
   "cell_type": "code",
   "execution_count": 16,
   "metadata": {},
   "outputs": [
    {
     "data": {
      "text/plain": [
       "2853783"
      ]
     },
     "execution_count": 16,
     "metadata": {},
     "output_type": "execute_result"
    }
   ],
   "source": []
  },
  {
   "cell_type": "code",
   "execution_count": 4,
   "metadata": {},
   "outputs": [
    {
     "data": {
      "text/plain": [
       "1"
      ]
     },
     "execution_count": 4,
     "metadata": {},
     "output_type": "execute_result"
    }
   ],
   "source": []
  },
  {
   "cell_type": "code",
   "execution_count": null,
   "metadata": {},
   "outputs": [],
   "source": []
  }
 ],
 "metadata": {
  "kernelspec": {
   "display_name": "Python 3 (ipykernel)",
   "language": "python",
   "name": "python3"
  },
  "language_info": {
   "codemirror_mode": {
    "name": "ipython",
    "version": 3
   },
   "file_extension": ".py",
   "mimetype": "text/x-python",
   "name": "python",
   "nbconvert_exporter": "python",
   "pygments_lexer": "ipython3",
   "version": "3.9.12"
  }
 },
 "nbformat": 4,
 "nbformat_minor": 4
}
